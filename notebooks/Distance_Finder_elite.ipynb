{
 "cells": [
  {
   "cell_type": "code",
   "execution_count": 1,
   "metadata": {
    "collapsed": true
   },
   "outputs": [],
   "source": [
    "%load_ext autoreload\n",
    "%autoreload 2\n",
    "from tf_activation import DeepGraph\n",
    "from tf_activation.models import mnist_cff as mnist_model\n",
    "\n",
    "import math\n",
    "import random\n",
    "import os\n",
    "\n",
    "import networkx as nx\n",
    "import tensorflow as tf\n",
    "import numpy as np\n",
    "import pandas as pd\n",
    "from sklearn import datasets, linear_model\n",
    "from sklearn.metrics import r2_score\n",
    "%matplotlib inline\n",
    "import matplotlib.pyplot as plt\n",
    "\n",
    "from tensorflow.examples.tutorials.mnist import input_data"
   ]
  },
  {
   "cell_type": "code",
   "execution_count": 2,
   "metadata": {},
   "outputs": [
    {
     "name": "stdout",
     "output_type": "stream",
     "text": [
      "Extracting MNIST_data/train-images-idx3-ubyte.gz\n",
      "Extracting MNIST_data/train-labels-idx1-ubyte.gz\n",
      "Extracting MNIST_data/t10k-images-idx3-ubyte.gz\n",
      "Extracting MNIST_data/t10k-labels-idx1-ubyte.gz\n"
     ]
    }
   ],
   "source": [
    "mnist_map = {\n",
    "    0: 3,\n",
    "    1: 2,\n",
    "    2: 1,\n",
    "    3: 18,\n",
    "    4: 4,\n",
    "    5: 8,\n",
    "    6: 11,\n",
    "    7: 0,\n",
    "    8: 61,\n",
    "    9: 7\n",
    "}\n",
    "\n",
    "SAVE_PATH = '../logdir/models'\n",
    "ADV_PATH = '../logdir/adversaries'\n",
    "ELITE_PATH = '../logdir/elites'\n",
    "DATA_PATH = '../logdir/data'\n",
    "\n",
    "\n",
    "mnist = input_data.read_data_sets('MNIST_data', one_hot=True)\n",
    "\n",
    "config = tf.ConfigProto()\n",
    "config.gpu_options.per_process_gpu_memory_fraction = 0.5\n",
    "config.gpu_options.allocator_type = 'BFC'\n",
    "config.log_device_placement = True\n",
    "\n",
    "persistence_module = tf.load_op_library('/home/tgebhart/Projects/tensorflow/bazel-bin/tensorflow/core/user_ops/nn_graph_persistence.so')"
   ]
  },
  {
   "cell_type": "code",
   "execution_count": 3,
   "metadata": {
    "collapsed": true
   },
   "outputs": [],
   "source": [
    "elite_1  = np.genfromtxt(os.path.join(ELITE_PATH, 'mnist_1_15:25:07_04-08-17.csv'), delimiter=',')\n",
    "im_1 = mnist.test.images[mnist_map[1]]\n",
    "adv_1 = np.genfromtxt(os.path.join(ADV_PATH, 'mnist_1_14:35:40_03-08-17.csv'), delimiter=',')\n",
    "\n",
    "steps = 100\n",
    "\n",
    "columns = ['in_distance', 'per_distance', 'cross_entropy', 'y_conv', 'accuracy']\n",
    "index = range(steps)\n",
    "test_df = pd.DataFrame(index=index, columns=columns)"
   ]
  },
  {
   "cell_type": "code",
   "execution_count": 4,
   "metadata": {
    "collapsed": true
   },
   "outputs": [],
   "source": [
    "def create_path(start_im, end_im, steps=100):\n",
    "    ret = []\n",
    "    t = np.divide(end_im - start_im, steps)\n",
    "    for i in range(1,steps+1):\n",
    "        ret.append(start_im + i*t)\n",
    "    return ret"
   ]
  },
  {
   "cell_type": "code",
   "execution_count": 5,
   "metadata": {
    "collapsed": true
   },
   "outputs": [],
   "source": [
    "path = create_path(im_1, elite_1)\n",
    "path.append(elite_1)"
   ]
  },
  {
   "cell_type": "code",
   "execution_count": 6,
   "metadata": {
    "collapsed": true
   },
   "outputs": [],
   "source": [
    "# setup model\n",
    "with tf.device('/cpu:0'):\n",
    "    # Create the model\n",
    "    x = tf.placeholder(tf.float32, [None, 784])\n",
    "\n",
    "    # Define loss and optimizer\n",
    "    y_ = tf.placeholder(tf.float32, [None, 10])\n",
    "\n",
    "    # Build the graph for the deep net\n",
    "    net, keep_prob = mnist_model.deepnn(x)\n",
    "\n",
    "    cross_entropy = tf.reduce_mean(tf.nn.softmax_cross_entropy_with_logits(labels=y_, logits=net['y_conv']))\n",
    "    train_step = tf.train.AdamOptimizer(1e-4).minimize(cross_entropy)\n",
    "    correct_prediction = tf.equal(tf.argmax(net['y_conv'], 1), tf.argmax(y_, 1))\n",
    "    accuracy = tf.reduce_mean(tf.cast(correct_prediction, tf.float32))\n",
    "    \n",
    "    saver = tf.train.Saver()"
   ]
  },
  {
   "cell_type": "code",
   "execution_count": 7,
   "metadata": {},
   "outputs": [
    {
     "name": "stdout",
     "output_type": "stream",
     "text": [
      "INFO:tensorflow:Restoring parameters from ../logdir/models/mnist_cff_2000.ckpt\n",
      "('Step: ', 0)\n",
      "('distance:', array([ 0.0147737], dtype=float32))\n",
      "('Step: ', 1)\n",
      "('distance:', array([ 0.02696174], dtype=float32))\n",
      "('Step: ', 2)\n",
      "('distance:', array([ 0.03642439], dtype=float32))\n",
      "('Step: ', 3)\n",
      "('distance:', array([ 0.04730107], dtype=float32))\n",
      "('Step: ', 4)\n",
      "('distance:', array([ 0.05737305], dtype=float32))\n",
      "('Step: ', 5)\n",
      "('distance:', array([ 0.05686019], dtype=float32))\n",
      "('Step: ', 6)\n",
      "('distance:', array([ 0.05837763], dtype=float32))\n",
      "('Step: ', 7)\n",
      "('distance:', array([ 0.06248044], dtype=float32))\n",
      "('Step: ', 8)\n",
      "('distance:', array([ 0.07181663], dtype=float32))\n",
      "('Step: ', 9)\n",
      "('distance:', array([ 0.07185529], dtype=float32))\n",
      "('Step: ', 10)\n",
      "('distance:', array([ 0.07837579], dtype=float32))\n",
      "('Step: ', 11)\n",
      "('distance:', array([ 0.08835436], dtype=float32))\n",
      "('Step: ', 12)\n",
      "('distance:', array([ 0.09414313], dtype=float32))\n",
      "('Step: ', 13)\n",
      "('distance:', array([ 0.09022157], dtype=float32))\n",
      "('Step: ', 14)\n",
      "('distance:', array([ 0.08162131], dtype=float32))\n",
      "('Step: ', 15)\n",
      "('distance:', array([ 0.0849155], dtype=float32))\n",
      "('Step: ', 16)\n",
      "('distance:', array([ 0.09144519], dtype=float32))\n",
      "('Step: ', 17)\n",
      "('distance:', array([ 0.09621836], dtype=float32))\n",
      "('Step: ', 18)\n",
      "('distance:', array([ 0.08669852], dtype=float32))\n",
      "('Step: ', 19)\n",
      "('distance:', array([ 0.08838215], dtype=float32))\n",
      "('Step: ', 20)\n",
      "('distance:', array([ 0.0893129], dtype=float32))\n",
      "('Step: ', 21)\n",
      "('distance:', array([ 0.09656148], dtype=float32))\n",
      "('Step: ', 22)\n",
      "('distance:', array([ 0.10939589], dtype=float32))\n",
      "('Step: ', 23)\n",
      "('distance:', array([ 0.13219105], dtype=float32))\n",
      "('Step: ', 24)\n",
      "('distance:', array([ 0.14465728], dtype=float32))\n",
      "('Step: ', 25)\n",
      "('distance:', array([ 0.1283429], dtype=float32))\n",
      "('Step: ', 26)\n",
      "('distance:', array([ 0.14084053], dtype=float32))\n",
      "('Step: ', 27)\n",
      "('distance:', array([ 0.11676688], dtype=float32))\n",
      "('Step: ', 28)\n",
      "('distance:', array([ 0.14501369], dtype=float32))\n",
      "('Step: ', 29)\n",
      "('distance:', array([ 0.14395164], dtype=float32))\n",
      "('Step: ', 30)\n",
      "('distance:', array([ 0.12190134], dtype=float32))\n",
      "('Step: ', 31)\n",
      "('distance:', array([ 0.1071637], dtype=float32))\n",
      "('Step: ', 32)\n",
      "('distance:', array([ 0.13656348], dtype=float32))\n",
      "('Step: ', 33)\n",
      "('distance:', array([ 0.12207413], dtype=float32))\n",
      "('Step: ', 34)\n",
      "('distance:', array([ 0.11236665], dtype=float32))\n",
      "('Step: ', 35)\n",
      "('distance:', array([ 0.11586872], dtype=float32))\n",
      "('Step: ', 36)\n",
      "('distance:', array([ 0.11254315], dtype=float32))\n",
      "('Step: ', 37)\n",
      "('distance:', array([ 0.11021695], dtype=float32))\n",
      "('Step: ', 38)\n",
      "('distance:', array([ 0.10835443], dtype=float32))\n",
      "('Step: ', 39)\n",
      "('distance:', array([ 0.10450017], dtype=float32))\n",
      "('Step: ', 40)\n",
      "('distance:', array([ 0.1192754], dtype=float32))\n",
      "('Step: ', 41)\n",
      "('distance:', array([ 0.10745496], dtype=float32))\n",
      "('Step: ', 42)\n",
      "('distance:', array([ 0.11621542], dtype=float32))\n",
      "('Step: ', 43)\n",
      "('distance:', array([ 0.09582784], dtype=float32))\n",
      "('Step: ', 44)\n",
      "('distance:', array([ 0.08641844], dtype=float32))\n",
      "('Step: ', 45)\n",
      "('distance:', array([ 0.09708402], dtype=float32))\n",
      "('Step: ', 46)\n",
      "('distance:', array([ 0.0936679], dtype=float32))\n",
      "('Step: ', 47)\n",
      "('distance:', array([ 0.080032], dtype=float32))\n",
      "('Step: ', 48)\n",
      "('distance:', array([ 0.07967106], dtype=float32))\n",
      "('Step: ', 49)\n",
      "('distance:', array([ 0.08170569], dtype=float32))\n",
      "('Step: ', 50)\n",
      "('distance:', array([ 0.07459681], dtype=float32))\n",
      "('Step: ', 51)\n",
      "('distance:', array([ 0.08008502], dtype=float32))\n",
      "('Step: ', 52)\n",
      "('distance:', array([ 0.08039294], dtype=float32))\n",
      "('Step: ', 53)\n",
      "('distance:', array([ 0.59311604], dtype=float32))\n",
      "('Step: ', 54)\n",
      "('distance:', array([ 0.09227135], dtype=float32))\n",
      "('Step: ', 55)\n",
      "('distance:', array([ 0.09579592], dtype=float32))\n",
      "('Step: ', 56)\n",
      "('distance:', array([ 0.60827267], dtype=float32))\n",
      "('Step: ', 57)\n",
      "('distance:', array([ 0.10122787], dtype=float32))\n",
      "('Step: ', 58)\n",
      "('distance:', array([ 0.10271669], dtype=float32))\n",
      "('Step: ', 59)\n",
      "('distance:', array([ 0.10303137], dtype=float32))\n",
      "('Step: ', 60)\n",
      "('distance:', array([ 0.10578325], dtype=float32))\n",
      "('Step: ', 61)\n",
      "('distance:', array([ 0.63457227], dtype=float32))\n",
      "('Step: ', 62)\n",
      "('distance:', array([ 0.11169527], dtype=float32))\n",
      "('Step: ', 63)\n",
      "('distance:', array([ 0.12020362], dtype=float32))\n",
      "('Step: ', 64)\n",
      "('distance:', array([ 0.10937661], dtype=float32))\n",
      "('Step: ', 65)\n",
      "('distance:', array([ 0.13491505], dtype=float32))\n",
      "('Step: ', 66)\n",
      "('distance:', array([ 0.14015669], dtype=float32))\n",
      "('Step: ', 67)\n",
      "('distance:', array([ 0.14365631], dtype=float32))\n",
      "('Step: ', 68)\n",
      "('distance:', array([ 0.14112361], dtype=float32))\n",
      "('Step: ', 69)\n",
      "('distance:', array([ 0.14761361], dtype=float32))\n",
      "('Step: ', 70)\n",
      "('distance:', array([ 0.16344947], dtype=float32))\n",
      "('Step: ', 71)\n",
      "('distance:', array([ 0.1672605], dtype=float32))\n",
      "('Step: ', 72)\n",
      "('distance:', array([ 0.16975972], dtype=float32))\n",
      "('Step: ', 73)\n",
      "('distance:', array([ 0.17749308], dtype=float32))\n",
      "('Step: ', 74)\n",
      "('distance:', array([ 0.8048234], dtype=float32))\n",
      "('Step: ', 75)\n",
      "('distance:', array([ 0.81931233], dtype=float32))\n",
      "('Step: ', 76)\n",
      "('distance:', array([ 0.80745125], dtype=float32))\n",
      "('Step: ', 77)\n",
      "('distance:', array([ 0.81730884], dtype=float32))\n",
      "('Step: ', 78)\n",
      "('distance:', array([ 0.17895794], dtype=float32))\n",
      "('Step: ', 79)\n",
      "('distance:', array([ 0.84788591], dtype=float32))\n",
      "('Step: ', 80)\n",
      "('distance:', array([ 0.83567518], dtype=float32))\n",
      "('Step: ', 81)\n",
      "('distance:', array([ 0.16921026], dtype=float32))\n",
      "('Step: ', 82)\n",
      "('distance:', array([ 0.859842], dtype=float32))\n",
      "('Step: ', 83)\n",
      "('distance:', array([ 0.1766666], dtype=float32))\n",
      "('Step: ', 84)\n",
      "('distance:', array([ 0.88160545], dtype=float32))\n",
      "('Step: ', 85)\n",
      "('distance:', array([ 0.16826195], dtype=float32))\n",
      "('Step: ', 86)\n",
      "('distance:', array([ 0.88707083], dtype=float32))\n",
      "('Step: ', 87)\n",
      "('distance:', array([ 0.89806294], dtype=float32))\n",
      "('Step: ', 88)\n",
      "('distance:', array([ 0.19295874], dtype=float32))\n",
      "('Step: ', 89)\n",
      "('distance:', array([ 0.93865764], dtype=float32))\n",
      "('Step: ', 90)\n",
      "('distance:', array([ 0.97076255], dtype=float32))\n",
      "('Step: ', 91)\n",
      "('distance:', array([ 0.99594331], dtype=float32))\n",
      "('Step: ', 92)\n",
      "('distance:', array([ 0.24087906], dtype=float32))\n",
      "('Step: ', 93)\n",
      "('distance:', array([ 0.99933958], dtype=float32))\n",
      "('Step: ', 94)\n",
      "('distance:', array([ 0.22651461], dtype=float32))\n",
      "('Step: ', 95)\n",
      "('distance:', array([ 0.23484588], dtype=float32))\n",
      "('Step: ', 96)\n",
      "('distance:', array([ 1.03420091], dtype=float32))\n",
      "('Step: ', 97)\n",
      "('distance:', array([ 0.23793149], dtype=float32))\n",
      "('Step: ', 98)\n",
      "('distance:', array([ 0.26653442], dtype=float32))\n",
      "('Step: ', 99)\n",
      "('distance:', array([ 1.1012516], dtype=float32))\n",
      "('Step: ', 100)\n",
      "('distance:', array([ 1.1012516], dtype=float32))\n"
     ]
    }
   ],
   "source": [
    "# run network\n",
    "test_labels = np.stack((mnist.test.labels[mnist_map[1]],mnist.test.labels[mnist_map[1]]))\n",
    "p = 99.999\n",
    "with tf.Session(config=config) as sess:\n",
    "\n",
    "    saver.restore(sess, os.path.join(SAVE_PATH, 'mnist_cff_2000.ckpt'))\n",
    "\n",
    "    test_inputs = np.stack((im_1, path[0]))\n",
    "\n",
    "    percentiles = persistence_module.layerwise_percentile([net['input'],\n",
    "                                                        net['W_conv1'],\n",
    "                                                        net['h_conv1'],\n",
    "                                                        net['h_conv1'],\n",
    "                                                        net['W_fc1'],\n",
    "                                                        net['h_fc1'],\n",
    "                                                        net['h_fc1_drop'],\n",
    "                                                        net['W_fc2'],\n",
    "                                                        net['y_conv']],\n",
    "                                                        [0, 1, 2, 2, 1, 4, 4, 1, 4],\n",
    "                                                        [p,p,p])\n",
    "\n",
    "    ps1 = percentiles.eval(feed_dict={x: test_inputs[0:1], keep_prob:1.0})\n",
    "    \n",
    "    for i in range(len(path)):\n",
    "        \n",
    "        test_inputs = np.stack((im_1, path[i]))\n",
    "        in_distance = np.linalg.norm(im_1 - path[i], ord=2)\n",
    "\n",
    "        ps2 = percentiles.eval(feed_dict={x: test_inputs[1:2], keep_prob:1.0})\n",
    "\n",
    "        result = persistence_module.bottleneck_distance([net['input'],\n",
    "                                                        net['W_conv1'],\n",
    "                                                        net['h_conv1'],\n",
    "                                                        net['h_conv1'],\n",
    "                                                        net['W_fc1'],\n",
    "                                                        net['h_fc1'],\n",
    "                                                        net['h_fc1_drop'],\n",
    "                                                        net['W_fc2'],\n",
    "                                                        net['y_conv']],\n",
    "                                                        [0, 1, 2, 2, 1, 4, 4, 1, 4],\n",
    "                                                        np.stack((ps1, ps2))\n",
    "                                                        )\n",
    "\n",
    "\n",
    "        per_distance = result.eval(feed_dict={x: test_inputs, keep_prob:1.0})\n",
    "        print('Step: ', i)\n",
    "        print('distance:', per_distance)\n",
    "        \n",
    "        ce = cross_entropy.eval(feed_dict={x:test_inputs[1:], y_:test_labels[1:], keep_prob:1.0})\n",
    "        y_conv = sess.run(net['y_conv'], feed_dict={x:test_inputs[1:], keep_prob:1.0})\n",
    "        acc = accuracy.eval(feed_dict={x:test_inputs[1:], y_:test_labels[1:], keep_prob:1})\n",
    "        y_conv = y_conv / np.linalg.norm(y_conv)\n",
    "\n",
    "        test_df.loc[i, 'in_distance'] = in_distance\n",
    "        test_df.loc[i, 'per_distance'] = per_distance[0]\n",
    "        test_df.loc[i, 'cross_entropy'] = ce\n",
    "        test_df.loc[i, 'y_conv'] = y_conv[0,np.argmax(test_labels[1], axis=0)]\n",
    "        test_df.loc[i, 'accuracy'] = acc"
   ]
  },
  {
   "cell_type": "code",
   "execution_count": 8,
   "metadata": {},
   "outputs": [
    {
     "data": {
      "text/html": [
       "<div>\n",
       "<style>\n",
       "    .dataframe thead tr:only-child th {\n",
       "        text-align: right;\n",
       "    }\n",
       "\n",
       "    .dataframe thead th {\n",
       "        text-align: left;\n",
       "    }\n",
       "\n",
       "    .dataframe tbody tr th {\n",
       "        vertical-align: top;\n",
       "    }\n",
       "</style>\n",
       "<table border=\"1\" class=\"dataframe\">\n",
       "  <thead>\n",
       "    <tr style=\"text-align: right;\">\n",
       "      <th></th>\n",
       "      <th>in_distance</th>\n",
       "      <th>per_distance</th>\n",
       "      <th>cross_entropy</th>\n",
       "      <th>y_conv</th>\n",
       "      <th>accuracy</th>\n",
       "    </tr>\n",
       "  </thead>\n",
       "  <tbody>\n",
       "    <tr>\n",
       "      <th>0</th>\n",
       "      <td>0.120485</td>\n",
       "      <td>0.0147737</td>\n",
       "      <td>0.000382946</td>\n",
       "      <td>0.89257</td>\n",
       "      <td>1</td>\n",
       "    </tr>\n",
       "    <tr>\n",
       "      <th>1</th>\n",
       "      <td>0.24097</td>\n",
       "      <td>0.0269617</td>\n",
       "      <td>0.000368527</td>\n",
       "      <td>0.892837</td>\n",
       "      <td>1</td>\n",
       "    </tr>\n",
       "    <tr>\n",
       "      <th>2</th>\n",
       "      <td>0.361455</td>\n",
       "      <td>0.0364244</td>\n",
       "      <td>0.00035387</td>\n",
       "      <td>0.892989</td>\n",
       "      <td>1</td>\n",
       "    </tr>\n",
       "    <tr>\n",
       "      <th>3</th>\n",
       "      <td>0.48194</td>\n",
       "      <td>0.0473011</td>\n",
       "      <td>0.000340404</td>\n",
       "      <td>0.89325</td>\n",
       "      <td>1</td>\n",
       "    </tr>\n",
       "    <tr>\n",
       "      <th>4</th>\n",
       "      <td>0.602425</td>\n",
       "      <td>0.0573731</td>\n",
       "      <td>0.00032801</td>\n",
       "      <td>0.893513</td>\n",
       "      <td>1</td>\n",
       "    </tr>\n",
       "  </tbody>\n",
       "</table>\n",
       "</div>"
      ],
      "text/plain": [
       "  in_distance per_distance cross_entropy    y_conv accuracy\n",
       "0    0.120485    0.0147737   0.000382946   0.89257        1\n",
       "1     0.24097    0.0269617   0.000368527  0.892837        1\n",
       "2    0.361455    0.0364244    0.00035387  0.892989        1\n",
       "3     0.48194    0.0473011   0.000340404   0.89325        1\n",
       "4    0.602425    0.0573731    0.00032801  0.893513        1"
      ]
     },
     "execution_count": 8,
     "metadata": {},
     "output_type": "execute_result"
    }
   ],
   "source": [
    "test_df.head()"
   ]
  },
  {
   "cell_type": "code",
   "execution_count": 9,
   "metadata": {
    "collapsed": true
   },
   "outputs": [],
   "source": [
    "def regress(X, y, xlab, ylab):\n",
    "    \n",
    "    print(X.shape,y.shape)\n",
    "\n",
    "    # Split the data into training/testing sets\n",
    "    X_train = X[:-20]\n",
    "    X_test = X[-20:]\n",
    "\n",
    "    # Split the targets into training/testing sets\n",
    "    y_train = y[:-20]\n",
    "    y_test = y[-20:]\n",
    "\n",
    "    # Create linear regression object\n",
    "    regr = linear_model.LinearRegression()\n",
    "\n",
    "    # Train the model using the training sets\n",
    "    regr.fit(X_train, y_train)\n",
    "\n",
    "    # The coefficients\n",
    "    print('Coefficients: ', regr.coef_)\n",
    "    # The mean squared error\n",
    "    print(\"Mean squared error: %.2f\"\n",
    "          % np.mean((regr.predict(X_test) - y_test) ** 2))\n",
    "    # Explained variance score: 1 is perfect prediction\n",
    "    print('Variance score: %.2f' % regr.score(X_test, y_test))\n",
    "    print('R^2: %.2f' % r2_score(y_test, regr.predict(X_test)))\n",
    "    \n",
    "    fig, ax = plt.subplots()\n",
    "    X_min = np.min(X)\n",
    "    X_max = np.max(X)\n",
    "    y_min = np.min(y)\n",
    "    y_max = np.max(y)\n",
    "    # Plot outputs\n",
    "    \n",
    "    ax.scatter(X, y,  color='black')\n",
    "    ax.plot(X, regr.predict(X), color='blue', linewidth=3)\n",
    "\n",
    "\n",
    "    ax.set_xlim(X_min, X_max)\n",
    "    ax.set_ylim(y_min, y_max)\n",
    "    \n",
    "    plt.xlabel(xlab)\n",
    "    plt.ylabel(ylab)\n",
    "    plt.title('{} vs {}'.format(xlab, ylab))\n",
    "\n",
    "    plt.show()"
   ]
  },
  {
   "cell_type": "code",
   "execution_count": 10,
   "metadata": {},
   "outputs": [
    {
     "name": "stdout",
     "output_type": "stream",
     "text": [
      "((101, 1), (101,))\n",
      "('Coefficients: ', array([ 0.04114271]))\n",
      "Mean squared error: 0.18\n",
      "Variance score: -0.26\n",
      "R^2: -0.26\n"
     ]
    },
    {
     "data": {
      "image/png": "[encoded data removed]",
      "text/plain": [
       "<matplotlib.figure.Figure at 0x7f91a2b6aa50>"
      ]
     },
     "metadata": {},
     "output_type": "display_data"
    }
   ],
   "source": [
    "X = test_df['in_distance'].as_matrix()\n",
    "X = X.reshape((X.shape[0], 1))\n",
    "y = test_df['per_distance'].as_matrix()\n",
    "regress(X, y, 'Input Distance', 'Persistence Distance')"
   ]
  },
  {
   "cell_type": "code",
   "execution_count": 11,
   "metadata": {},
   "outputs": [
    {
     "name": "stdout",
     "output_type": "stream",
     "text": [
      "((101, 1), (101,))\n",
      "('Coefficients: ', array([-690.98041301]))\n",
      "Mean squared error: 0.30\n",
      "Variance score: -1.02\n",
      "R^2: -1.02\n"
     ]
    },
    {
     "data": {
      "image/png": "[encoded data removed]",
      "text/plain": [
       "<matplotlib.figure.Figure at 0x7f91974cc890>"
      ]
     },
     "metadata": {},
     "output_type": "display_data"
    }
   ],
   "source": [
    "X = test_df['cross_entropy'].as_matrix()\n",
    "X = X.reshape((X.shape[0], 1))\n",
    "regress(X, y, 'Cross-Entropy', 'Persistence Distance')"
   ]
  },
  {
   "cell_type": "code",
   "execution_count": 12,
   "metadata": {},
   "outputs": [
    {
     "name": "stdout",
     "output_type": "stream",
     "text": [
      "((101, 1), (101,))\n",
      "('Coefficients: ', array([ 38.92062357]))\n",
      "Mean squared error: 0.14\n",
      "Variance score: 0.02\n",
      "R^2: 0.02\n"
     ]
    },
    {
     "data": {
      "image/png": "[encoded data removed]",
      "text/plain": [
       "<matplotlib.figure.Figure at 0x7f91a2e8ed10>"
      ]
     },
     "metadata": {},
     "output_type": "display_data"
    }
   ],
   "source": [
    "X = test_df['y_conv'].as_matrix()\n",
    "X = X.reshape((X.shape[0], 1))\n",
    "regress(X, y, 'Correct Class Probability', 'Persistence Distance')"
   ]
  },
  {
   "cell_type": "code",
   "execution_count": 13,
   "metadata": {},
   "outputs": [
    {
     "data": {
      "text/html": [
       "<div>\n",
       "<style>\n",
       "    .dataframe thead tr:only-child th {\n",
       "        text-align: right;\n",
       "    }\n",
       "\n",
       "    .dataframe thead th {\n",
       "        text-align: left;\n",
       "    }\n",
       "\n",
       "    .dataframe tbody tr th {\n",
       "        vertical-align: top;\n",
       "    }\n",
       "</style>\n",
       "<table border=\"1\" class=\"dataframe\">\n",
       "  <thead>\n",
       "    <tr style=\"text-align: right;\">\n",
       "      <th></th>\n",
       "      <th>in_distance</th>\n",
       "      <th>per_distance</th>\n",
       "      <th>cross_entropy</th>\n",
       "      <th>y_conv</th>\n",
       "      <th>accuracy</th>\n",
       "    </tr>\n",
       "  </thead>\n",
       "  <tbody>\n",
       "  </tbody>\n",
       "</table>\n",
       "</div>"
      ],
      "text/plain": [
       "Empty DataFrame\n",
       "Columns: [in_distance, per_distance, cross_entropy, y_conv, accuracy]\n",
       "Index: []"
      ]
     },
     "execution_count": 13,
     "metadata": {},
     "output_type": "execute_result"
    }
   ],
   "source": [
    "test_df[test_df.accuracy == 0]"
   ]
  },
  {
   "cell_type": "code",
   "execution_count": 14,
   "metadata": {},
   "outputs": [
    {
     "name": "stdout",
     "output_type": "stream",
     "text": [
      "((101, 1), (101,))\n",
      "('Coefficients: ', array([ 0.0005144]))\n",
      "Mean squared error: 0.00\n",
      "Variance score: -22.52\n",
      "R^2: -22.52\n"
     ]
    },
    {
     "data": {
      "image/png": "[encoded data removed]",
      "text/plain": [
       "<matplotlib.figure.Figure at 0x7f919748ff10>"
      ]
     },
     "metadata": {},
     "output_type": "display_data"
    }
   ],
   "source": [
    "X = test_df['in_distance'].as_matrix()\n",
    "X = X.reshape((X.shape[0], 1))\n",
    "y = test_df['y_conv'].as_matrix()\n",
    "regress(X, y, 'Input Distance', 'Correct Class Probability')"
   ]
  },
  {
   "cell_type": "code",
   "execution_count": null,
   "metadata": {
    "collapsed": true
   },
   "outputs": [],
   "source": []
  }
 ],
 "metadata": {
  "kernelspec": {
   "display_name": "Python 2",
   "language": "python",
   "name": "python2"
  },
  "language_info": {
   "codemirror_mode": {
    "name": "ipython",
    "version": 2
   },
   "file_extension": ".py",
   "mimetype": "text/x-python",
   "name": "python",
   "nbconvert_exporter": "python",
   "pygments_lexer": "ipython2",
   "version": "2.7.13"
  }
 },
 "nbformat": 4,
 "nbformat_minor": 2
}
