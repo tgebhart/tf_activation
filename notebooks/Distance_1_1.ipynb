{
 "cells": [
  {
   "cell_type": "code",
   "execution_count": 1,
   "metadata": {
    "collapsed": true
   },
   "outputs": [],
   "source": [
    "%load_ext autoreload\n",
    "%autoreload 2\n",
    "from tf_activation import DeepGraph\n",
    "from tf_activation.models import mnist_cff as mnist_model\n",
    "\n",
    "import math\n",
    "import random\n",
    "import os\n",
    "\n",
    "import networkx as nx\n",
    "import tensorflow as tf\n",
    "import numpy as np\n",
    "import pandas as pd\n",
    "from sklearn import datasets, linear_model\n",
    "from sklearn.metrics import r2_score\n",
    "%matplotlib inline\n",
    "import matplotlib.pyplot as plt\n",
    "\n",
    "from tensorflow.examples.tutorials.mnist import input_data"
   ]
  },
  {
   "cell_type": "code",
   "execution_count": 2,
   "metadata": {},
   "outputs": [
    {
     "name": "stdout",
     "output_type": "stream",
     "text": [
      "Extracting MNIST_data/train-images-idx3-ubyte.gz\n",
      "Extracting MNIST_data/train-labels-idx1-ubyte.gz\n",
      "Extracting MNIST_data/t10k-images-idx3-ubyte.gz\n",
      "Extracting MNIST_data/t10k-labels-idx1-ubyte.gz\n"
     ]
    }
   ],
   "source": [
    "mnist_map = {\n",
    "    0: 3,\n",
    "    1: 2,\n",
    "    2: 1,\n",
    "    3: 18,\n",
    "    4: 4,\n",
    "    5: 8,\n",
    "    6: 11,\n",
    "    7: 0,\n",
    "    8: 61,\n",
    "    9: 7\n",
    "}\n",
    "\n",
    "mnist_map_1 = {1:5}\n",
    "\n",
    "SAVE_PATH = '../logdir/models'\n",
    "ADV_PATH = '../logdir/adversaries'\n",
    "ELITE_PATH = '../logdir/elites'\n",
    "DATA_PATH = '../logdir/data'\n",
    "\n",
    "\n",
    "mnist = input_data.read_data_sets('MNIST_data', one_hot=True)\n",
    "\n",
    "config = tf.ConfigProto()\n",
    "config.gpu_options.per_process_gpu_memory_fraction = 0.5\n",
    "config.gpu_options.allocator_type = 'BFC'\n",
    "config.log_device_placement = True\n",
    "\n",
    "persistence_module = tf.load_op_library('/home/tgebhart/Projects/tensorflow/bazel-bin/tensorflow/core/user_ops/nn_graph_persistence.so')"
   ]
  },
  {
   "cell_type": "code",
   "execution_count": null,
   "metadata": {},
   "outputs": [],
   "source": []
  },
  {
   "cell_type": "code",
   "execution_count": 3,
   "metadata": {
    "collapsed": true
   },
   "outputs": [],
   "source": [
    "elite_1  = np.genfromtxt(os.path.join(ELITE_PATH, 'mnist_1_15:25:07_04-08-17.csv'), delimiter=',')\n",
    "im_1 = mnist.test.images[mnist_map[1]]\n",
    "adv_1 = mnist.test.images[mnist_map_1[1]]\n",
    "\n",
    "steps = 100\n",
    "\n",
    "columns = ['in_distance', 'per_distance', 'cross_entropy', 'y_conv', 'accuracy']\n",
    "index = range(steps)\n",
    "test_df = pd.DataFrame(index=index, columns=columns)"
   ]
  },
  {
   "cell_type": "code",
   "execution_count": 4,
   "metadata": {
    "collapsed": true
   },
   "outputs": [],
   "source": [
    "def create_path(start_im, end_im, steps=100):\n",
    "    ret = []\n",
    "    t = np.divide(end_im - start_im, steps)\n",
    "    for i in range(1,steps+1):\n",
    "        ret.append(start_im + i*t)\n",
    "    return ret\n",
    "    "
   ]
  },
  {
   "cell_type": "code",
   "execution_count": 5,
   "metadata": {},
   "outputs": [],
   "source": [
    "path = create_path(im_1, adv_1)\n"
   ]
  },
  {
   "cell_type": "code",
   "execution_count": 6,
   "metadata": {
    "collapsed": true
   },
   "outputs": [],
   "source": [
    "# setup model\n",
    "with tf.device('/cpu:0'):\n",
    "    # Create the model\n",
    "    x = tf.placeholder(tf.float32, [None, 784])\n",
    "\n",
    "    # Define loss and optimizer\n",
    "    y_ = tf.placeholder(tf.float32, [None, 10])\n",
    "\n",
    "    # Build the graph for the deep net\n",
    "    net, keep_prob = mnist_model.deepnn(x)\n",
    "\n",
    "    cross_entropy = tf.reduce_mean(tf.nn.softmax_cross_entropy_with_logits(labels=y_, logits=net['y_conv']))\n",
    "    train_step = tf.train.AdamOptimizer(1e-4).minimize(cross_entropy)\n",
    "    correct_prediction = tf.equal(tf.argmax(net['y_conv'], 1), tf.argmax(y_, 1))\n",
    "    accuracy = tf.reduce_mean(tf.cast(correct_prediction, tf.float32))\n",
    "    \n",
    "    saver = tf.train.Saver()"
   ]
  },
  {
   "cell_type": "code",
   "execution_count": 7,
   "metadata": {
    "scrolled": true
   },
   "outputs": [
    {
     "name": "stdout",
     "output_type": "stream",
     "text": [
      "INFO:tensorflow:Restoring parameters from ../logdir/models/mnist_cff_2000.ckpt\n",
      "('Step: ', 0)\n",
      "('distance:', array([ 0.00652651], dtype=float32))\n",
      "('Step: ', 1)\n",
      "('distance:', array([ 0.01535144], dtype=float32))\n",
      "('Step: ', 2)\n",
      "('distance:', array([ 0.02008875], dtype=float32))\n",
      "('Step: ', 3)\n",
      "('distance:', array([ 0.02513868], dtype=float32))\n",
      "('Step: ', 4)\n",
      "('distance:', array([ 0.02969417], dtype=float32))\n",
      "('Step: ', 5)\n",
      "('distance:', array([ 0.04559644], dtype=float32))\n",
      "('Step: ', 6)\n",
      "('distance:', array([ 0.04681385], dtype=float32))\n",
      "('Step: ', 7)\n",
      "('distance:', array([ 0.04925808], dtype=float32))\n",
      "('Step: ', 8)\n",
      "('distance:', array([ 0.05245277], dtype=float32))\n",
      "('Step: ', 9)\n",
      "('distance:', array([ 0.05352429], dtype=float32))\n",
      "('Step: ', 10)\n",
      "('distance:', array([ 0.05139235], dtype=float32))\n",
      "('Step: ', 11)\n",
      "('distance:', array([ 0.05359308], dtype=float32))\n",
      "('Step: ', 12)\n",
      "('distance:', array([ 0.0509277], dtype=float32))\n",
      "('Step: ', 13)\n",
      "('distance:', array([ 0.05788857], dtype=float32))\n",
      "('Step: ', 14)\n",
      "('distance:', array([ 0.05800574], dtype=float32))\n",
      "('Step: ', 15)\n",
      "('distance:', array([ 0.05980863], dtype=float32))\n",
      "('Step: ', 16)\n",
      "('distance:', array([ 0.06164528], dtype=float32))\n",
      "('Step: ', 17)\n",
      "('distance:', array([ 0.06507899], dtype=float32))\n",
      "('Step: ', 18)\n",
      "('distance:', array([ 0.065429], dtype=float32))\n",
      "('Step: ', 19)\n",
      "('distance:', array([ 0.06768645], dtype=float32))\n",
      "('Step: ', 20)\n",
      "('distance:', array([ 0.07159893], dtype=float32))\n",
      "('Step: ', 21)\n",
      "('distance:', array([ 0.07345945], dtype=float32))\n",
      "('Step: ', 22)\n",
      "('distance:', array([ 0.08077812], dtype=float32))\n",
      "('Step: ', 23)\n",
      "('distance:', array([ 0.07821497], dtype=float32))\n",
      "('Step: ', 24)\n",
      "('distance:', array([ 0.08086003], dtype=float32))\n",
      "('Step: ', 25)\n",
      "('distance:', array([ 0.08923927], dtype=float32))\n",
      "('Step: ', 26)\n",
      "('distance:', array([ 0.08898071], dtype=float32))\n",
      "('Step: ', 27)\n",
      "('distance:', array([ 0.09169219], dtype=float32))\n",
      "('Step: ', 28)\n",
      "('distance:', array([ 0.09533202], dtype=float32))\n",
      "('Step: ', 29)\n",
      "('distance:', array([ 0.09685417], dtype=float32))\n",
      "('Step: ', 30)\n",
      "('distance:', array([ 0.09832942], dtype=float32))\n",
      "('Step: ', 31)\n",
      "('distance:', array([ 0.10226117], dtype=float32))\n",
      "('Step: ', 32)\n",
      "('distance:', array([ 0.10742522], dtype=float32))\n",
      "('Step: ', 33)\n",
      "('distance:', array([ 0.11561139], dtype=float32))\n",
      "('Step: ', 34)\n",
      "('distance:', array([ 0.12007294], dtype=float32))\n",
      "('Step: ', 35)\n",
      "('distance:', array([ 0.12086044], dtype=float32))\n",
      "('Step: ', 36)\n",
      "('distance:', array([ 0.12672213], dtype=float32))\n",
      "('Step: ', 37)\n",
      "('distance:', array([ 0.12290794], dtype=float32))\n",
      "('Step: ', 38)\n",
      "('distance:', array([ 0.12972514], dtype=float32))\n",
      "('Step: ', 39)\n",
      "('distance:', array([ 0.14726508], dtype=float32))\n",
      "('Step: ', 40)\n",
      "('distance:', array([ 0.1335398], dtype=float32))\n",
      "('Step: ', 41)\n",
      "('distance:', array([ 0.13654596], dtype=float32))\n",
      "('Step: ', 42)\n",
      "('distance:', array([ 0.14403315], dtype=float32))\n",
      "('Step: ', 43)\n",
      "('distance:', array([ 0.14919685], dtype=float32))\n",
      "('Step: ', 44)\n",
      "('distance:', array([ 0.15838555], dtype=float32))\n",
      "('Step: ', 45)\n",
      "('distance:', array([ 0.16070268], dtype=float32))\n",
      "('Step: ', 46)\n",
      "('distance:', array([ 0.15125653], dtype=float32))\n",
      "('Step: ', 47)\n",
      "('distance:', array([ 0.16253866], dtype=float32))\n",
      "('Step: ', 48)\n",
      "('distance:', array([ 0.16539186], dtype=float32))\n",
      "('Step: ', 49)\n",
      "('distance:', array([ 0.17518289], dtype=float32))\n",
      "('Step: ', 50)\n",
      "('distance:', array([ 0.18937427], dtype=float32))\n",
      "('Step: ', 51)\n",
      "('distance:', array([ 0.18340117], dtype=float32))\n",
      "('Step: ', 52)\n",
      "('distance:', array([ 0.18172859], dtype=float32))\n",
      "('Step: ', 53)\n",
      "('distance:', array([ 0.18526354], dtype=float32))\n",
      "('Step: ', 54)\n",
      "('distance:', array([ 0.19825852], dtype=float32))\n",
      "('Step: ', 55)\n",
      "('distance:', array([ 0.19549721], dtype=float32))\n",
      "('Step: ', 56)\n",
      "('distance:', array([ 0.21351506], dtype=float32))\n",
      "('Step: ', 57)\n",
      "('distance:', array([ 0.21404755], dtype=float32))\n",
      "('Step: ', 58)\n",
      "('distance:', array([ 0.20688413], dtype=float32))\n",
      "('Step: ', 59)\n",
      "('distance:', array([ 0.21247105], dtype=float32))\n",
      "('Step: ', 60)\n",
      "('distance:', array([ 0.21635026], dtype=float32))\n",
      "('Step: ', 61)\n",
      "('distance:', array([ 0.22781365], dtype=float32))\n",
      "('Step: ', 62)\n",
      "('distance:', array([ 0.23499346], dtype=float32))\n",
      "('Step: ', 63)\n",
      "('distance:', array([ 0.2314723], dtype=float32))\n",
      "('Step: ', 64)\n",
      "('distance:', array([ 0.22082794], dtype=float32))\n",
      "('Step: ', 65)\n",
      "('distance:', array([ 0.2285974], dtype=float32))\n",
      "('Step: ', 66)\n",
      "('distance:', array([ 0.2293044], dtype=float32))\n",
      "('Step: ', 67)\n",
      "('distance:', array([ 0.23433629], dtype=float32))\n",
      "('Step: ', 68)\n",
      "('distance:', array([ 0.23873943], dtype=float32))\n",
      "('Step: ', 69)\n",
      "('distance:', array([ 0.24262518], dtype=float32))\n",
      "('Step: ', 70)\n",
      "('distance:', array([ 0.24322575], dtype=float32))\n",
      "('Step: ', 71)\n",
      "('distance:', array([ 0.26072866], dtype=float32))\n",
      "('Step: ', 72)\n",
      "('distance:', array([ 0.26505303], dtype=float32))\n",
      "('Step: ', 73)\n",
      "('distance:', array([ 0.25312623], dtype=float32))\n",
      "('Step: ', 74)\n",
      "('distance:', array([ 0.26609468], dtype=float32))\n",
      "('Step: ', 75)\n",
      "('distance:', array([ 0.28183335], dtype=float32))\n",
      "('Step: ', 76)\n",
      "('distance:', array([ 0.30063298], dtype=float32))\n",
      "('Step: ', 77)\n",
      "('distance:', array([ 0.32194328], dtype=float32))\n",
      "('Step: ', 78)\n",
      "('distance:', array([ 0.32333684], dtype=float32))\n",
      "('Step: ', 79)\n",
      "('distance:', array([ 0.3316159], dtype=float32))\n",
      "('Step: ', 80)\n",
      "('distance:', array([ 0.32682392], dtype=float32))\n",
      "('Step: ', 81)\n",
      "('distance:', array([ 0.34004891], dtype=float32))\n",
      "('Step: ', 82)\n",
      "('distance:', array([ 0.34413409], dtype=float32))\n",
      "('Step: ', 83)\n",
      "('distance:', array([ 0.35176766], dtype=float32))\n",
      "('Step: ', 84)\n",
      "('distance:', array([ 0.35638118], dtype=float32))\n",
      "('Step: ', 85)\n",
      "('distance:', array([ 0.34766799], dtype=float32))\n",
      "('Step: ', 86)\n",
      "('distance:', array([ 0.34388864], dtype=float32))\n",
      "('Step: ', 87)\n",
      "('distance:', array([ 0.3527014], dtype=float32))\n",
      "('Step: ', 88)\n",
      "('distance:', array([ 0.34500742], dtype=float32))\n",
      "('Step: ', 89)\n",
      "('distance:', array([ 0.31611803], dtype=float32))\n",
      "('Step: ', 90)\n",
      "('distance:', array([ 0.30709764], dtype=float32))\n",
      "('Step: ', 91)\n",
      "('distance:', array([ 0.31683651], dtype=float32))\n",
      "('Step: ', 92)\n",
      "('distance:', array([ 0.3254157], dtype=float32))\n",
      "('Step: ', 93)\n",
      "('distance:', array([ 0.3180531], dtype=float32))\n",
      "('Step: ', 94)\n",
      "('distance:', array([ 0.32653311], dtype=float32))\n",
      "('Step: ', 95)\n",
      "('distance:', array([ 0.3193996], dtype=float32))\n",
      "('Step: ', 96)\n",
      "('distance:', array([ 0.3266435], dtype=float32))\n",
      "('Step: ', 97)\n",
      "('distance:', array([ 0.33177224], dtype=float32))\n",
      "('Step: ', 98)\n",
      "('distance:', array([ 0.33508503], dtype=float32))\n",
      "('Step: ', 99)\n",
      "('distance:', array([ 0.34630209], dtype=float32))\n"
     ]
    }
   ],
   "source": [
    "# run network\n",
    "test_labels = np.stack((mnist.test.labels[mnist_map[1]],mnist.test.labels[mnist_map[1]]))\n",
    "p = 99.999\n",
    "with tf.Session(config=config) as sess:\n",
    "\n",
    "    saver.restore(sess, os.path.join(SAVE_PATH, 'mnist_cff_2000.ckpt'))\n",
    "\n",
    "    test_inputs = np.stack((im_1, path[0]))\n",
    "\n",
    "    percentiles = persistence_module.layerwise_percentile([net['input'],\n",
    "                                                        net['W_conv1'],\n",
    "                                                        net['h_conv1'],\n",
    "                                                        net['h_conv1'],\n",
    "                                                        net['W_fc1'],\n",
    "                                                        net['h_fc1'],\n",
    "                                                        net['h_fc1_drop'],\n",
    "                                                        net['W_fc2'],\n",
    "                                                        net['y_conv']],\n",
    "                                                        [0, 1, 2, 2, 1, 4, 4, 1, 4],\n",
    "                                                        [p,p,p])\n",
    "\n",
    "    ps1 = percentiles.eval(feed_dict={x: test_inputs[0:1], keep_prob:1.0})\n",
    "    \n",
    "    for i in range(len(path)):\n",
    "        \n",
    "        test_inputs = np.stack((im_1, path[i]))\n",
    "        in_distance = np.linalg.norm(im_1 - path[i], ord=2)\n",
    "\n",
    "        ps2 = percentiles.eval(feed_dict={x: test_inputs[1:2], keep_prob:1.0})\n",
    "\n",
    "        result = persistence_module.bottleneck_distance([net['input'],\n",
    "                                                        net['W_conv1'],\n",
    "                                                        net['h_conv1'],\n",
    "                                                        net['h_conv1'],\n",
    "                                                        net['W_fc1'],\n",
    "                                                        net['h_fc1'],\n",
    "                                                        net['h_fc1_drop'],\n",
    "                                                        net['W_fc2'],\n",
    "                                                        net['y_conv']],\n",
    "                                                        [0, 1, 2, 2, 1, 4, 4, 1, 4],\n",
    "                                                        np.stack((ps1, ps2))\n",
    "                                                        )\n",
    "\n",
    "\n",
    "        per_distance = result.eval(feed_dict={x: test_inputs, keep_prob:1.0})\n",
    "        print('Step: ', i)\n",
    "        print('distance:', per_distance)\n",
    "        \n",
    "        ce = cross_entropy.eval(feed_dict={x:test_inputs[1:], y_:test_labels[1:], keep_prob:1.0})\n",
    "        y_conv = sess.run(net['y_conv'], feed_dict={x:test_inputs[1:], keep_prob:1.0})\n",
    "        acc = accuracy.eval(feed_dict={x:test_inputs[1:], y_:test_labels[1:], keep_prob:1})\n",
    "        y_conv = y_conv / np.linalg.norm(y_conv)\n",
    "\n",
    "        test_df.loc[i, 'in_distance'] = in_distance\n",
    "        test_df.loc[i, 'per_distance'] = per_distance[0]\n",
    "        test_df.loc[i, 'cross_entropy'] = ce\n",
    "        test_df.loc[i, 'y_conv'] = y_conv[0,np.argmax(test_labels[1], axis=0)]\n",
    "        test_df.loc[i, 'accuracy'] = acc\n",
    "        "
   ]
  },
  {
   "cell_type": "code",
   "execution_count": 8,
   "metadata": {},
   "outputs": [
    {
     "data": {
      "text/html": [
       "<div>\n",
       "<style>\n",
       "    .dataframe thead tr:only-child th {\n",
       "        text-align: right;\n",
       "    }\n",
       "\n",
       "    .dataframe thead th {\n",
       "        text-align: left;\n",
       "    }\n",
       "\n",
       "    .dataframe tbody tr th {\n",
       "        vertical-align: top;\n",
       "    }\n",
       "</style>\n",
       "<table border=\"1\" class=\"dataframe\">\n",
       "  <thead>\n",
       "    <tr style=\"text-align: right;\">\n",
       "      <th></th>\n",
       "      <th>in_distance</th>\n",
       "      <th>per_distance</th>\n",
       "      <th>cross_entropy</th>\n",
       "      <th>y_conv</th>\n",
       "      <th>accuracy</th>\n",
       "    </tr>\n",
       "  </thead>\n",
       "  <tbody>\n",
       "    <tr>\n",
       "      <th>0</th>\n",
       "      <td>0.0308158</td>\n",
       "      <td>0.00652651</td>\n",
       "      <td>0.000380325</td>\n",
       "      <td>0.892821</td>\n",
       "      <td>1</td>\n",
       "    </tr>\n",
       "    <tr>\n",
       "      <th>1</th>\n",
       "      <td>0.0616317</td>\n",
       "      <td>0.0153514</td>\n",
       "      <td>0.000368885</td>\n",
       "      <td>0.893323</td>\n",
       "      <td>1</td>\n",
       "    </tr>\n",
       "    <tr>\n",
       "      <th>2</th>\n",
       "      <td>0.0924476</td>\n",
       "      <td>0.0200887</td>\n",
       "      <td>0.000358398</td>\n",
       "      <td>0.893796</td>\n",
       "      <td>1</td>\n",
       "    </tr>\n",
       "    <tr>\n",
       "      <th>3</th>\n",
       "      <td>0.123263</td>\n",
       "      <td>0.0251387</td>\n",
       "      <td>0.000348269</td>\n",
       "      <td>0.894223</td>\n",
       "      <td>1</td>\n",
       "    </tr>\n",
       "    <tr>\n",
       "      <th>4</th>\n",
       "      <td>0.154079</td>\n",
       "      <td>0.0296942</td>\n",
       "      <td>0.000338974</td>\n",
       "      <td>0.894593</td>\n",
       "      <td>1</td>\n",
       "    </tr>\n",
       "  </tbody>\n",
       "</table>\n",
       "</div>"
      ],
      "text/plain": [
       "  in_distance per_distance cross_entropy    y_conv accuracy\n",
       "0   0.0308158   0.00652651   0.000380325  0.892821        1\n",
       "1   0.0616317    0.0153514   0.000368885  0.893323        1\n",
       "2   0.0924476    0.0200887   0.000358398  0.893796        1\n",
       "3    0.123263    0.0251387   0.000348269  0.894223        1\n",
       "4    0.154079    0.0296942   0.000338974  0.894593        1"
      ]
     },
     "execution_count": 8,
     "metadata": {},
     "output_type": "execute_result"
    }
   ],
   "source": [
    "test_df.head()"
   ]
  },
  {
   "cell_type": "code",
   "execution_count": 9,
   "metadata": {
    "collapsed": true
   },
   "outputs": [],
   "source": [
    "def regress(X, y, xlab, ylab):\n",
    "    \n",
    "    print(X.shape,y.shape)\n",
    "\n",
    "    # Split the data into training/testing sets\n",
    "    X_train = X[:-20]\n",
    "    X_test = X[-20:]\n",
    "\n",
    "    # Split the targets into training/testing sets\n",
    "    y_train = y[:-20]\n",
    "    y_test = y[-20:]\n",
    "\n",
    "    # Create linear regression object\n",
    "    regr = linear_model.LinearRegression()\n",
    "\n",
    "    # Train the model using the training sets\n",
    "    regr.fit(X_train, y_train)\n",
    "\n",
    "    # The coefficients\n",
    "    print('Coefficients: ', regr.coef_)\n",
    "    # The mean squared error\n",
    "    print(\"Mean squared error: %.2f\"\n",
    "          % np.mean((regr.predict(X_test) - y_test) ** 2))\n",
    "    # Explained variance score: 1 is perfect prediction\n",
    "    print('Variance score: %.2f' % regr.score(X_test, y_test))\n",
    "    print('R^2: %.2f' % r2_score(y_test, regr.predict(X_test)))\n",
    "    \n",
    "    fig, ax = plt.subplots()\n",
    "    X_min = np.min(X)\n",
    "    X_max = np.max(X)\n",
    "    y_min = np.min(y)\n",
    "    y_max = np.max(y)\n",
    "    # Plot outputs\n",
    "    \n",
    "    ax.scatter(X, y,  color='black')\n",
    "    ax.plot(X, regr.predict(X), color='blue', linewidth=3)\n",
    "\n",
    "\n",
    "    ax.set_xlim(X_min, X_max)\n",
    "    ax.set_ylim(y_min, y_max)\n",
    "    \n",
    "    plt.xlabel(xlab)\n",
    "    plt.ylabel(ylab)\n",
    "    plt.title('{} vs {}'.format(xlab, ylab))\n",
    "\n",
    "    plt.show()\n"
   ]
  },
  {
   "cell_type": "code",
   "execution_count": 10,
   "metadata": {},
   "outputs": [
    {
     "name": "stdout",
     "output_type": "stream",
     "text": [
      "((100, 1), (100,))\n",
      "('Coefficients: ', array([ 0.11565571]))\n",
      "Mean squared error: 0.00\n",
      "Variance score: -3.81\n",
      "R^2: -3.81\n"
     ]
    },
    {
     "data": {
      "image/png": "[encoded data removed]",
      "text/plain": [
       "<matplotlib.figure.Figure at 0x7f8ddf116d50>"
      ]
     },
     "metadata": {},
     "output_type": "display_data"
    }
   ],
   "source": [
    "X = test_df['in_distance'].as_matrix()\n",
    "X = X.reshape((X.shape[0], 1))\n",
    "y = test_df['per_distance'].as_matrix()\n",
    "regress(X, y, 'Input Distance', 'Persistence Distance')"
   ]
  },
  {
   "cell_type": "code",
   "execution_count": 11,
   "metadata": {},
   "outputs": [
    {
     "name": "stdout",
     "output_type": "stream",
     "text": [
      "((100, 1), (100,))\n",
      "('Coefficients: ', array([-954.28742193]))\n",
      "Mean squared error: 0.01\n",
      "Variance score: -66.20\n",
      "R^2: -66.20\n"
     ]
    },
    {
     "data": {
      "image/png": "[encoded data removed]",
      "text/plain": [
       "<matplotlib.figure.Figure at 0x7f8daa468c50>"
      ]
     },
     "metadata": {},
     "output_type": "display_data"
    }
   ],
   "source": [
    "X = test_df['cross_entropy'].as_matrix()\n",
    "X = X.reshape((X.shape[0], 1))\n",
    "regress(X, y, 'Cross-Entropy', 'Persistence Distance')"
   ]
  },
  {
   "cell_type": "code",
   "execution_count": 12,
   "metadata": {},
   "outputs": [
    {
     "name": "stdout",
     "output_type": "stream",
     "text": [
      "((100, 1), (100,))\n",
      "('Coefficients: ', array([-13.41765029]))\n",
      "Mean squared error: 0.00\n",
      "Variance score: -18.46\n",
      "R^2: -18.46\n"
     ]
    },
    {
     "data": {
      "image/png": "[encoded data removed]",
      "text/plain": [
       "<matplotlib.figure.Figure at 0x7f8d90bce350>"
      ]
     },
     "metadata": {},
     "output_type": "display_data"
    }
   ],
   "source": [
    "X = test_df['y_conv'].as_matrix()\n",
    "X = X.reshape((X.shape[0], 1))\n",
    "regress(X, y, 'Correct Class Probability', 'Persistence Distance')"
   ]
  },
  {
   "cell_type": "code",
   "execution_count": 13,
   "metadata": {},
   "outputs": [
    {
     "name": "stdout",
     "output_type": "stream",
     "text": [
      "((100, 1), (100,))\n",
      "('Coefficients: ', array([-0.00794312]))\n",
      "Mean squared error: 0.00\n",
      "Variance score: -3.34\n",
      "R^2: -3.34\n"
     ]
    },
    {
     "data": {
      "image/png": "[encoded data removed]",
      "text/plain": [
       "<matplotlib.figure.Figure at 0x7f8d90b2fd10>"
      ]
     },
     "metadata": {},
     "output_type": "display_data"
    }
   ],
   "source": [
    "X = test_df['in_distance'].as_matrix()\n",
    "X = X.reshape((X.shape[0], 1))\n",
    "y = test_df['y_conv'].as_matrix()\n",
    "regress(X, y, 'Input Distance', 'Correct Class Probability')"
   ]
  },
  {
   "cell_type": "code",
   "execution_count": null,
   "metadata": {
    "collapsed": true
   },
   "outputs": [],
   "source": []
  },
  {
   "cell_type": "code",
   "execution_count": null,
   "metadata": {
    "collapsed": true
   },
   "outputs": [],
   "source": []
  }
 ],
 "metadata": {
  "kernelspec": {
   "display_name": "Python 2",
   "language": "python",
   "name": "python2"
  },
  "language_info": {
   "codemirror_mode": {
    "name": "ipython",
    "version": 2
   },
   "file_extension": ".py",
   "mimetype": "text/x-python",
   "name": "python",
   "nbconvert_exporter": "python",
   "pygments_lexer": "ipython2",
   "version": "2.7.13"
  }
 },
 "nbformat": 4,
 "nbformat_minor": 2
}
