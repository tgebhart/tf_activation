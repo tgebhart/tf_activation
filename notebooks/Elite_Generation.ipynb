{
 "cells": [
  {
   "cell_type": "code",
   "execution_count": 1,
   "metadata": {},
   "outputs": [],
   "source": [
    "%load_ext autoreload\n",
    "%autoreload 2\n",
    "from tf_activation import DeepGraph\n",
    "from tf_activation.models import mnist_cpcpff as mnist_model\n",
    "\n",
    "import math\n",
    "import random\n",
    "\n",
    "import networkx as nx\n",
    "import tensorflow as tf\n",
    "import numpy as np\n",
    "%matplotlib inline\n",
    "import matplotlib.pyplot as plt\n",
    "\n",
    "from tensorflow.examples.tutorials.mnist import input_data"
   ]
  },
  {
   "cell_type": "code",
   "execution_count": 2,
   "metadata": {},
   "outputs": [
    {
     "name": "stdout",
     "output_type": "stream",
     "text": [
      "Extracting MNIST_data/train-images-idx3-ubyte.gz\n",
      "Extracting MNIST_data/train-labels-idx1-ubyte.gz\n",
      "Extracting MNIST_data/t10k-images-idx3-ubyte.gz\n",
      "Extracting MNIST_data/t10k-labels-idx1-ubyte.gz\n"
     ]
    }
   ],
   "source": [
    "mnist = input_data.read_data_sets('MNIST_data', one_hot=True)"
   ]
  },
  {
   "cell_type": "code",
   "execution_count": 3,
   "metadata": {
    "collapsed": true
   },
   "outputs": [],
   "source": [
    "x = tf.placeholder(tf.float32, [None, 784])\n",
    "\n",
    "# Define loss and optimizer\n",
    "y_ = tf.placeholder(tf.float32, [None, 10])\n",
    "\n",
    "# Build the graph for the deep net\n",
    "net, keep_prob = mnist_model.deepnn(x)\n",
    "\n",
    "cross_entropy = tf.reduce_mean(tf.nn.softmax_cross_entropy_with_logits(labels=y_, logits=net['y_conv']))\n",
    "train_step = tf.train.AdamOptimizer(1e-4).minimize(cross_entropy)\n",
    "correct_prediction = tf.equal(tf.argmax(net['y_conv'], 1), tf.argmax(y_, 1))\n",
    "accuracy = tf.reduce_mean(tf.cast(correct_prediction, tf.float32))"
   ]
  },
  {
   "cell_type": "code",
   "execution_count": 4,
   "metadata": {},
   "outputs": [
    {
     "name": "stdout",
     "output_type": "stream",
     "text": [
      "INFO:tensorflow:Restoring parameters from ../logdir/models/mnist_cpcpff_2000.0.ckpt\n",
      "97.3755\n"
     ]
    }
   ],
   "source": [
    "saver = tf.train.Saver()\n",
    "with tf.Session() as sess:\n",
    "    saver.restore(sess, '../logdir/models/mnist_cpcpff_2000.0.ckpt')\n",
    "    print(accuracy.eval(feed_dict={x: mnist.test.images[:1], y_:mnist.test.labels[:1], keep_prob: 1.0}))\n",
    "    \n",
    "    batch = mnist.train.next_batch(1)\n",
    "    \n",
    "    conv1 = {}\n",
    "    conv1['W'] = sess.run(net['W_conv1'])\n",
    "    conv1['i'] = sess.run(net['input'], feed_dict={x: mnist.test.images[:1]})\n",
    "    conv1['o'] = sess.run(net['h_conv1'], feed_dict={x: mnist.test.images[:1]})\n",
    "        \n",
    "    pool1 = {}\n",
    "    pool1['W'] = conv1['W']\n",
    "    pool1['i'] = conv1['o']\n",
    "    pool1['o'] = sess.run(net['h_pool1'], feed_dict={x: mnist.test.images[:1]})\n",
    "        \n",
    "    conv2 = {}\n",
    "    conv2['W'] = sess.run(net['W_conv2'])\n",
    "    conv2['i'] = pool1['o']\n",
    "    conv2['o'] = sess.run(net['h_conv2'], feed_dict={x: mnist.test.images[:1]})\n",
    "        \n",
    "    pool2 = {}\n",
    "    pool2['W'] = conv2['W']\n",
    "    pool2['i'] = conv2['o']\n",
    "    pool2['o'] = sess.run(net['h_pool2'], feed_dict={x: mnist.test.images[:1]})\n",
    "        \n",
    "    fc1 = {}\n",
    "    fc1['W'] = sess.run(net['W_fc1'])\n",
    "    fc1['i'] = pool2['o']\n",
    "    fc1['o'] = sess.run(net['h_fc1'], feed_dict={x: mnist.test.images[:1]})\n",
    "        \n",
    "    fc2 = {}\n",
    "    fc2['W'] = sess.run(net['W_fc2'])\n",
    "    fc2['i'] = sess.run(net['h_fc1_drop'], feed_dict={x: mnist.test.images[:1], keep_prob: 1.0})\n",
    "    fc2['o'] = sess.run(net['y_conv'], feed_dict={x: mnist.test.images[:1],  keep_prob: 1.0})"
   ]
  },
  {
   "cell_type": "code",
   "execution_count": 5,
   "metadata": {
    "collapsed": true
   },
   "outputs": [],
   "source": [
    "seed = 1\n",
    "random.seed(a=seed)\n",
    "np.random.seed(seed=seed)\n",
    "def build_elites(im, size=200, num_changes=100):\n",
    "    elites = np.empty(shape=(size+1,im.shape[0],im.shape[1]))\n",
    "    for i in range(size):\n",
    "        idxs = np.random.choice(im.shape[1], size=num_changes)\n",
    "        elite = np.copy(im[0,:])\n",
    "        for idx in idxs:\n",
    "            elite[idx] = elite[idx] + random.uniform(-elite[idx], 1-elite[idx])\n",
    "        elites[i,:,:] = elite\n",
    "    elites[size,:,:] = im\n",
    "    return elites"
   ]
  },
  {
   "cell_type": "code",
   "execution_count": null,
   "metadata": {
    "collapsed": true
   },
   "outputs": [],
   "source": [
    "def train_elites(im, lab, trials=10000, size=200, num_changes=10, print_every=100):\n",
    "    \n",
    "    ret_elite = None\n",
    "    with tf.Session() as sess:\n",
    "        saver.restore(sess, '../logdir/models/mnist_cpcpff_2000.0.ckpt')\n",
    "        im = np.reshape(im, (1,im.shape[0]))\n",
    "        lab = np.reshape(lab, (1, lab.shape[0]))\n",
    "        print('Initial error: {}'.format(cross_entropy.eval(feed_dict={x: im, y_:lab, keep_prob: 1.0})))\n",
    "\n",
    "        trial = 0\n",
    "        trial_im = im\n",
    "        while trial < trials:\n",
    "            elite_set = build_elites(trial_im, size=size, num_changes=num_changes)\n",
    "            results = np.zeros(shape=(elite_set.shape[0]))\n",
    "            for i in range(elite_set.shape[0]):\n",
    "                results[i] = cross_entropy.eval(feed_dict={x: elite_set[i,:, :], y_:lab, keep_prob: 1.0})\n",
    "            min_idx = np.argmin(results)\n",
    "            if trial % print_every == 0:\n",
    "                print('Min cross-entropy in trial {}: {}'.format(trial, results[min_idx]))\n",
    "            trial_im = elite_set[min_idx,:,:]\n",
    "            trial = trial + 1\n",
    "        ret_elite = trial_im\n",
    "            \n",
    "    return ret_elite\n",
    "            "
   ]
  },
  {
   "cell_type": "code",
   "execution_count": null,
   "metadata": {},
   "outputs": [
    {
     "name": "stdout",
     "output_type": "stream",
     "text": [
      "INFO:tensorflow:Restoring parameters from ../logdir/models/mnist_cpcpff_2000.0.ckpt\n"
     ]
    }
   ],
   "source": [
    "im = mnist.test.images[0]\n",
    "lab = mnist.test.labels[0]\n",
    "elite = train_elites(im, lab, num_changes=100)"
   ]
  },
  {
   "cell_type": "code",
   "execution_count": null,
   "metadata": {},
   "outputs": [],
   "source": [
    "plt.imshow(np.reshape(elite,[28,28]), interpolation=\"nearest\", cmap=\"gray\")"
   ]
  }
 ],
 "metadata": {
  "kernelspec": {
   "display_name": "Python 2",
   "language": "python",
   "name": "python2"
  },
  "language_info": {
   "codemirror_mode": {
    "name": "ipython",
    "version": 2
   },
   "file_extension": ".py",
   "mimetype": "text/x-python",
   "name": "python",
   "nbconvert_exporter": "python",
   "pygments_lexer": "ipython2",
   "version": "2.7.13"
  }
 },
 "nbformat": 4,
 "nbformat_minor": 2
}
