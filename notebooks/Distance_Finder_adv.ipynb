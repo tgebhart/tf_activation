{
 "cells": [
  {
   "cell_type": "code",
   "execution_count": 1,
   "metadata": {
    "collapsed": true
   },
   "outputs": [],
   "source": [
    "%load_ext autoreload\n",
    "%autoreload 2\n",
    "from tf_activation import DeepGraph\n",
    "from tf_activation.models import mnist_cff as mnist_model\n",
    "\n",
    "import math\n",
    "import random\n",
    "import os\n",
    "\n",
    "import networkx as nx\n",
    "import tensorflow as tf\n",
    "import numpy as np\n",
    "import pandas as pd\n",
    "from sklearn import datasets, linear_model\n",
    "from sklearn.metrics import r2_score\n",
    "%matplotlib inline\n",
    "import matplotlib.pyplot as plt\n",
    "\n",
    "from tensorflow.examples.tutorials.mnist import input_data"
   ]
  },
  {
   "cell_type": "code",
   "execution_count": 2,
   "metadata": {},
   "outputs": [
    {
     "name": "stdout",
     "output_type": "stream",
     "text": [
      "Extracting MNIST_data/train-images-idx3-ubyte.gz\n",
      "Extracting MNIST_data/train-labels-idx1-ubyte.gz\n",
      "Extracting MNIST_data/t10k-images-idx3-ubyte.gz\n",
      "Extracting MNIST_data/t10k-labels-idx1-ubyte.gz\n"
     ]
    }
   ],
   "source": [
    "mnist_map = {\n",
    "    0: 3,\n",
    "    1: 2,\n",
    "    2: 1,\n",
    "    3: 18,\n",
    "    4: 4,\n",
    "    5: 8,\n",
    "    6: 11,\n",
    "    7: 0,\n",
    "    8: 61,\n",
    "    9: 7\n",
    "}\n",
    "\n",
    "SAVE_PATH = '../logdir/models'\n",
    "ADV_PATH = '../logdir/adversaries'\n",
    "ELITE_PATH = '../logdir/elites'\n",
    "DATA_PATH = '../logdir/data'\n",
    "\n",
    "\n",
    "mnist = input_data.read_data_sets('MNIST_data', one_hot=True)\n",
    "\n",
    "config = tf.ConfigProto()\n",
    "config.gpu_options.per_process_gpu_memory_fraction = 0.5\n",
    "config.gpu_options.allocator_type = 'BFC'\n",
    "config.log_device_placement = True\n",
    "\n",
    "persistence_module = tf.load_op_library('/home/tgebhart/python/tensorflow/bazel-bin/tensorflow/core/user_ops/nn_graph_persistence.so')"
   ]
  },
  {
   "cell_type": "code",
   "execution_count": 3,
   "metadata": {
    "collapsed": true
   },
   "outputs": [],
   "source": [
    "elite_1  = np.genfromtxt(os.path.join(ELITE_PATH, 'mnist_1_15:25:07_04-08-17.csv'), delimiter=',')\n",
    "im_1 = mnist.test.images[mnist_map[1]]\n",
    "adv_1 = np.genfromtxt(os.path.join(ADV_PATH, 'mnist_1_20:30:52_28-08-17.csv'), delimiter=',')\n",
    "\n",
    "steps = 100\n",
    "\n",
    "columns = ['in_distance', 'per_distance', 'cross_entropy', 'y_conv', 'accuracy']\n",
    "index = range(steps)\n",
    "test_df = pd.DataFrame(index=index, columns=columns)"
   ]
  },
  {
   "cell_type": "code",
   "execution_count": 4,
   "metadata": {
    "collapsed": true
   },
   "outputs": [],
   "source": [
    "def create_path(start_im, end_im, steps=100):\n",
    "    ret = []\n",
    "    t = np.divide(end_im - start_im, steps)\n",
    "    for i in range(1,steps+1):\n",
    "        ret.append(start_im + i*t)\n",
    "    return ret\n",
    "    "
   ]
  },
  {
   "cell_type": "code",
   "execution_count": 5,
   "metadata": {
    "collapsed": true
   },
   "outputs": [],
   "source": [
    "path = create_path(im_1, adv_1)\n",
    "path.append(adv_1)"
   ]
  },
  {
   "cell_type": "code",
   "execution_count": 6,
   "metadata": {
    "collapsed": true
   },
   "outputs": [],
   "source": [
    "# setup model\n",
    "with tf.device('/cpu:0'):\n",
    "    # Create the model\n",
    "    x = tf.placeholder(tf.float32, [None, 784])\n",
    "\n",
    "    # Define loss and optimizer\n",
    "    y_ = tf.placeholder(tf.float32, [None, 10])\n",
    "\n",
    "    # Build the graph for the deep net\n",
    "    net, keep_prob = mnist_model.deepnn(x)\n",
    "\n",
    "    cross_entropy = tf.reduce_mean(tf.nn.softmax_cross_entropy_with_logits(labels=y_, logits=net['y_conv']))\n",
    "    train_step = tf.train.AdamOptimizer(1e-4).minimize(cross_entropy)\n",
    "    correct_prediction = tf.equal(tf.argmax(net['y_conv'], 1), tf.argmax(y_, 1))\n",
    "    accuracy = tf.reduce_mean(tf.cast(correct_prediction, tf.float32))\n",
    "    \n",
    "    saver = tf.train.Saver()"
   ]
  },
  {
   "cell_type": "code",
   "execution_count": 7,
   "metadata": {
    "scrolled": true
   },
   "outputs": [
    {
     "name": "stdout",
     "output_type": "stream",
     "text": [
      "INFO:tensorflow:Restoring parameters from ../logdir/models/mnist_cff_2000.ckpt\n",
      "('Step: ', 0)\n",
      "('distance:', array([ 0.00103271], dtype=float32))\n",
      "('Step: ', 1)\n",
      "('distance:', array([ 0.00206524], dtype=float32))\n",
      "('Step: ', 2)\n",
      "('distance:', array([ 0.00309816], dtype=float32))\n",
      "('Step: ', 3)\n",
      "('distance:', array([ 0.00413077], dtype=float32))\n",
      "('Step: ', 4)\n",
      "('distance:', array([ 0.00516342], dtype=float32))\n",
      "('Step: ', 5)\n",
      "('distance:', array([ 0.00619587], dtype=float32))\n",
      "('Step: ', 6)\n",
      "('distance:', array([ 0.00722851], dtype=float32))\n",
      "('Step: ', 7)\n",
      "('distance:', array([ 0.00821297], dtype=float32))\n",
      "('Step: ', 8)\n",
      "('distance:', array([ 0.00929408], dtype=float32))\n",
      "('Step: ', 9)\n",
      "('distance:', array([ 0.01021036], dtype=float32))\n",
      "('Step: ', 10)\n",
      "('distance:', array([ 0.01120926], dtype=float32))\n",
      "('Step: ', 11)\n",
      "('distance:', array([ 0.01239216], dtype=float32))\n",
      "('Step: ', 12)\n",
      "('distance:', array([ 0.01320644], dtype=float32))\n",
      "('Step: ', 13)\n",
      "('distance:', array([ 0.01421827], dtype=float32))\n",
      "('Step: ', 14)\n",
      "('distance:', array([ 0.01521687], dtype=float32))\n",
      "('Step: ', 15)\n",
      "('distance:', array([ 0.01643227], dtype=float32))\n",
      "('Step: ', 16)\n",
      "('distance:', array([ 0.01742443], dtype=float32))\n",
      "('Step: ', 17)\n",
      "('distance:', array([ 0.01792651], dtype=float32))\n",
      "('Step: ', 18)\n",
      "('distance:', array([ 0.01940807], dtype=float32))\n",
      "('Step: ', 19)\n",
      "('distance:', array([ 0.01969801], dtype=float32))\n",
      "('Step: ', 20)\n",
      "('distance:', array([ 0.02142718], dtype=float32))\n",
      "('Step: ', 21)\n",
      "('distance:', array([ 0.02240998], dtype=float32))\n",
      "('Step: ', 22)\n",
      "('distance:', array([ 0.25485754], dtype=float32))\n",
      "('Step: ', 23)\n",
      "('distance:', array([ 0.02261691], dtype=float32))\n",
      "('Step: ', 24)\n",
      "('distance:', array([ 0.02335042], dtype=float32))\n",
      "('Step: ', 25)\n",
      "('distance:', array([ 0.25766259], dtype=float32))\n",
      "('Step: ', 26)\n",
      "('distance:', array([ 0.25859639], dtype=float32))\n",
      "('Step: ', 27)\n",
      "('distance:', array([ 0.02564408], dtype=float32))\n",
      "('Step: ', 28)\n",
      "('distance:', array([ 0.02642596], dtype=float32))\n",
      "('Step: ', 29)\n",
      "('distance:', array([ 0.02720796], dtype=float32))\n",
      "('Step: ', 30)\n",
      "('distance:', array([ 0.02798999], dtype=float32))\n",
      "('Step: ', 31)\n",
      "('distance:', array([ 0.02873899], dtype=float32))\n",
      "('Step: ', 32)\n",
      "('distance:', array([ 0.2638317], dtype=float32))\n",
      "('Step: ', 33)\n",
      "('distance:', array([ 0.26314557], dtype=float32))\n",
      "('Step: ', 34)\n",
      "('distance:', array([ 0.02984216], dtype=float32))\n",
      "('Step: ', 35)\n",
      "('distance:', array([ 0.03041021], dtype=float32))\n",
      "('Step: ', 36)\n",
      "('distance:', array([ 0.03097838], dtype=float32))\n",
      "('Step: ', 37)\n",
      "('distance:', array([ 0.26549578], dtype=float32))\n",
      "('Step: ', 38)\n",
      "('distance:', array([ 0.26514316], dtype=float32))\n",
      "('Step: ', 39)\n",
      "('distance:', array([ 0.03229243], dtype=float32))\n",
      "('Step: ', 40)\n",
      "('distance:', array([ 0.03278603], dtype=float32))\n",
      "('Step: ', 41)\n",
      "('distance:', array([ 0.26663834], dtype=float32))\n",
      "('Step: ', 42)\n",
      "('distance:', array([ 0.26714078], dtype=float32))\n",
      "('Step: ', 43)\n",
      "('distance:', array([ 0.26764327], dtype=float32))\n",
      "('Step: ', 44)\n",
      "('distance:', array([ 0.2681464], dtype=float32))\n",
      "('Step: ', 45)\n",
      "('distance:', array([ 0.26864797], dtype=float32))\n",
      "('Step: ', 46)\n",
      "('distance:', array([ 0.03534774], dtype=float32))\n",
      "('Step: ', 47)\n",
      "('distance:', array([ 0.03570113], dtype=float32))\n",
      "('Step: ', 48)\n",
      "('distance:', array([ 0.03607278], dtype=float32))\n",
      "('Step: ', 49)\n",
      "('distance:', array([ 0.27063572], dtype=float32))\n",
      "('Step: ', 50)\n",
      "('distance:', array([ 0.03705855], dtype=float32))\n",
      "('Step: ', 51)\n",
      "('distance:', array([ 0.03755905], dtype=float32))\n",
      "('Step: ', 52)\n",
      "('distance:', array([ 0.0379991], dtype=float32))\n",
      "('Step: ', 53)\n",
      "('distance:', array([ 0.03836882], dtype=float32))\n",
      "('Step: ', 54)\n",
      "('distance:', array([ 0.2730194], dtype=float32))\n",
      "('Step: ', 55)\n",
      "('distance:', array([ 0.03895485], dtype=float32))\n",
      "('Step: ', 56)\n",
      "('distance:', array([ 0.03921022], dtype=float32))\n",
      "('Step: ', 57)\n",
      "('distance:', array([ 0.27398783], dtype=float32))\n",
      "('Step: ', 58)\n",
      "('distance:', array([ 0.27428114], dtype=float32))\n",
      "('Step: ', 59)\n",
      "('distance:', array([ 0.27458084], dtype=float32))\n",
      "('Step: ', 60)\n",
      "('distance:', array([ 0.04083136], dtype=float32))\n",
      "('Step: ', 61)\n",
      "('distance:', array([ 0.04102737], dtype=float32))\n",
      "('Step: ', 62)\n",
      "('distance:', array([ 0.27593827], dtype=float32))\n",
      "('Step: ', 63)\n",
      "('distance:', array([ 0.04142144], dtype=float32))\n",
      "('Step: ', 64)\n",
      "('distance:', array([ 0.04156997], dtype=float32))\n",
      "('Step: ', 65)\n",
      "('distance:', array([ 0.04172167], dtype=float32))\n",
      "('Step: ', 66)\n",
      "('distance:', array([ 0.04183258], dtype=float32))\n",
      "('Step: ', 67)\n",
      "('distance:', array([ 0.04189684], dtype=float32))\n",
      "('Step: ', 68)\n",
      "('distance:', array([ 0.27687848], dtype=float32))\n",
      "('Step: ', 69)\n",
      "('distance:', array([ 0.04231516], dtype=float32))\n",
      "('Step: ', 70)\n",
      "('distance:', array([ 0.04257644], dtype=float32))\n",
      "('Step: ', 71)\n",
      "('distance:', array([ 0.04284007], dtype=float32))\n",
      "('Step: ', 72)\n",
      "('distance:', array([ 0.04310447], dtype=float32))\n",
      "('Step: ', 73)\n",
      "('distance:', array([ 0.04338428], dtype=float32))\n",
      "('Step: ', 74)\n",
      "('distance:', array([ 0.04364613], dtype=float32))\n",
      "('Step: ', 75)\n",
      "('distance:', array([ 0.0438915], dtype=float32))\n",
      "('Step: ', 76)\n",
      "('distance:', array([ 0.04413854], dtype=float32))\n",
      "('Step: ', 77)\n",
      "('distance:', array([ 0.27993083], dtype=float32))\n",
      "('Step: ', 78)\n",
      "('distance:', array([ 0.04456401], dtype=float32))\n",
      "('Step: ', 79)\n",
      "('distance:', array([ 0.04460813], dtype=float32))\n",
      "('Step: ', 80)\n",
      "('distance:', array([ 0.04458735], dtype=float32))\n",
      "('Step: ', 81)\n",
      "('distance:', array([ 0.28086817], dtype=float32))\n",
      "('Step: ', 82)\n",
      "('distance:', array([ 0.04477398], dtype=float32))\n",
      "('Step: ', 83)\n",
      "('distance:', array([ 0.28141215], dtype=float32))\n",
      "('Step: ', 84)\n",
      "('distance:', array([ 0.045052], dtype=float32))\n",
      "('Step: ', 85)\n",
      "('distance:', array([ 0.28213328], dtype=float32))\n",
      "('Step: ', 86)\n",
      "('distance:', array([ 0.28251642], dtype=float32))\n",
      "('Step: ', 87)\n",
      "('distance:', array([ 0.28292036], dtype=float32))\n",
      "('Step: ', 88)\n",
      "('distance:', array([ 0.04598005], dtype=float32))\n",
      "('Step: ', 89)\n",
      "('distance:', array([ 0.28389084], dtype=float32))\n",
      "('Step: ', 90)\n",
      "('distance:', array([ 0.04664911], dtype=float32))\n",
      "('Step: ', 91)\n",
      "('distance:', array([ 0.28469923], dtype=float32))\n",
      "('Step: ', 92)\n",
      "('distance:', array([ 0.28509477], dtype=float32))\n",
      "('Step: ', 93)\n",
      "('distance:', array([ 0.28758878], dtype=float32))\n",
      "('Step: ', 94)\n",
      "('distance:', array([ 0.28798604], dtype=float32))\n",
      "('Step: ', 95)\n",
      "('distance:', array([ 0.28842124], dtype=float32))\n",
      "('Step: ', 96)\n",
      "('distance:', array([ 0.05104584], dtype=float32))\n",
      "('Step: ', 97)\n",
      "('distance:', array([ 0.28927958], dtype=float32))\n",
      "('Step: ', 98)\n",
      "('distance:', array([ 0.05174498], dtype=float32))\n",
      "('Step: ', 99)\n",
      "('distance:', array([ 0.29001385], dtype=float32))\n",
      "('Step: ', 100)\n",
      "('distance:', array([ 0.29001385], dtype=float32))\n"
     ]
    }
   ],
   "source": [
    "# run network\n",
    "test_labels = np.stack((mnist.test.labels[mnist_map[1]],mnist.test.labels[mnist_map[1]]))\n",
    "p = 99.999\n",
    "with tf.Session(config=config) as sess:\n",
    "\n",
    "    saver.restore(sess, os.path.join(SAVE_PATH, 'mnist_cff_2000.ckpt'))\n",
    "\n",
    "    test_inputs = np.stack((im_1, path[0]))\n",
    "\n",
    "    percentiles = persistence_module.layerwise_percentile([net['input'],\n",
    "                                                        net['W_conv1'],\n",
    "                                                        net['h_conv1'],\n",
    "                                                        net['h_conv1'],\n",
    "                                                        net['W_fc1'],\n",
    "                                                        net['h_fc1'],\n",
    "                                                        net['h_fc1_drop'],\n",
    "                                                        net['W_fc2'],\n",
    "                                                        net['y_conv']],\n",
    "                                                        [0, 1, 2, 2, 1, 4, 4, 1, 4],\n",
    "                                                        [p,p,p])\n",
    "\n",
    "    ps1 = percentiles.eval(feed_dict={x: test_inputs[0:1], keep_prob:1.0})\n",
    "    \n",
    "    for i in range(len(path)):\n",
    "        \n",
    "        test_inputs = np.stack((im_1, path[i]))\n",
    "        in_distance = np.linalg.norm(im_1 - path[i], ord=2)\n",
    "\n",
    "        ps2 = percentiles.eval(feed_dict={x: test_inputs[1:2], keep_prob:1.0})\n",
    "\n",
    "        result = persistence_module.bottleneck_distance([net['input'],\n",
    "                                                        net['W_conv1'],\n",
    "                                                        net['h_conv1'],\n",
    "                                                        net['h_conv1'],\n",
    "                                                        net['W_fc1'],\n",
    "                                                        net['h_fc1'],\n",
    "                                                        net['h_fc1_drop'],\n",
    "                                                        net['W_fc2'],\n",
    "                                                        net['y_conv']],\n",
    "                                                        [0, 1, 2, 2, 1, 4, 4, 1, 4],\n",
    "                                                        np.stack((ps1, ps2))\n",
    "                                                        )\n",
    "\n",
    "\n",
    "        per_distance = result.eval(feed_dict={x: test_inputs, keep_prob:1.0})\n",
    "        print('Step: ', i)\n",
    "        print('distance:', per_distance)\n",
    "        \n",
    "        ce = cross_entropy.eval(feed_dict={x:test_inputs[1:], y_:test_labels[1:], keep_prob:1.0})\n",
    "        y_conv = sess.run(net['y_conv'], feed_dict={x:test_inputs[1:], keep_prob:1.0})\n",
    "        acc = accuracy.eval(feed_dict={x:test_inputs[1:], y_:test_labels[1:], keep_prob:1})\n",
    "        y_conv = y_conv / np.linalg.norm(y_conv)\n",
    "\n",
    "        test_df.loc[i, 'in_distance'] = in_distance\n",
    "        test_df.loc[i, 'per_distance'] = per_distance[0]\n",
    "        test_df.loc[i, 'cross_entropy'] = ce\n",
    "        test_df.loc[i, 'y_conv'] = y_conv[0,np.argmax(test_labels[1], axis=0)]\n",
    "        test_df.loc[i, 'accuracy'] = acc\n",
    "        "
   ]
  },
  {
   "cell_type": "code",
   "execution_count": 8,
   "metadata": {},
   "outputs": [
    {
     "data": {
      "text/html": [
       "<div>\n",
       "<style>\n",
       "    .dataframe thead tr:only-child th {\n",
       "        text-align: right;\n",
       "    }\n",
       "\n",
       "    .dataframe thead th {\n",
       "        text-align: left;\n",
       "    }\n",
       "\n",
       "    .dataframe tbody tr th {\n",
       "        vertical-align: top;\n",
       "    }\n",
       "</style>\n",
       "<table border=\"1\" class=\"dataframe\">\n",
       "  <thead>\n",
       "    <tr style=\"text-align: right;\">\n",
       "      <th></th>\n",
       "      <th>in_distance</th>\n",
       "      <th>per_distance</th>\n",
       "      <th>cross_entropy</th>\n",
       "      <th>y_conv</th>\n",
       "      <th>accuracy</th>\n",
       "    </tr>\n",
       "  </thead>\n",
       "  <tbody>\n",
       "    <tr>\n",
       "      <th>0</th>\n",
       "      <td>0.00701396</td>\n",
       "      <td>0.00103271</td>\n",
       "      <td>0.00225314</td>\n",
       "      <td>0.823512</td>\n",
       "      <td>1</td>\n",
       "    </tr>\n",
       "    <tr>\n",
       "      <th>1</th>\n",
       "      <td>0.0140279</td>\n",
       "      <td>0.00206524</td>\n",
       "      <td>0.00239276</td>\n",
       "      <td>0.821899</td>\n",
       "      <td>1</td>\n",
       "    </tr>\n",
       "    <tr>\n",
       "      <th>2</th>\n",
       "      <td>0.0210419</td>\n",
       "      <td>0.00309816</td>\n",
       "      <td>0.00254105</td>\n",
       "      <td>0.820257</td>\n",
       "      <td>1</td>\n",
       "    </tr>\n",
       "    <tr>\n",
       "      <th>3</th>\n",
       "      <td>0.0280558</td>\n",
       "      <td>0.00413077</td>\n",
       "      <td>0.00269919</td>\n",
       "      <td>0.81858</td>\n",
       "      <td>1</td>\n",
       "    </tr>\n",
       "    <tr>\n",
       "      <th>4</th>\n",
       "      <td>0.0350698</td>\n",
       "      <td>0.00516342</td>\n",
       "      <td>0.00286764</td>\n",
       "      <td>0.81686</td>\n",
       "      <td>1</td>\n",
       "    </tr>\n",
       "  </tbody>\n",
       "</table>\n",
       "</div>"
      ],
      "text/plain": [
       "  in_distance per_distance cross_entropy    y_conv accuracy\n",
       "0  0.00701396   0.00103271    0.00225314  0.823512        1\n",
       "1   0.0140279   0.00206524    0.00239276  0.821899        1\n",
       "2   0.0210419   0.00309816    0.00254105  0.820257        1\n",
       "3   0.0280558   0.00413077    0.00269919   0.81858        1\n",
       "4   0.0350698   0.00516342    0.00286764   0.81686        1"
      ]
     },
     "execution_count": 8,
     "metadata": {},
     "output_type": "execute_result"
    }
   ],
   "source": [
    "test_df.head()"
   ]
  },
  {
   "cell_type": "code",
   "execution_count": 9,
   "metadata": {
    "collapsed": true
   },
   "outputs": [],
   "source": [
    "def regress(X, y, xlab, ylab):\n",
    "    \n",
    "    print(X.shape,y.shape)\n",
    "\n",
    "    # Split the data into training/testing sets\n",
    "    X_train = X[:-20]\n",
    "    X_test = X[-20:]\n",
    "\n",
    "    # Split the targets into training/testing sets\n",
    "    y_train = y[:-20]\n",
    "    y_test = y[-20:]\n",
    "\n",
    "    # Create linear regression object\n",
    "    regr = linear_model.LinearRegression()\n",
    "\n",
    "    # Train the model using the training sets\n",
    "    regr.fit(X_train, y_train)\n",
    "\n",
    "    # The coefficients\n",
    "    print('Coefficients: ', regr.coef_)\n",
    "    # The mean squared error\n",
    "    print(\"Mean squared error: %.2f\"\n",
    "          % np.mean((regr.predict(X_test) - y_test) ** 2))\n",
    "    # Explained variance score: 1 is perfect prediction\n",
    "    print('Variance score: %.2f' % regr.score(X_test, y_test))\n",
    "    print('R^2: %.2f' % r2_score(y_test, regr.predict(X_test)))\n",
    "    \n",
    "    fig, ax = plt.subplots()\n",
    "    X_min = np.min(X)\n",
    "    X_max = np.max(X)\n",
    "    y_min = np.min(y)\n",
    "    y_max = np.max(y)\n",
    "    # Plot outputs\n",
    "    \n",
    "    ax.scatter(X, y,  color='black')\n",
    "    ax.plot(X, regr.predict(X), color='blue', linewidth=3)\n",
    "\n",
    "\n",
    "    ax.set_xlim(X_min, X_max)\n",
    "    ax.set_ylim(y_min, y_max)\n",
    "    \n",
    "    plt.xlabel(xlab)\n",
    "    plt.ylabel(ylab)\n",
    "    plt.title('{} vs {}'.format(xlab, ylab))\n",
    "\n",
    "    plt.show()\n"
   ]
  },
  {
   "cell_type": "code",
   "execution_count": 10,
   "metadata": {},
   "outputs": [
    {
     "name": "stdout",
     "output_type": "stream",
     "text": [
      "((101, 1), (101,))\n",
      "('Coefficients: ', array([ 0.15950183]))\n",
      "Mean squared error: 0.02\n",
      "Variance score: -0.41\n",
      "R^2: -0.41\n"
     ]
    },
    {
     "data": {
      "image/png": "[encoded data removed]",
      "text/plain": [
       "<matplotlib.figure.Figure at 0x7fe99a3c1550>"
      ]
     },
     "metadata": {},
     "output_type": "display_data"
    }
   ],
   "source": [
    "X = test_df['in_distance'].as_matrix()\n",
    "X = X.reshape((X.shape[0], 1))\n",
    "y = test_df['per_distance'].as_matrix()\n",
    "regress(X, y, 'Input Distance', 'Persistence Distance')"
   ]
  },
  {
   "cell_type": "code",
   "execution_count": 11,
   "metadata": {},
   "outputs": [
    {
     "name": "stdout",
     "output_type": "stream",
     "text": [
      "((101, 1), (101,))\n",
      "('Coefficients: ', array([ 0.04714809]))\n",
      "Mean squared error: 0.02\n",
      "Variance score: -0.89\n",
      "R^2: -0.89\n"
     ]
    },
    {
     "data": {
      "image/png": "[encoded data removed]",
      "text/plain": [
       "<matplotlib.figure.Figure at 0x7fe9227f8950>"
      ]
     },
     "metadata": {},
     "output_type": "display_data"
    }
   ],
   "source": [
    "X = test_df['cross_entropy'].as_matrix()\n",
    "X = X.reshape((X.shape[0], 1))\n",
    "regress(X, y, 'Cross-Entropy', 'Persistence Distance')"
   ]
  },
  {
   "cell_type": "code",
   "execution_count": 12,
   "metadata": {},
   "outputs": [
    {
     "name": "stdout",
     "output_type": "stream",
     "text": [
      "((101, 1), (101,))\n",
      "('Coefficients: ', array([-0.26966526]))\n",
      "Mean squared error: 0.02\n",
      "Variance score: -0.42\n",
      "R^2: -0.42\n"
     ]
    },
    {
     "data": {
      "image/png": "[encoded data removed]",
      "text/plain": [
       "<matplotlib.figure.Figure at 0x7fe918244290>"
      ]
     },
     "metadata": {},
     "output_type": "display_data"
    }
   ],
   "source": [
    "X = test_df['y_conv'].as_matrix()\n",
    "X = X.reshape((X.shape[0], 1))\n",
    "regress(X, y, 'Correct Class Probability', 'Persistence Distance')"
   ]
  },
  {
   "cell_type": "code",
   "execution_count": 13,
   "metadata": {},
   "outputs": [
    {
     "name": "stdout",
     "output_type": "stream",
     "text": [
      "((101, 1), (101,))\n",
      "('Coefficients: ', array([-0.44589901]))\n",
      "Mean squared error: 0.00\n",
      "Variance score: -1.62\n",
      "R^2: -1.62\n"
     ]
    },
    {
     "data": {
      "image/png": "[encoded data removed]",
      "text/plain": [
       "<matplotlib.figure.Figure at 0x7fe9181fa750>"
      ]
     },
     "metadata": {},
     "output_type": "display_data"
    }
   ],
   "source": [
    "X = test_df['in_distance'].as_matrix()\n",
    "X = X.reshape((X.shape[0], 1))\n",
    "y = test_df['y_conv'].as_matrix()\n",
    "regress(X, y, 'Input Distance', 'Correct Class Probability')"
   ]
  },
  {
   "cell_type": "code",
   "execution_count": null,
   "metadata": {
    "collapsed": true
   },
   "outputs": [],
   "source": []
  },
  {
   "cell_type": "code",
   "execution_count": null,
   "metadata": {
    "collapsed": true
   },
   "outputs": [],
   "source": []
  }
 ],
 "metadata": {
  "kernelspec": {
   "display_name": "Python 2",
   "language": "python",
   "name": "python2"
  },
  "language_info": {
   "codemirror_mode": {
    "name": "ipython",
    "version": 2
   },
   "file_extension": ".py",
   "mimetype": "text/x-python",
   "name": "python",
   "nbconvert_exporter": "python",
   "pygments_lexer": "ipython2",
   "version": "2.7.13"
  }
 },
 "nbformat": 4,
 "nbformat_minor": 2
}
