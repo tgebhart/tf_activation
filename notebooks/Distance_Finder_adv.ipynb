{
 "cells": [
  {
   "cell_type": "code",
   "execution_count": 1,
   "metadata": {
    "collapsed": true
   },
   "outputs": [],
   "source": [
    "%load_ext autoreload\n",
    "%autoreload 2\n",
    "from tf_activation import DeepGraph\n",
    "from tf_activation.models import mnist_cff as mnist_model\n",
    "\n",
    "import math\n",
    "import random\n",
    "import os\n",
    "\n",
    "import networkx as nx\n",
    "import tensorflow as tf\n",
    "import numpy as np\n",
    "import pandas as pd\n",
    "from sklearn import datasets, linear_model\n",
    "from sklearn.metrics import r2_score\n",
    "%matplotlib inline\n",
    "import matplotlib.pyplot as plt\n",
    "\n",
    "from tensorflow.examples.tutorials.mnist import input_data"
   ]
  },
  {
   "cell_type": "code",
   "execution_count": 2,
   "metadata": {},
   "outputs": [
    {
     "name": "stdout",
     "output_type": "stream",
     "text": [
      "Extracting MNIST_data/train-images-idx3-ubyte.gz\n",
      "Extracting MNIST_data/train-labels-idx1-ubyte.gz\n",
      "Extracting MNIST_data/t10k-images-idx3-ubyte.gz\n",
      "Extracting MNIST_data/t10k-labels-idx1-ubyte.gz\n"
     ]
    }
   ],
   "source": [
    "mnist_map = {\n",
    "    0: 3,\n",
    "    1: 2,\n",
    "    2: 1,\n",
    "    3: 18,\n",
    "    4: 4,\n",
    "    5: 8,\n",
    "    6: 11,\n",
    "    7: 0,\n",
    "    8: 61,\n",
    "    9: 7\n",
    "}\n",
    "\n",
    "SAVE_PATH = '../logdir/models'\n",
    "ADV_PATH = '../logdir/adversaries/mnist_test_adversaries_19:50:09_18-09-17'\n",
    "ELITE_PATH = '../logdir/elites'\n",
    "DATA_PATH = '../logdir/data'\n",
    "SAVE_FIG_LOC = '../logdir/figures'\n",
    "\n",
    "\n",
    "mnist = input_data.read_data_sets('MNIST_data', one_hot=True)\n",
    "\n",
    "config = tf.ConfigProto()\n",
    "config.gpu_options.per_process_gpu_memory_fraction = 0.5\n",
    "config.gpu_options.allocator_type = 'BFC'\n",
    "config.log_device_placement = True\n",
    "\n",
    "persistence_module = tf.load_op_library('/home/tgebhart/python/tensorflow/bazel-bin/tensorflow/core/user_ops/nn_graph_persistence.so')"
   ]
  },
  {
   "cell_type": "code",
   "execution_count": 3,
   "metadata": {},
   "outputs": [],
   "source": [
    "im_1 = mnist.test.images[2]\n",
    "adv_1 = np.genfromtxt(os.path.join(ADV_PATH, '1_2.csv'), delimiter=',')\n",
    "\n",
    "steps = 100\n",
    "\n",
    "columns = ['in_distance', 'per_distance', 'cross_entropy', 'y_conv', 'accuracy']\n",
    "index = range(steps)\n",
    "test_df = pd.DataFrame(index=index, columns=columns)"
   ]
  },
  {
   "cell_type": "code",
   "execution_count": 4,
   "metadata": {
    "collapsed": true
   },
   "outputs": [],
   "source": [
    "def create_path(start_im, end_im, steps=100):\n",
    "    ret = []\n",
    "    t = np.divide(end_im - start_im, steps)\n",
    "    for i in range(1,steps+1):\n",
    "        ret.append(start_im + i*t)\n",
    "    return ret\n",
    "    "
   ]
  },
  {
   "cell_type": "code",
   "execution_count": 5,
   "metadata": {
    "collapsed": true
   },
   "outputs": [],
   "source": [
    "path = create_path(im_1, adv_1)\n",
    "path.append(adv_1)"
   ]
  },
  {
   "cell_type": "code",
   "execution_count": 6,
   "metadata": {
    "collapsed": true
   },
   "outputs": [],
   "source": [
    "# setup model\n",
    "with tf.device('/cpu:0'):\n",
    "    # Create the model\n",
    "    x = tf.placeholder(tf.float32, [None, 784])\n",
    "\n",
    "    # Define loss and optimizer\n",
    "    y_ = tf.placeholder(tf.float32, [None, 10])\n",
    "\n",
    "    # Build the graph for the deep net\n",
    "    net, keep_prob = mnist_model.deepnn(x)\n",
    "\n",
    "    cross_entropy = tf.reduce_mean(tf.nn.softmax_cross_entropy_with_logits(labels=y_, logits=net['y_conv']))\n",
    "    train_step = tf.train.AdamOptimizer(1e-4).minimize(cross_entropy)\n",
    "    correct_prediction = tf.equal(tf.argmax(net['y_conv'], 1), tf.argmax(y_, 1))\n",
    "    accuracy = tf.reduce_mean(tf.cast(correct_prediction, tf.float32))\n",
    "    \n",
    "    saver = tf.train.Saver()"
   ]
  },
  {
   "cell_type": "code",
   "execution_count": 7,
   "metadata": {
    "scrolled": true
   },
   "outputs": [
    {
     "name": "stdout",
     "output_type": "stream",
     "text": [
      "INFO:tensorflow:Restoring parameters from ../logdir/models/mnist_cff_2000.ckpt\n",
      "('Step: ', 0)\n",
      "('distance:', array([ 583954.8125], dtype=float32))\n",
      "('Step: ', 1)\n",
      "('distance:', array([ 583439.9375], dtype=float32))\n",
      "('Step: ', 2)\n",
      "('distance:', array([ 583372.6875], dtype=float32))\n",
      "('Step: ', 3)\n",
      "('distance:', array([ 584029.75], dtype=float32))\n",
      "('Step: ', 4)\n",
      "('distance:', array([ 583403.], dtype=float32))\n",
      "('Step: ', 5)\n",
      "('distance:', array([ 583336.0625], dtype=float32))\n",
      "('Step: ', 6)\n",
      "('distance:', array([ 583970.25], dtype=float32))\n",
      "('Step: ', 7)\n",
      "('distance:', array([ 583929.3125], dtype=float32))\n",
      "('Step: ', 8)\n",
      "('distance:', array([ 583329.5], dtype=float32))\n",
      "('Step: ', 9)\n",
      "('distance:', array([ 583343.875], dtype=float32))\n",
      "('Step: ', 10)\n",
      "('distance:', array([ 583998.75], dtype=float32))\n",
      "('Step: ', 11)\n",
      "('distance:', array([ 584613.6875], dtype=float32))\n",
      "('Step: ', 12)\n",
      "('distance:', array([ 584310.1875], dtype=float32))\n",
      "('Step: ', 13)\n",
      "('distance:', array([ 583347.375], dtype=float32))\n",
      "('Step: ', 14)\n",
      "('distance:', array([ 586069.5625], dtype=float32))\n",
      "('Step: ', 15)\n",
      "('distance:', array([ 584764.5], dtype=float32))\n"
     ]
    },
    {
     "ename": "KeyboardInterrupt",
     "evalue": "",
     "output_type": "error",
     "traceback": [
      "\u001b[0;31m---------------------------------------------------------------------------\u001b[0m",
      "\u001b[0;31mKeyboardInterrupt\u001b[0m                         Traceback (most recent call last)",
      "\u001b[0;32m<ipython-input-7-8800d004fadc>\u001b[0m in \u001b[0;36m<module>\u001b[0;34m()\u001b[0m\n\u001b[1;32m     27\u001b[0m         \u001b[0min_distance\u001b[0m \u001b[0;34m=\u001b[0m \u001b[0mnp\u001b[0m\u001b[0;34m.\u001b[0m\u001b[0mlinalg\u001b[0m\u001b[0;34m.\u001b[0m\u001b[0mnorm\u001b[0m\u001b[0;34m(\u001b[0m\u001b[0mim_1\u001b[0m \u001b[0;34m-\u001b[0m \u001b[0mpath\u001b[0m\u001b[0;34m[\u001b[0m\u001b[0mi\u001b[0m\u001b[0;34m]\u001b[0m\u001b[0;34m,\u001b[0m \u001b[0mord\u001b[0m\u001b[0;34m=\u001b[0m\u001b[0;36m2\u001b[0m\u001b[0;34m)\u001b[0m\u001b[0;34m\u001b[0m\u001b[0m\n\u001b[1;32m     28\u001b[0m \u001b[0;34m\u001b[0m\u001b[0m\n\u001b[0;32m---> 29\u001b[0;31m         \u001b[0mps2\u001b[0m \u001b[0;34m=\u001b[0m \u001b[0mpercentiles\u001b[0m\u001b[0;34m.\u001b[0m\u001b[0meval\u001b[0m\u001b[0;34m(\u001b[0m\u001b[0mfeed_dict\u001b[0m\u001b[0;34m=\u001b[0m\u001b[0;34m{\u001b[0m\u001b[0mx\u001b[0m\u001b[0;34m:\u001b[0m \u001b[0mtest_inputs\u001b[0m\u001b[0;34m[\u001b[0m\u001b[0;36m1\u001b[0m\u001b[0;34m:\u001b[0m\u001b[0;36m2\u001b[0m\u001b[0;34m]\u001b[0m\u001b[0;34m,\u001b[0m \u001b[0mkeep_prob\u001b[0m\u001b[0;34m:\u001b[0m\u001b[0;36m1.0\u001b[0m\u001b[0;34m}\u001b[0m\u001b[0;34m)\u001b[0m\u001b[0;34m\u001b[0m\u001b[0m\n\u001b[0m\u001b[1;32m     30\u001b[0m \u001b[0;34m\u001b[0m\u001b[0m\n\u001b[1;32m     31\u001b[0m         result = persistence_module.wasserstein_distance([net['input'],\n",
      "\u001b[0;32m/home/tgebhart/.virtualenvs/tf_activation/local/lib/python2.7/site-packages/tensorflow/python/framework/ops.pyc\u001b[0m in \u001b[0;36meval\u001b[0;34m(self, feed_dict, session)\u001b[0m\n\u001b[1;32m    571\u001b[0m \u001b[0;34m\u001b[0m\u001b[0m\n\u001b[1;32m    572\u001b[0m     \"\"\"\n\u001b[0;32m--> 573\u001b[0;31m     \u001b[0;32mreturn\u001b[0m \u001b[0m_eval_using_default_session\u001b[0m\u001b[0;34m(\u001b[0m\u001b[0mself\u001b[0m\u001b[0;34m,\u001b[0m \u001b[0mfeed_dict\u001b[0m\u001b[0;34m,\u001b[0m \u001b[0mself\u001b[0m\u001b[0;34m.\u001b[0m\u001b[0mgraph\u001b[0m\u001b[0;34m,\u001b[0m \u001b[0msession\u001b[0m\u001b[0;34m)\u001b[0m\u001b[0;34m\u001b[0m\u001b[0m\n\u001b[0m\u001b[1;32m    574\u001b[0m \u001b[0;34m\u001b[0m\u001b[0m\n\u001b[1;32m    575\u001b[0m \u001b[0;34m\u001b[0m\u001b[0m\n",
      "\u001b[0;32m/home/tgebhart/.virtualenvs/tf_activation/local/lib/python2.7/site-packages/tensorflow/python/framework/ops.pyc\u001b[0m in \u001b[0;36m_eval_using_default_session\u001b[0;34m(tensors, feed_dict, graph, session)\u001b[0m\n\u001b[1;32m   4495\u001b[0m                        \u001b[0;34m\"the tensor's graph is different from the session's \"\u001b[0m\u001b[0;34m\u001b[0m\u001b[0m\n\u001b[1;32m   4496\u001b[0m                        \"graph.\")\n\u001b[0;32m-> 4497\u001b[0;31m   \u001b[0;32mreturn\u001b[0m \u001b[0msession\u001b[0m\u001b[0;34m.\u001b[0m\u001b[0mrun\u001b[0m\u001b[0;34m(\u001b[0m\u001b[0mtensors\u001b[0m\u001b[0;34m,\u001b[0m \u001b[0mfeed_dict\u001b[0m\u001b[0;34m)\u001b[0m\u001b[0;34m\u001b[0m\u001b[0m\n\u001b[0m\u001b[1;32m   4498\u001b[0m \u001b[0;34m\u001b[0m\u001b[0m\n\u001b[1;32m   4499\u001b[0m \u001b[0;34m\u001b[0m\u001b[0m\n",
      "\u001b[0;32m/home/tgebhart/.virtualenvs/tf_activation/local/lib/python2.7/site-packages/tensorflow/python/client/session.pyc\u001b[0m in \u001b[0;36mrun\u001b[0;34m(self, fetches, feed_dict, options, run_metadata)\u001b[0m\n\u001b[1;32m    887\u001b[0m     \u001b[0;32mtry\u001b[0m\u001b[0;34m:\u001b[0m\u001b[0;34m\u001b[0m\u001b[0m\n\u001b[1;32m    888\u001b[0m       result = self._run(None, fetches, feed_dict, options_ptr,\n\u001b[0;32m--> 889\u001b[0;31m                          run_metadata_ptr)\n\u001b[0m\u001b[1;32m    890\u001b[0m       \u001b[0;32mif\u001b[0m \u001b[0mrun_metadata\u001b[0m\u001b[0;34m:\u001b[0m\u001b[0;34m\u001b[0m\u001b[0m\n\u001b[1;32m    891\u001b[0m         \u001b[0mproto_data\u001b[0m \u001b[0;34m=\u001b[0m \u001b[0mtf_session\u001b[0m\u001b[0;34m.\u001b[0m\u001b[0mTF_GetBuffer\u001b[0m\u001b[0;34m(\u001b[0m\u001b[0mrun_metadata_ptr\u001b[0m\u001b[0;34m)\u001b[0m\u001b[0;34m\u001b[0m\u001b[0m\n",
      "\u001b[0;32m/home/tgebhart/.virtualenvs/tf_activation/local/lib/python2.7/site-packages/tensorflow/python/client/session.pyc\u001b[0m in \u001b[0;36m_run\u001b[0;34m(self, handle, fetches, feed_dict, options, run_metadata)\u001b[0m\n\u001b[1;32m   1116\u001b[0m     \u001b[0;32mif\u001b[0m \u001b[0mfinal_fetches\u001b[0m \u001b[0;32mor\u001b[0m \u001b[0mfinal_targets\u001b[0m \u001b[0;32mor\u001b[0m \u001b[0;34m(\u001b[0m\u001b[0mhandle\u001b[0m \u001b[0;32mand\u001b[0m \u001b[0mfeed_dict_tensor\u001b[0m\u001b[0;34m)\u001b[0m\u001b[0;34m:\u001b[0m\u001b[0;34m\u001b[0m\u001b[0m\n\u001b[1;32m   1117\u001b[0m       results = self._do_run(handle, final_targets, final_fetches,\n\u001b[0;32m-> 1118\u001b[0;31m                              feed_dict_tensor, options, run_metadata)\n\u001b[0m\u001b[1;32m   1119\u001b[0m     \u001b[0;32melse\u001b[0m\u001b[0;34m:\u001b[0m\u001b[0;34m\u001b[0m\u001b[0m\n\u001b[1;32m   1120\u001b[0m       \u001b[0mresults\u001b[0m \u001b[0;34m=\u001b[0m \u001b[0;34m[\u001b[0m\u001b[0;34m]\u001b[0m\u001b[0;34m\u001b[0m\u001b[0m\n",
      "\u001b[0;32m/home/tgebhart/.virtualenvs/tf_activation/local/lib/python2.7/site-packages/tensorflow/python/client/session.pyc\u001b[0m in \u001b[0;36m_do_run\u001b[0;34m(self, handle, target_list, fetch_list, feed_dict, options, run_metadata)\u001b[0m\n\u001b[1;32m   1313\u001b[0m     \u001b[0;32mif\u001b[0m \u001b[0mhandle\u001b[0m \u001b[0;32mis\u001b[0m \u001b[0mNone\u001b[0m\u001b[0;34m:\u001b[0m\u001b[0;34m\u001b[0m\u001b[0m\n\u001b[1;32m   1314\u001b[0m       return self._do_call(_run_fn, self._session, feeds, fetches, targets,\n\u001b[0;32m-> 1315\u001b[0;31m                            options, run_metadata)\n\u001b[0m\u001b[1;32m   1316\u001b[0m     \u001b[0;32melse\u001b[0m\u001b[0;34m:\u001b[0m\u001b[0;34m\u001b[0m\u001b[0m\n\u001b[1;32m   1317\u001b[0m       \u001b[0;32mreturn\u001b[0m \u001b[0mself\u001b[0m\u001b[0;34m.\u001b[0m\u001b[0m_do_call\u001b[0m\u001b[0;34m(\u001b[0m\u001b[0m_prun_fn\u001b[0m\u001b[0;34m,\u001b[0m \u001b[0mself\u001b[0m\u001b[0;34m.\u001b[0m\u001b[0m_session\u001b[0m\u001b[0;34m,\u001b[0m \u001b[0mhandle\u001b[0m\u001b[0;34m,\u001b[0m \u001b[0mfeeds\u001b[0m\u001b[0;34m,\u001b[0m \u001b[0mfetches\u001b[0m\u001b[0;34m)\u001b[0m\u001b[0;34m\u001b[0m\u001b[0m\n",
      "\u001b[0;32m/home/tgebhart/.virtualenvs/tf_activation/local/lib/python2.7/site-packages/tensorflow/python/client/session.pyc\u001b[0m in \u001b[0;36m_do_call\u001b[0;34m(self, fn, *args)\u001b[0m\n\u001b[1;32m   1319\u001b[0m   \u001b[0;32mdef\u001b[0m \u001b[0m_do_call\u001b[0m\u001b[0;34m(\u001b[0m\u001b[0mself\u001b[0m\u001b[0;34m,\u001b[0m \u001b[0mfn\u001b[0m\u001b[0;34m,\u001b[0m \u001b[0;34m*\u001b[0m\u001b[0margs\u001b[0m\u001b[0;34m)\u001b[0m\u001b[0;34m:\u001b[0m\u001b[0;34m\u001b[0m\u001b[0m\n\u001b[1;32m   1320\u001b[0m     \u001b[0;32mtry\u001b[0m\u001b[0;34m:\u001b[0m\u001b[0;34m\u001b[0m\u001b[0m\n\u001b[0;32m-> 1321\u001b[0;31m       \u001b[0;32mreturn\u001b[0m \u001b[0mfn\u001b[0m\u001b[0;34m(\u001b[0m\u001b[0;34m*\u001b[0m\u001b[0margs\u001b[0m\u001b[0;34m)\u001b[0m\u001b[0;34m\u001b[0m\u001b[0m\n\u001b[0m\u001b[1;32m   1322\u001b[0m     \u001b[0;32mexcept\u001b[0m \u001b[0merrors\u001b[0m\u001b[0;34m.\u001b[0m\u001b[0mOpError\u001b[0m \u001b[0;32mas\u001b[0m \u001b[0me\u001b[0m\u001b[0;34m:\u001b[0m\u001b[0;34m\u001b[0m\u001b[0m\n\u001b[1;32m   1323\u001b[0m       \u001b[0mmessage\u001b[0m \u001b[0;34m=\u001b[0m \u001b[0mcompat\u001b[0m\u001b[0;34m.\u001b[0m\u001b[0mas_text\u001b[0m\u001b[0;34m(\u001b[0m\u001b[0me\u001b[0m\u001b[0;34m.\u001b[0m\u001b[0mmessage\u001b[0m\u001b[0;34m)\u001b[0m\u001b[0;34m\u001b[0m\u001b[0m\n",
      "\u001b[0;32m/home/tgebhart/.virtualenvs/tf_activation/local/lib/python2.7/site-packages/tensorflow/python/client/session.pyc\u001b[0m in \u001b[0;36m_run_fn\u001b[0;34m(session, feed_dict, fetch_list, target_list, options, run_metadata)\u001b[0m\n\u001b[1;32m   1298\u001b[0m           return tf_session.TF_Run(session, options,\n\u001b[1;32m   1299\u001b[0m                                    \u001b[0mfeed_dict\u001b[0m\u001b[0;34m,\u001b[0m \u001b[0mfetch_list\u001b[0m\u001b[0;34m,\u001b[0m \u001b[0mtarget_list\u001b[0m\u001b[0;34m,\u001b[0m\u001b[0;34m\u001b[0m\u001b[0m\n\u001b[0;32m-> 1300\u001b[0;31m                                    status, run_metadata)\n\u001b[0m\u001b[1;32m   1301\u001b[0m \u001b[0;34m\u001b[0m\u001b[0m\n\u001b[1;32m   1302\u001b[0m     \u001b[0;32mdef\u001b[0m \u001b[0m_prun_fn\u001b[0m\u001b[0;34m(\u001b[0m\u001b[0msession\u001b[0m\u001b[0;34m,\u001b[0m \u001b[0mhandle\u001b[0m\u001b[0;34m,\u001b[0m \u001b[0mfeed_dict\u001b[0m\u001b[0;34m,\u001b[0m \u001b[0mfetch_list\u001b[0m\u001b[0;34m)\u001b[0m\u001b[0;34m:\u001b[0m\u001b[0;34m\u001b[0m\u001b[0m\n",
      "\u001b[0;31mKeyboardInterrupt\u001b[0m: "
     ]
    }
   ],
   "source": [
    "# run network\n",
    "test_labels = np.stack((mnist.test.labels[mnist_map[1]],mnist.test.labels[mnist_map[1]]))\n",
    "p = 98.9\n",
    "with tf.Session(config=config) as sess:\n",
    "\n",
    "    saver.restore(sess, os.path.join(SAVE_PATH, 'mnist_cff_2000.ckpt'))\n",
    "\n",
    "    test_inputs = np.stack((im_1, path[0]))\n",
    "\n",
    "    percentiles = persistence_module.layerwise_percentile([net['input'],\n",
    "                                                        net['W_conv1'],\n",
    "                                                        net['h_conv1'],\n",
    "                                                        net['h_conv1'],\n",
    "                                                        net['W_fc1'],\n",
    "                                                        net['h_fc1'],\n",
    "                                                        net['h_fc1_drop'],\n",
    "                                                        net['W_fc2'],\n",
    "                                                        net['y_conv']],\n",
    "                                                        [0, 1, 2, 2, 1, 4, 4, 1, 4],\n",
    "                                                        [p,p,p])\n",
    "\n",
    "    ps1 = percentiles.eval(feed_dict={x: test_inputs[0:1], keep_prob:1.0})\n",
    "    \n",
    "    for i in range(len(path)):\n",
    "        \n",
    "        test_inputs = np.stack((im_1, path[i]))\n",
    "        in_distance = np.linalg.norm(im_1 - path[i], ord=2)\n",
    "\n",
    "        ps2 = percentiles.eval(feed_dict={x: test_inputs[1:2], keep_prob:1.0})\n",
    "\n",
    "        result = persistence_module.wasserstein_distance([net['input'],\n",
    "                                                        net['W_conv1'],\n",
    "                                                        net['h_conv1'],\n",
    "                                                        net['h_conv1'],\n",
    "                                                        net['W_fc1'],\n",
    "                                                        net['h_fc1'],\n",
    "                                                        net['h_fc1_drop'],\n",
    "                                                        net['W_fc2'],\n",
    "                                                        net['y_conv']],\n",
    "                                                        [0, 1, 2, 2, 1, 4, 4, 1, 4],\n",
    "                                                        np.stack((ps1, ps2))\n",
    "                                                        )\n",
    "\n",
    "\n",
    "        per_distance = result.eval(feed_dict={x: test_inputs, keep_prob:1.0})\n",
    "        print('Step: ', i)\n",
    "        print('distance:', per_distance)\n",
    "        \n",
    "        ce = cross_entropy.eval(feed_dict={x:test_inputs[1:], y_:test_labels[1:], keep_prob:1.0})\n",
    "        y_conv = sess.run(net['y_conv'], feed_dict={x:test_inputs[1:], keep_prob:1.0})\n",
    "        acc = accuracy.eval(feed_dict={x:test_inputs[1:], y_:test_labels[1:], keep_prob:1})\n",
    "        y_conv = y_conv / np.linalg.norm(y_conv)\n",
    "\n",
    "        test_df.loc[i, 'in_distance'] = in_distance\n",
    "        test_df.loc[i, 'per_distance'] = per_distance[0]\n",
    "        test_df.loc[i, 'cross_entropy'] = ce\n",
    "        test_df.loc[i, 'y_conv'] = y_conv[0,np.argmax(test_labels[1], axis=0)]\n",
    "        test_df.loc[i, 'accuracy'] = acc\n",
    "        "
   ]
  },
  {
   "cell_type": "code",
   "execution_count": null,
   "metadata": {},
   "outputs": [],
   "source": [
    "test_df.head()"
   ]
  },
  {
   "cell_type": "code",
   "execution_count": null,
   "metadata": {
    "collapsed": true
   },
   "outputs": [],
   "source": [
    "def regress(X, y, xlab, ylab, color_vals='b'):\n",
    "    \n",
    "    print(X.shape,y.shape)\n",
    "    \n",
    "    # Split the data into training/testing sets\n",
    "    X_train = X[:-20]\n",
    "    X_test = X[-20:]\n",
    "\n",
    "    # Split the targets into training/testing sets\n",
    "    y_train = y[:-20]\n",
    "    y_test = y[-20:]\n",
    "\n",
    "    # Create linear regression object\n",
    "    regr = linear_model.LinearRegression()\n",
    "\n",
    "    # Train the model using the training sets\n",
    "    regr.fit(X_train, y_train)\n",
    "\n",
    "    # The coefficients\n",
    "    print('Coefficients: ', regr.coef_)\n",
    "    # The mean squared error\n",
    "    print(\"Mean squared error: %.2f\"\n",
    "          % np.mean((regr.predict(X_test) - y_test) ** 2))\n",
    "    # Explained variance score: 1 is perfect prediction\n",
    "    print('Variance score: %.2f' % regr.score(X_test, y_test))\n",
    "    print('R^2: %.2f' % r2_score(y_test, regr.predict(X_test)))\n",
    "    \n",
    "    fig, ax = plt.subplots()\n",
    "    X_min = np.min(X)\n",
    "    X_max = np.max(X)\n",
    "    y_min = np.min(y)\n",
    "    y_max = np.max(y)\n",
    "    # Plot outputs\n",
    "    \n",
    "    ax.scatter(X, y,  color=color_vals, s=7)\n",
    "#     ax.plot(X, regr.predict(X), color='blue', linewidth=3)\n",
    "\n",
    "\n",
    "    ax.set_xlim(X_min, X_max)\n",
    "    ax.set_ylim(y_min, y_max)\n",
    "    \n",
    "    plt.xlabel(xlab)\n",
    "    plt.ylabel(ylab)\n",
    "#     plt.title('{} vs {}'.format(xlab, ylab))\n",
    "    plt.show()\n",
    "    fig.savefig(os.path.join(SAVE_FIG_LOC, xlab + '_' + ylab + '.svg'), \n",
    "                format='svg', dpi=1200, bbox_inches='tight')\n"
   ]
  },
  {
   "cell_type": "code",
   "execution_count": null,
   "metadata": {},
   "outputs": [],
   "source": [
    "X = test_df['in_distance'].as_matrix()\n",
    "X = X.reshape((X.shape[0], 1))\n",
    "y = test_df['per_distance'].as_matrix()\n",
    "regress(X, y, 'Input Distance', 'Persistence Distance')"
   ]
  },
  {
   "cell_type": "code",
   "execution_count": null,
   "metadata": {},
   "outputs": [],
   "source": [
    "X = test_df['cross_entropy'].as_matrix()\n",
    "X = X.reshape((X.shape[0], 1))\n",
    "regress(X, y, 'Cross-Entropy', 'Persistence Distance')"
   ]
  },
  {
   "cell_type": "code",
   "execution_count": null,
   "metadata": {},
   "outputs": [],
   "source": [
    "X = test_df['y_conv'].as_matrix()\n",
    "X = X.reshape((X.shape[0], 1))\n",
    "regress(X, y, 'Correct Class Probability', 'Persistence Distance')"
   ]
  },
  {
   "cell_type": "code",
   "execution_count": null,
   "metadata": {},
   "outputs": [],
   "source": [
    "X = test_df['in_distance'].as_matrix()\n",
    "X = X.reshape((X.shape[0], 1))\n",
    "y = test_df['y_conv'].as_matrix()\n",
    "regress(X, y, 'Input Distance', 'Correct Class Probability')"
   ]
  },
  {
   "cell_type": "code",
   "execution_count": null,
   "metadata": {
    "collapsed": true
   },
   "outputs": [],
   "source": []
  },
  {
   "cell_type": "code",
   "execution_count": null,
   "metadata": {
    "collapsed": true
   },
   "outputs": [],
   "source": []
  }
 ],
 "metadata": {
  "kernelspec": {
   "display_name": "Python 2",
   "language": "python",
   "name": "python2"
  },
  "language_info": {
   "codemirror_mode": {
    "name": "ipython",
    "version": 2
   },
   "file_extension": ".py",
   "mimetype": "text/x-python",
   "name": "python",
   "nbconvert_exporter": "python",
   "pygments_lexer": "ipython2",
   "version": "2.7.13"
  }
 },
 "nbformat": 4,
 "nbformat_minor": 2
}
