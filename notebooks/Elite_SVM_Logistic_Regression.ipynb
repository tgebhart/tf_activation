{
 "cells": [
  {
   "cell_type": "code",
   "execution_count": 1,
   "metadata": {
    "collapsed": true
   },
   "outputs": [],
   "source": [
    "from __future__ import absolute_import\n",
    "from __future__ import division\n",
    "from __future__ import print_function\n",
    "\n",
    "import argparse\n",
    "import sys\n",
    "import os\n",
    "from os import listdir\n",
    "from os.path import isfile\n",
    "import pickle\n",
    "\n",
    "import tensorflow as tf\n",
    "import numpy as np\n",
    "import sklearn\n",
    "from sklearn import svm\n",
    "\n",
    "FLAGS = None\n",
    "SAVE_PATH = '../../logdir/models'\n",
    "\n",
    "model = 'mnist_cff_2000.ckpt'\n",
    "SAVE_PATH = '../logdir/models'\n",
    "ELITE_LOC = '../logdir/elites/mnist_test_elites_19:45:10_18-09-17'\n",
    "DIAG_DIR = os.path.join(ELITE_LOC, 'diagrams')\n",
    "TRUE_DIR = os.path.join(DIAG_DIR, 'true')\n",
    "FALSE_DIR = os.path.join(DIAG_DIR, 'elites')\n",
    "\n",
    "TAKE = 100"
   ]
  },
  {
   "cell_type": "code",
   "execution_count": 2,
   "metadata": {
    "collapsed": true
   },
   "outputs": [],
   "source": [
    "true_files = [f for f in listdir(TRUE_DIR) if isfile(os.path.join(TRUE_DIR, f))]\n",
    "false_files = [f for f in listdir(FALSE_DIR) if isfile(os.path.join(FALSE_DIR, f))]\n",
    "\n",
    "dummy = np.genfromtxt(os.path.join(TRUE_DIR, true_files[0]), delimiter=',').reshape(1,-1)\n",
    "trues = np.empty(shape=(len(true_files), TAKE*2))\n",
    "for i in range(len(true_files)):\n",
    "    temp = np.genfromtxt(os.path.join(TRUE_DIR, true_files[i]), delimiter=',')\n",
    "    trues[i, :] = np.append(temp[:TAKE,0], temp[:TAKE,1], axis=0)\n",
    "falses = np.empty(shape=(len(false_files),TAKE*2))\n",
    "for i in range(len(false_files)):\n",
    "    temp = np.genfromtxt(os.path.join(FALSE_DIR, false_files[i]), delimiter=',')\n",
    "    falses[i, :] = np.append(temp[:TAKE,0], temp[:TAKE,1], axis=0)\n",
    "\n",
    "totes = np.vstack((trues, falses)).reshape((-1,TAKE*2), order='F')\n",
    "totes_labels = np.empty(shape=(totes.shape[0], 1))\n",
    "totes_labels[0::2, :] = 1\n",
    "totes_labels[1::2, :] = 0\n",
    "\n",
    "train_im = totes[:-100,:]\n",
    "train_lab = totes_labels[:-100,:]\n",
    "\n",
    "test_im = totes[-100:,:]\n",
    "test_lab = totes_labels[-100:,:]"
   ]
  },
  {
   "cell_type": "code",
   "execution_count": 3,
   "metadata": {},
   "outputs": [
    {
     "name": "stdout",
     "output_type": "stream",
     "text": [
      "(3040, 200) (3040, 1)\n"
     ]
    },
    {
     "name": "stderr",
     "output_type": "stream",
     "text": [
      "/home/tgebhart/.virtualenvs/tf_activation/local/lib/python2.7/site-packages/sklearn/utils/validation.py:547: DataConversionWarning: A column-vector y was passed when a 1d array was expected. Please change the shape of y to (n_samples, ), for example using ravel().\n",
      "  y = column_or_1d(y, warn=True)\n"
     ]
    },
    {
     "data": {
      "text/plain": [
       "SVC(C=1.0, cache_size=200, class_weight=None, coef0=0.0,\n",
       "  decision_function_shape='ovr', degree=3, gamma='auto', kernel='rbf',\n",
       "  max_iter=-1, probability=False, random_state=None, shrinking=True,\n",
       "  tol=0.001, verbose=False)"
      ]
     },
     "execution_count": 3,
     "metadata": {},
     "output_type": "execute_result"
    }
   ],
   "source": [
    "print(train_im.shape, train_lab.shape)\n",
    "clf = svm.SVC()\n",
    "clf.fit(train_im, train_lab)"
   ]
  },
  {
   "cell_type": "code",
   "execution_count": 4,
   "metadata": {
    "collapsed": true
   },
   "outputs": [],
   "source": [
    "preds = clf.predict(test_im)"
   ]
  },
  {
   "cell_type": "code",
   "execution_count": 5,
   "metadata": {},
   "outputs": [
    {
     "data": {
      "text/plain": [
       "0.52000000000000002"
      ]
     },
     "execution_count": 5,
     "metadata": {},
     "output_type": "execute_result"
    }
   ],
   "source": [
    "sklearn.metrics.accuracy_score(test_lab,preds)"
   ]
  },
  {
   "cell_type": "code",
   "execution_count": 6,
   "metadata": {
    "collapsed": true
   },
   "outputs": [],
   "source": [
    "reg = sklearn.linear_model.LogisticRegression()\n",
    "reg.fit(train_im, train_lab)\n",
    "predreg = reg.predict(test_im)"
   ]
  },
  {
   "cell_type": "code",
   "execution_count": 7,
   "metadata": {},
   "outputs": [
    {
     "data": {
      "text/plain": [
       "0.46000000000000002"
      ]
     },
     "execution_count": 7,
     "metadata": {},
     "output_type": "execute_result"
    }
   ],
   "source": [
    "sklearn.metrics.accuracy_score(test_lab,predreg)"
   ]
  },
  {
   "cell_type": "code",
   "execution_count": null,
   "metadata": {
    "collapsed": true
   },
   "outputs": [],
   "source": []
  }
 ],
 "metadata": {
  "kernelspec": {
   "display_name": "Python 2",
   "language": "python",
   "name": "python2"
  },
  "language_info": {
   "codemirror_mode": {
    "name": "ipython",
    "version": 2
   },
   "file_extension": ".py",
   "mimetype": "text/x-python",
   "name": "python",
   "nbconvert_exporter": "python",
   "pygments_lexer": "ipython2",
   "version": "2.7.13"
  }
 },
 "nbformat": 4,
 "nbformat_minor": 2
}
