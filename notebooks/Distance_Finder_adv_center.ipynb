{
 "cells": [
  {
   "cell_type": "code",
   "execution_count": 1,
   "metadata": {
    "collapsed": true
   },
   "outputs": [],
   "source": [
    "%load_ext autoreload\n",
    "%autoreload 2\n",
    "from tf_activation import DeepGraph\n",
    "from tf_activation.models import mnist_cff as mnist_model\n",
    "\n",
    "import math\n",
    "import random\n",
    "import os\n",
    "\n",
    "import networkx as nx\n",
    "import tensorflow as tf\n",
    "import numpy as np\n",
    "import pandas as pd\n",
    "from sklearn import datasets, linear_model\n",
    "from sklearn.metrics import r2_score\n",
    "%matplotlib inline\n",
    "import matplotlib.pyplot as plt\n",
    "\n",
    "from tensorflow.examples.tutorials.mnist import input_data"
   ]
  },
  {
   "cell_type": "code",
   "execution_count": 2,
   "metadata": {},
   "outputs": [
    {
     "name": "stdout",
     "output_type": "stream",
     "text": [
      "Extracting MNIST_data/train-images-idx3-ubyte.gz\n",
      "Extracting MNIST_data/train-labels-idx1-ubyte.gz\n",
      "Extracting MNIST_data/t10k-images-idx3-ubyte.gz\n",
      "Extracting MNIST_data/t10k-labels-idx1-ubyte.gz\n"
     ]
    }
   ],
   "source": [
    "mnist_map = {\n",
    "    0: 3,\n",
    "    1: 2,\n",
    "    2: 1,\n",
    "    3: 18,\n",
    "    4: 4,\n",
    "    5: 8,\n",
    "    6: 11,\n",
    "    7: 0,\n",
    "    8: 61,\n",
    "    9: 7\n",
    "}\n",
    "\n",
    "CLUSTER_PATH = '../logdir/data/experiments/cluster_mnist'\n",
    "\n",
    "SAVE_PATH = '../logdir/models'\n",
    "ADV_PATH = '../logdir/adversaries/mnist_test_adversaries_19:50:09_18-09-17'\n",
    "ELITE_PATH = '../logdir/elites'\n",
    "DATA_PATH = '../logdir/data'\n",
    "SAVE_FIG_LOC = '../logdir/figures'\n",
    "\n",
    "centers = np.load(os.path.join(SAVE_PATH, 'average_mnist.npy'))\n",
    "mnist = input_data.read_data_sets('MNIST_data', one_hot=True)\n",
    "\n",
    "config = tf.ConfigProto()\n",
    "config.gpu_options.per_process_gpu_memory_fraction = 0.5\n",
    "config.gpu_options.allocator_type = 'BFC'\n",
    "config.log_device_placement = False\n",
    "\n",
    "persistence_module = tf.load_op_library('/home/tgebhart/python/tensorflow/bazel-bin/tensorflow/core/user_ops/nn_graph_persistence.so')"
   ]
  },
  {
   "cell_type": "code",
   "execution_count": 3,
   "metadata": {
    "collapsed": true
   },
   "outputs": [],
   "source": [
    "im_1 = centers[:,1]\n",
    "adv_1 = np.genfromtxt(os.path.join(ADV_PATH, '1_2.csv'), delimiter=',')\n",
    "\n",
    "steps = 100\n",
    "\n",
    "columns = ['in_distance', 'per_distance', 'cross_entropy', 'y_conv', 'accuracy']\n",
    "index = range(steps)\n",
    "test_df = pd.DataFrame(index=index, columns=columns)"
   ]
  },
  {
   "cell_type": "code",
   "execution_count": 4,
   "metadata": {
    "collapsed": true
   },
   "outputs": [],
   "source": [
    "def create_path(start_im, end_im, steps=100):\n",
    "    ret = []\n",
    "    t = np.divide(end_im - start_im, steps)\n",
    "    for i in range(1,steps+1):\n",
    "        ret.append(start_im + i*t)\n",
    "    return ret\n",
    "    "
   ]
  },
  {
   "cell_type": "code",
   "execution_count": 5,
   "metadata": {
    "collapsed": true
   },
   "outputs": [],
   "source": [
    "path = create_path(im_1, adv_1)\n",
    "path.append(adv_1)"
   ]
  },
  {
   "cell_type": "code",
   "execution_count": 6,
   "metadata": {
    "collapsed": true
   },
   "outputs": [],
   "source": [
    "# setup model\n",
    "with tf.device('/cpu:0'):\n",
    "    # Create the model\n",
    "    x = tf.placeholder(tf.float32, [None, 784])\n",
    "\n",
    "    # Define loss and optimizer\n",
    "    y_ = tf.placeholder(tf.float32, [None, 10])\n",
    "\n",
    "    # Build the graph for the deep net\n",
    "    net, keep_prob = mnist_model.deepnn(x)\n",
    "\n",
    "    cross_entropy = tf.reduce_mean(tf.nn.softmax_cross_entropy_with_logits(labels=y_, logits=net['y_conv']))\n",
    "    train_step = tf.train.AdamOptimizer(1e-4).minimize(cross_entropy)\n",
    "    correct_prediction = tf.equal(tf.argmax(net['y_conv'], 1), tf.argmax(y_, 1))\n",
    "    accuracy = tf.reduce_mean(tf.cast(correct_prediction, tf.float32))\n",
    "    \n",
    "    saver = tf.train.Saver()"
   ]
  },
  {
   "cell_type": "code",
   "execution_count": 7,
   "metadata": {
    "scrolled": true
   },
   "outputs": [
    {
     "name": "stdout",
     "output_type": "stream",
     "text": [
      "INFO:tensorflow:Restoring parameters from ../logdir/models/mnist_cff_2000.ckpt\n",
      "('Step: ', 0)\n",
      "('distance:', array([ 320187.3125], dtype=float32))\n",
      "('Step: ', 1)\n",
      "('distance:', array([ 271377.6875], dtype=float32))\n",
      "('Step: ', 2)\n",
      "('distance:', array([ 410823.96875], dtype=float32))\n",
      "('Step: ', 3)\n",
      "('distance:', array([ 638330.125], dtype=float32))\n",
      "('Step: ', 4)\n",
      "('distance:', array([ 936638.5625], dtype=float32))\n",
      "('Step: ', 5)\n",
      "('distance:', array([ 1284684.25], dtype=float32))\n",
      "('Step: ', 6)\n",
      "('distance:', array([ 1598719.125], dtype=float32))\n",
      "('Step: ', 7)\n",
      "('distance:', array([ 1905915.], dtype=float32))\n",
      "('Step: ', 8)\n",
      "('distance:', array([ 2215636.5], dtype=float32))\n",
      "('Step: ', 9)\n",
      "('distance:', array([ 2618114.], dtype=float32))\n",
      "('Step: ', 10)\n",
      "('distance:', array([ 3060163.25], dtype=float32))\n",
      "('Step: ', 11)\n",
      "('distance:', array([ 3466389.25], dtype=float32))\n",
      "('Step: ', 12)\n",
      "('distance:', array([ 3716697.5], dtype=float32))\n",
      "('Step: ', 13)\n",
      "('distance:', array([ 4017623.], dtype=float32))\n",
      "('Step: ', 14)\n",
      "('distance:', array([ 4324619.5], dtype=float32))\n",
      "('Step: ', 15)\n",
      "('distance:', array([ 4604789.5], dtype=float32))\n",
      "('Step: ', 16)\n",
      "('distance:', array([ 4855495.], dtype=float32))\n",
      "('Step: ', 17)\n",
      "('distance:', array([ 5064558.5], dtype=float32))\n",
      "('Step: ', 18)\n",
      "('distance:', array([ 5234059.], dtype=float32))\n",
      "('Step: ', 19)\n",
      "('distance:', array([ 5399628.], dtype=float32))\n",
      "('Step: ', 20)\n",
      "('distance:', array([ 5543587.], dtype=float32))\n",
      "('Step: ', 21)\n",
      "('distance:', array([ 5645016.], dtype=float32))\n",
      "('Step: ', 22)\n",
      "('distance:', array([ 5740744.], dtype=float32))\n",
      "('Step: ', 23)\n",
      "('distance:', array([ 5810197.], dtype=float32))\n",
      "('Step: ', 24)\n",
      "('distance:', array([ 5857314.], dtype=float32))\n",
      "('Step: ', 25)\n",
      "('distance:', array([ 5880251.5], dtype=float32))\n",
      "('Step: ', 26)\n",
      "('distance:', array([ 5886065.5], dtype=float32))\n",
      "('Step: ', 27)\n",
      "('distance:', array([ 5898196.5], dtype=float32))\n",
      "('Step: ', 28)\n",
      "('distance:', array([ 5911071.5], dtype=float32))\n",
      "('Step: ', 29)\n",
      "('distance:', array([ 5909605.5], dtype=float32))\n",
      "('Step: ', 30)\n",
      "('distance:', array([ 5921128.], dtype=float32))\n",
      "('Step: ', 31)\n",
      "('distance:', array([ 5945783.], dtype=float32))\n",
      "('Step: ', 32)\n",
      "('distance:', array([ 6025640.5], dtype=float32))\n",
      "('Step: ', 33)\n",
      "('distance:', array([ 6135485.5], dtype=float32))\n",
      "('Step: ', 34)\n",
      "('distance:', array([ 6236274.], dtype=float32))\n",
      "('Step: ', 35)\n",
      "('distance:', array([ 6336593.5], dtype=float32))\n",
      "('Step: ', 36)\n",
      "('distance:', array([ 6459378.5], dtype=float32))\n",
      "('Step: ', 37)\n",
      "('distance:', array([ 6581764.5], dtype=float32))\n",
      "('Step: ', 38)\n",
      "('distance:', array([ 6679853.5], dtype=float32))\n",
      "('Step: ', 39)\n",
      "('distance:', array([ 6785061.5], dtype=float32))\n",
      "('Step: ', 40)\n",
      "('distance:', array([ 6860324.5], dtype=float32))\n",
      "('Step: ', 41)\n",
      "('distance:', array([ 6937600.], dtype=float32))\n",
      "('Step: ', 42)\n",
      "('distance:', array([ 6975483.5], dtype=float32))\n",
      "('Step: ', 43)\n",
      "('distance:', array([ 7006992.5], dtype=float32))\n",
      "('Step: ', 44)\n",
      "('distance:', array([ 7028938.], dtype=float32))\n",
      "('Step: ', 45)\n",
      "('distance:', array([ 7042287.5], dtype=float32))\n",
      "('Step: ', 46)\n",
      "('distance:', array([ 7043598.], dtype=float32))\n",
      "('Step: ', 47)\n",
      "('distance:', array([ 7055639.5], dtype=float32))\n",
      "('Step: ', 48)\n",
      "('distance:', array([ 7061819.5], dtype=float32))\n",
      "('Step: ', 49)\n",
      "('distance:', array([ 7069351.], dtype=float32))\n",
      "('Step: ', 50)\n",
      "('distance:', array([ 7076581.], dtype=float32))\n",
      "('Step: ', 51)\n",
      "('distance:', array([ 7083146.], dtype=float32))\n",
      "('Step: ', 52)\n",
      "('distance:', array([ 7088689.5], dtype=float32))\n",
      "('Step: ', 53)\n",
      "('distance:', array([ 7094919.], dtype=float32))\n",
      "('Step: ', 54)\n",
      "('distance:', array([ 7099726.5], dtype=float32))\n",
      "('Step: ', 55)\n",
      "('distance:', array([ 7097163.], dtype=float32))\n",
      "('Step: ', 56)\n",
      "('distance:', array([ 7098688.5], dtype=float32))\n",
      "('Step: ', 57)\n",
      "('distance:', array([ 7102004.], dtype=float32))\n",
      "('Step: ', 58)\n",
      "('distance:', array([ 7109419.5], dtype=float32))\n",
      "('Step: ', 59)\n",
      "('distance:', array([ 7113562.5], dtype=float32))\n",
      "('Step: ', 60)\n",
      "('distance:', array([ 7118941.5], dtype=float32))\n",
      "('Step: ', 61)\n",
      "('distance:', array([ 7119331.], dtype=float32))\n",
      "('Step: ', 62)\n",
      "('distance:', array([ 7120218.5], dtype=float32))\n",
      "('Step: ', 63)\n",
      "('distance:', array([ 7123085.], dtype=float32))\n",
      "('Step: ', 64)\n",
      "('distance:', array([ 7126896.], dtype=float32))\n",
      "('Step: ', 65)\n",
      "('distance:', array([ 7124237.5], dtype=float32))\n",
      "('Step: ', 66)\n",
      "('distance:', array([ 7131447.5], dtype=float32))\n",
      "('Step: ', 67)\n",
      "('distance:', array([ 7132740.], dtype=float32))\n",
      "('Step: ', 68)\n",
      "('distance:', array([ 7133207.], dtype=float32))\n",
      "('Step: ', 69)\n",
      "('distance:', array([ 7131177.], dtype=float32))\n",
      "('Step: ', 70)\n",
      "('distance:', array([ 7132328.], dtype=float32))\n",
      "('Step: ', 71)\n",
      "('distance:', array([ 7139859.5], dtype=float32))\n",
      "('Step: ', 72)\n",
      "('distance:', array([ 7147546.5], dtype=float32))\n",
      "('Step: ', 73)\n",
      "('distance:', array([ 7148003.], dtype=float32))\n",
      "('Step: ', 74)\n",
      "('distance:', array([ 7154193.], dtype=float32))\n",
      "('Step: ', 75)\n",
      "('distance:', array([ 7158205.5], dtype=float32))\n",
      "('Step: ', 76)\n",
      "('distance:', array([ 7160397.5], dtype=float32))\n",
      "('Step: ', 77)\n",
      "('distance:', array([ 7162138.], dtype=float32))\n",
      "('Step: ', 78)\n",
      "('distance:', array([ 7161599.], dtype=float32))\n",
      "('Step: ', 79)\n",
      "('distance:', array([ 7161070.], dtype=float32))\n",
      "('Step: ', 80)\n",
      "('distance:', array([ 7165585.5], dtype=float32))\n",
      "('Step: ', 81)\n",
      "('distance:', array([ 7167006.5], dtype=float32))\n",
      "('Step: ', 82)\n",
      "('distance:', array([ 7168027.5], dtype=float32))\n",
      "('Step: ', 83)\n",
      "('distance:', array([ 7166405.5], dtype=float32))\n",
      "('Step: ', 84)\n",
      "('distance:', array([ 7166677.5], dtype=float32))\n",
      "('Step: ', 85)\n",
      "('distance:', array([ 7166857.], dtype=float32))\n",
      "('Step: ', 86)\n",
      "('distance:', array([ 7170963.5], dtype=float32))\n",
      "('Step: ', 87)\n",
      "('distance:', array([ 7171382.], dtype=float32))\n",
      "('Step: ', 88)\n",
      "('distance:', array([ 7172871.5], dtype=float32))\n",
      "('Step: ', 89)\n",
      "('distance:', array([ 7171758.5], dtype=float32))\n",
      "('Step: ', 90)\n",
      "('distance:', array([ 7170517.5], dtype=float32))\n",
      "('Step: ', 91)\n",
      "('distance:', array([ 7169872.], dtype=float32))\n",
      "('Step: ', 92)\n",
      "('distance:', array([ 7168676.5], dtype=float32))\n",
      "('Step: ', 93)\n",
      "('distance:', array([ 7167839.], dtype=float32))\n",
      "('Step: ', 94)\n",
      "('distance:', array([ 7169364.], dtype=float32))\n",
      "('Step: ', 95)\n",
      "('distance:', array([ 7169275.5], dtype=float32))\n",
      "('Step: ', 96)\n",
      "('distance:', array([ 7168769.5], dtype=float32))\n",
      "('Step: ', 97)\n",
      "('distance:', array([ 7167908.], dtype=float32))\n",
      "('Step: ', 98)\n",
      "('distance:', array([ 7169098.], dtype=float32))\n",
      "('Step: ', 99)\n",
      "('distance:', array([ 7171589.5], dtype=float32))\n",
      "('Step: ', 100)\n",
      "('distance:', array([ 7171589.5], dtype=float32))\n"
     ]
    }
   ],
   "source": [
    "# run network\n",
    "test_labels = np.stack((mnist.test.labels[mnist_map[1]],mnist.test.labels[mnist_map[1]]))\n",
    "p = 99\n",
    "with tf.Session(config=config) as sess:\n",
    "\n",
    "    saver.restore(sess, os.path.join(SAVE_PATH, 'mnist_cff_2000.ckpt'))\n",
    "\n",
    "    test_inputs = np.stack((im_1, path[0]))\n",
    "\n",
    "    percentiles = persistence_module.layerwise_percentile([net['input'],\n",
    "                                                        net['W_conv1'],\n",
    "                                                        net['h_conv1'],\n",
    "                                                        net['h_conv1'],\n",
    "                                                        net['W_fc1'],\n",
    "                                                        net['h_fc1'],\n",
    "                                                        net['h_fc1_drop'],\n",
    "                                                        net['W_fc2'],\n",
    "                                                        net['y_conv']],\n",
    "                                                        [0, 1, 2, 2, 1, 4, 4, 1, 4],\n",
    "                                                        [p,p,p])\n",
    "\n",
    "    ps1 = percentiles.eval(feed_dict={x: test_inputs[0:1], keep_prob:1.0})\n",
    "    \n",
    "    for i in range(len(path)):\n",
    "        \n",
    "        test_inputs = np.stack((im_1, path[i]))\n",
    "        in_distance = np.linalg.norm(im_1 - path[i], ord=2)\n",
    "\n",
    "        ps2 = percentiles.eval(feed_dict={x: test_inputs[1:2], keep_prob:1.0})\n",
    "\n",
    "        result = persistence_module.wasserstein_distance([net['input'],\n",
    "                                                        net['W_conv1'],\n",
    "                                                        net['h_conv1'],\n",
    "                                                        net['h_conv1'],\n",
    "                                                        net['W_fc1'],\n",
    "                                                        net['h_fc1'],\n",
    "                                                        net['h_fc1_drop'],\n",
    "                                                        net['W_fc2'],\n",
    "                                                        net['y_conv']],\n",
    "                                                        [0, 1, 2, 2, 1, 4, 4, 1, 4],\n",
    "                                                        np.stack((ps1, ps2))\n",
    "                                                        )\n",
    "\n",
    "\n",
    "        per_distance = result.eval(feed_dict={x: test_inputs, keep_prob:1.0})\n",
    "        print('Step: ', i)\n",
    "        print('distance:', per_distance)\n",
    "        \n",
    "        ce = cross_entropy.eval(feed_dict={x:test_inputs[1:], y_:test_labels[1:], keep_prob:1.0})\n",
    "        y_conv = sess.run(net['y_conv'], feed_dict={x:test_inputs[1:], keep_prob:1.0})\n",
    "        acc = accuracy.eval(feed_dict={x:test_inputs[1:], y_:test_labels[1:], keep_prob:1})\n",
    "        y_conv = y_conv / np.linalg.norm(y_conv)\n",
    "\n",
    "        test_df.loc[i, 'in_distance'] = in_distance\n",
    "        test_df.loc[i, 'per_distance'] = per_distance[0]\n",
    "        test_df.loc[i, 'cross_entropy'] = ce\n",
    "        test_df.loc[i, 'y_conv'] = y_conv[0,np.argmax(test_labels[1], axis=0)]\n",
    "        test_df.loc[i, 'accuracy'] = acc\n",
    "        "
   ]
  },
  {
   "cell_type": "code",
   "execution_count": 8,
   "metadata": {},
   "outputs": [
    {
     "data": {
      "text/html": [
       "<div>\n",
       "<style>\n",
       "    .dataframe thead tr:only-child th {\n",
       "        text-align: right;\n",
       "    }\n",
       "\n",
       "    .dataframe thead th {\n",
       "        text-align: left;\n",
       "    }\n",
       "\n",
       "    .dataframe tbody tr th {\n",
       "        vertical-align: top;\n",
       "    }\n",
       "</style>\n",
       "<table border=\"1\" class=\"dataframe\">\n",
       "  <thead>\n",
       "    <tr style=\"text-align: right;\">\n",
       "      <th></th>\n",
       "      <th>in_distance</th>\n",
       "      <th>per_distance</th>\n",
       "      <th>cross_entropy</th>\n",
       "      <th>y_conv</th>\n",
       "      <th>accuracy</th>\n",
       "    </tr>\n",
       "  </thead>\n",
       "  <tbody>\n",
       "    <tr>\n",
       "      <th>96</th>\n",
       "      <td>4.88676</td>\n",
       "      <td>7.16877e+06</td>\n",
       "      <td>0.00556064</td>\n",
       "      <td>0.88022</td>\n",
       "      <td>1</td>\n",
       "    </tr>\n",
       "    <tr>\n",
       "      <th>97</th>\n",
       "      <td>4.93714</td>\n",
       "      <td>7.16791e+06</td>\n",
       "      <td>0.00531937</td>\n",
       "      <td>0.879425</td>\n",
       "      <td>1</td>\n",
       "    </tr>\n",
       "    <tr>\n",
       "      <th>98</th>\n",
       "      <td>4.98752</td>\n",
       "      <td>7.1691e+06</td>\n",
       "      <td>0.0050944</td>\n",
       "      <td>0.878578</td>\n",
       "      <td>1</td>\n",
       "    </tr>\n",
       "    <tr>\n",
       "      <th>99</th>\n",
       "      <td>5.0379</td>\n",
       "      <td>7.17159e+06</td>\n",
       "      <td>0.00487769</td>\n",
       "      <td>0.877749</td>\n",
       "      <td>1</td>\n",
       "    </tr>\n",
       "    <tr>\n",
       "      <th>100</th>\n",
       "      <td>5.0379</td>\n",
       "      <td>7.17159e+06</td>\n",
       "      <td>0.00487769</td>\n",
       "      <td>0.877749</td>\n",
       "      <td>1</td>\n",
       "    </tr>\n",
       "  </tbody>\n",
       "</table>\n",
       "</div>"
      ],
      "text/plain": [
       "    in_distance per_distance cross_entropy    y_conv accuracy\n",
       "96      4.88676  7.16877e+06    0.00556064   0.88022        1\n",
       "97      4.93714  7.16791e+06    0.00531937  0.879425        1\n",
       "98      4.98752   7.1691e+06     0.0050944  0.878578        1\n",
       "99       5.0379  7.17159e+06    0.00487769  0.877749        1\n",
       "100      5.0379  7.17159e+06    0.00487769  0.877749        1"
      ]
     },
     "execution_count": 8,
     "metadata": {},
     "output_type": "execute_result"
    }
   ],
   "source": [
    "test_df.tail()"
   ]
  },
  {
   "cell_type": "code",
   "execution_count": 9,
   "metadata": {
    "collapsed": true
   },
   "outputs": [],
   "source": [
    "def regress(X, y, xlab, ylab, color_vals='b'):\n",
    "    \n",
    "    print(X.shape,y.shape)\n",
    "    \n",
    "    # Split the data into training/testing sets\n",
    "    X_train = X[:-20]\n",
    "    X_test = X[-20:]\n",
    "\n",
    "    # Split the targets into training/testing sets\n",
    "    y_train = y[:-20]\n",
    "    y_test = y[-20:]\n",
    "\n",
    "    # Create linear regression object\n",
    "    regr = linear_model.LinearRegression()\n",
    "\n",
    "    # Train the model using the training sets\n",
    "    regr.fit(X_train, y_train)\n",
    "\n",
    "    # The coefficients\n",
    "    print('Coefficients: ', regr.coef_)\n",
    "    # The mean squared error\n",
    "    print(\"Mean squared error: %.2f\"\n",
    "          % np.mean((regr.predict(X_test) - y_test) ** 2))\n",
    "    # Explained variance score: 1 is perfect prediction\n",
    "    print('Variance score: %.2f' % regr.score(X_test, y_test))\n",
    "    print('R^2: %.2f' % r2_score(y_test, regr.predict(X_test)))\n",
    "    \n",
    "    fig, ax = plt.subplots()\n",
    "    X_min = np.min(X)\n",
    "    X_max = np.max(X)\n",
    "    y_min = np.min(y)\n",
    "    y_max = np.max(y)\n",
    "    # Plot outputs\n",
    "    \n",
    "    ax.scatter(X, y,  color=color_vals, s=7)\n",
    "#     ax.plot(X, regr.predict(X), color='blue', linewidth=3)\n",
    "\n",
    "\n",
    "    ax.set_xlim(X_min, X_max)\n",
    "    ax.set_ylim(y_min, y_max)\n",
    "    \n",
    "    plt.xlabel(xlab)\n",
    "    plt.ylabel(ylab)\n",
    "#     plt.title('{} vs {}'.format(xlab, ylab))\n",
    "    plt.show()\n",
    "    fig.savefig(os.path.join(SAVE_FIG_LOC, xlab + '_' + ylab + '.svg'), \n",
    "                format='svg', dpi=1200, bbox_inches='tight')\n"
   ]
  },
  {
   "cell_type": "code",
   "execution_count": 10,
   "metadata": {},
   "outputs": [
    {
     "name": "stdout",
     "output_type": "stream",
     "text": [
      "((101, 1), (101,))\n",
      "('Coefficients: ', array([ 1392494.25299545]))\n",
      "Mean squared error: 4778005470885.75\n",
      "Variance score: -1344476.96\n",
      "R^2: -1344476.96\n"
     ]
    },
    {
     "data": {
      "image/png": "[encoded data removed]",
      "text/plain": [
       "<matplotlib.figure.Figure at 0x7f8c2b476590>"
      ]
     },
     "metadata": {},
     "output_type": "display_data"
    }
   ],
   "source": [
    "X = test_df['in_distance'].as_matrix()\n",
    "X = X.reshape((X.shape[0], 1))\n",
    "y = test_df['per_distance'].as_matrix()\n",
    "regress(X, y, 'Input Distance', 'Persistence Distance')"
   ]
  },
  {
   "cell_type": "code",
   "execution_count": 11,
   "metadata": {},
   "outputs": [
    {
     "name": "stdout",
     "output_type": "stream",
     "text": [
      "((101, 1), (101,))\n",
      "('Coefficients: ', array([-10416084.31406524]))\n",
      "Mean squared error: 362702378651.93\n",
      "Variance score: -102059.44\n",
      "R^2: -102059.44\n"
     ]
    },
    {
     "data": {
      "image/png": "[encoded data removed]",
      "text/plain": [
       "<matplotlib.figure.Figure at 0x7f8b7c106d10>"
      ]
     },
     "metadata": {},
     "output_type": "display_data"
    }
   ],
   "source": [
    "X = test_df['cross_entropy'].as_matrix()\n",
    "X = X.reshape((X.shape[0], 1))\n",
    "regress(X, y, 'Cross-Entropy', 'Persistence Distance')"
   ]
  },
  {
   "cell_type": "code",
   "execution_count": 12,
   "metadata": {},
   "outputs": [
    {
     "name": "stdout",
     "output_type": "stream",
     "text": [
      "((101, 1), (101,))\n",
      "('Coefficients: ', array([ 39169365.04598249]))\n",
      "Mean squared error: 100411839758.37\n",
      "Variance score: -28253.78\n",
      "R^2: -28253.78\n"
     ]
    },
    {
     "data": {
      "image/png": "[encoded data removed]",
      "text/plain": [
       "<matplotlib.figure.Figure at 0x7f8b7c062c90>"
      ]
     },
     "metadata": {},
     "output_type": "display_data"
    }
   ],
   "source": [
    "X = test_df['y_conv'].as_matrix()\n",
    "X = X.reshape((X.shape[0], 1))\n",
    "regress(X, y, 'Correct Class Probability', 'Persistence Distance')"
   ]
  },
  {
   "cell_type": "code",
   "execution_count": 13,
   "metadata": {},
   "outputs": [
    {
     "name": "stdout",
     "output_type": "stream",
     "text": [
      "((101, 1), (101,))\n",
      "('Coefficients: ', array([ 0.03714969]))\n",
      "Mean squared error: 0.00\n",
      "Variance score: -296.34\n",
      "R^2: -296.34\n"
     ]
    },
    {
     "data": {
      "image/png": "[encoded data removed]",
      "text/plain": [
       "<matplotlib.figure.Figure at 0x7f8b69b69310>"
      ]
     },
     "metadata": {},
     "output_type": "display_data"
    }
   ],
   "source": [
    "X = test_df['in_distance'].as_matrix()\n",
    "X = X.reshape((X.shape[0], 1))\n",
    "y = test_df['y_conv'].as_matrix()\n",
    "regress(X, y, 'Input Distance', 'Correct Class Probability')"
   ]
  },
  {
   "cell_type": "code",
   "execution_count": null,
   "metadata": {
    "collapsed": true
   },
   "outputs": [],
   "source": []
  },
  {
   "cell_type": "code",
   "execution_count": null,
   "metadata": {
    "collapsed": true
   },
   "outputs": [],
   "source": []
  }
 ],
 "metadata": {
  "kernelspec": {
   "display_name": "Python 2",
   "language": "python",
   "name": "python2"
  },
  "language_info": {
   "codemirror_mode": {
    "name": "ipython",
    "version": 2
   },
   "file_extension": ".py",
   "mimetype": "text/x-python",
   "name": "python",
   "nbconvert_exporter": "python",
   "pygments_lexer": "ipython2",
   "version": "2.7.13"
  }
 },
 "nbformat": 4,
 "nbformat_minor": 2
}
