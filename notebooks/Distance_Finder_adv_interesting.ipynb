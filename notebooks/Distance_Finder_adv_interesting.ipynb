{
 "cells": [
  {
   "cell_type": "code",
   "execution_count": 1,
   "metadata": {},
   "outputs": [],
   "source": [
    "%load_ext autoreload\n",
    "%autoreload 2\n",
    "from tf_activation import DeepGraph\n",
    "from tf_activation.models import mnist_cff as mnist_model\n",
    "\n",
    "import math\n",
    "import random\n",
    "import os\n",
    "\n",
    "import networkx as nx\n",
    "import tensorflow as tf\n",
    "import numpy as np\n",
    "import pandas as pd\n",
    "from sklearn import datasets, linear_model\n",
    "from sklearn.metrics import r2_score\n",
    "%matplotlib inline\n",
    "import matplotlib.pyplot as plt\n",
    "\n",
    "from tensorflow.examples.tutorials.mnist import input_data"
   ]
  },
  {
   "cell_type": "code",
   "execution_count": 2,
   "metadata": {},
   "outputs": [
    {
     "name": "stdout",
     "output_type": "stream",
     "text": [
      "Extracting MNIST_data/train-images-idx3-ubyte.gz\n",
      "Extracting MNIST_data/train-labels-idx1-ubyte.gz\n",
      "Extracting MNIST_data/t10k-images-idx3-ubyte.gz\n",
      "Extracting MNIST_data/t10k-labels-idx1-ubyte.gz\n"
     ]
    }
   ],
   "source": [
    "mnist_map = {\n",
    "    0: 3,\n",
    "    1: 2,\n",
    "    2: 1,\n",
    "    3: 18,\n",
    "    4: 4,\n",
    "    5: 8,\n",
    "    6: 11,\n",
    "    7: 0,\n",
    "    8: 61,\n",
    "    9: 7\n",
    "}\n",
    "\n",
    "SAVE_PATH = '../logdir/models'\n",
    "ADV_PATH = '../logdir/adversaries'\n",
    "ELITE_PATH = '../logdir/elites'\n",
    "DATA_PATH = '../logdir/data'\n",
    "\n",
    "\n",
    "mnist = input_data.read_data_sets('MNIST_data', one_hot=True)\n",
    "\n",
    "config = tf.ConfigProto()\n",
    "config.gpu_options.per_process_gpu_memory_fraction = 0.5\n",
    "config.gpu_options.allocator_type = 'BFC'\n",
    "config.log_device_placement = True\n",
    "\n",
    "persistence_module = tf.load_op_library('/home/tgebhart/python/tensorflow/bazel-bin/tensorflow/core/user_ops/nn_graph_persistence.so')"
   ]
  },
  {
   "cell_type": "code",
   "execution_count": 3,
   "metadata": {
    "collapsed": true
   },
   "outputs": [],
   "source": [
    "elite_1  = np.genfromtxt(os.path.join(ELITE_PATH, 'mnist_1_15:25:07_04-08-17.csv'), delimiter=',')\n",
    "im_1 = mnist.test.images[mnist_map[1]]\n",
    "adv_1 = np.genfromtxt(os.path.join(ADV_PATH, 'mnist_1_14:35:40_03-08-17.csv'), delimiter=',')\n",
    "\n",
    "steps = 100\n",
    "\n",
    "columns = ['in_distance', 'per_distance', 'cross_entropy', 'y_conv', 'accuracy']\n",
    "index = range(steps)\n",
    "test_df = pd.DataFrame(index=index, columns=columns)"
   ]
  },
  {
   "cell_type": "code",
   "execution_count": 4,
   "metadata": {
    "collapsed": true
   },
   "outputs": [],
   "source": [
    "def create_path(start_im, end_im, steps=100):\n",
    "    ret = []\n",
    "    t = np.divide(end_im - start_im, steps)\n",
    "    for i in range(1,steps+1):\n",
    "        ret.append(start_im + i*t)\n",
    "    return ret\n",
    "    "
   ]
  },
  {
   "cell_type": "code",
   "execution_count": 5,
   "metadata": {
    "collapsed": true
   },
   "outputs": [],
   "source": [
    "path = create_path(im_1, adv_1)\n",
    "path.append(adv_1)"
   ]
  },
  {
   "cell_type": "code",
   "execution_count": 6,
   "metadata": {
    "collapsed": true
   },
   "outputs": [],
   "source": [
    "# setup model\n",
    "with tf.device('/cpu:0'):\n",
    "    # Create the model\n",
    "    x = tf.placeholder(tf.float32, [None, 784])\n",
    "\n",
    "    # Define loss and optimizer\n",
    "    y_ = tf.placeholder(tf.float32, [None, 10])\n",
    "\n",
    "    # Build the graph for the deep net\n",
    "    net, keep_prob = mnist_model.deepnn(x)\n",
    "\n",
    "    cross_entropy = tf.reduce_mean(tf.nn.softmax_cross_entropy_with_logits(labels=y_, logits=net['y_conv']))\n",
    "    train_step = tf.train.AdamOptimizer(1e-4).minimize(cross_entropy)\n",
    "    correct_prediction = tf.equal(tf.argmax(net['y_conv'], 1), tf.argmax(y_, 1))\n",
    "    accuracy = tf.reduce_mean(tf.cast(correct_prediction, tf.float32))\n",
    "    \n",
    "    saver = tf.train.Saver()"
   ]
  },
  {
   "cell_type": "code",
   "execution_count": 7,
   "metadata": {
    "scrolled": true
   },
   "outputs": [
    {
     "name": "stdout",
     "output_type": "stream",
     "text": [
      "INFO:tensorflow:Restoring parameters from ../logdir/models/mnist_cff_2000.ckpt\n",
      "('Step: ', 0)\n",
      "('distance:', array([ 0.00175813], dtype=float32))\n",
      "('Step: ', 1)\n",
      "('distance:', array([ 0.00351632], dtype=float32))\n",
      "('Step: ', 2)\n",
      "('distance:', array([ 0.00527403], dtype=float32))\n",
      "('Step: ', 3)\n",
      "('distance:', array([ 0.00703231], dtype=float32))\n",
      "('Step: ', 4)\n",
      "('distance:', array([ 0.00879063], dtype=float32))\n",
      "('Step: ', 5)\n",
      "('distance:', array([ 0.0105481], dtype=float32))\n",
      "('Step: ', 6)\n",
      "('distance:', array([ 0.01208607], dtype=float32))\n",
      "('Step: ', 7)\n",
      "('distance:', array([ 0.01378059], dtype=float32))\n",
      "('Step: ', 8)\n",
      "('distance:', array([ 0.01547506], dtype=float32))\n",
      "('Step: ', 9)\n",
      "('distance:', array([ 0.01739346], dtype=float32))\n",
      "('Step: ', 10)\n",
      "('distance:', array([ 0.01996486], dtype=float32))\n",
      "('Step: ', 11)\n",
      "('distance:', array([ 0.01948701], dtype=float32))\n",
      "('Step: ', 12)\n",
      "('distance:', array([ 0.02101955], dtype=float32))\n",
      "('Step: ', 13)\n",
      "('distance:', array([ 0.02254959], dtype=float32))\n",
      "('Step: ', 14)\n",
      "('distance:', array([ 0.02405448], dtype=float32))\n",
      "('Step: ', 15)\n",
      "('distance:', array([ 0.02769706], dtype=float32))\n",
      "('Step: ', 16)\n",
      "('distance:', array([ 0.02707815], dtype=float32))\n",
      "('Step: ', 17)\n",
      "('distance:', array([ 0.03075636], dtype=float32))\n",
      "('Step: ', 18)\n",
      "('distance:', array([ 0.03224101], dtype=float32))\n",
      "('Step: ', 19)\n",
      "('distance:', array([ 0.03372637], dtype=float32))\n",
      "('Step: ', 20)\n",
      "('distance:', array([ 0.03303745], dtype=float32))\n",
      "('Step: ', 21)\n",
      "('distance:', array([ 0.03407448], dtype=float32))\n",
      "('Step: ', 22)\n",
      "('distance:', array([ 0.03730583], dtype=float32))\n",
      "('Step: ', 23)\n",
      "('distance:', array([ 0.03608047], dtype=float32))\n",
      "('Step: ', 24)\n",
      "('distance:', array([ 0.03692811], dtype=float32))\n",
      "('Step: ', 25)\n",
      "('distance:', array([ 0.04038078], dtype=float32))\n",
      "('Step: ', 26)\n",
      "('distance:', array([ 0.04128318], dtype=float32))\n",
      "('Step: ', 27)\n",
      "('distance:', array([ 0.03937829], dtype=float32))\n",
      "('Step: ', 28)\n",
      "('distance:', array([ 0.0427514], dtype=float32))\n",
      "('Step: ', 29)\n",
      "('distance:', array([ 0.04086993], dtype=float32))\n",
      "('Step: ', 30)\n",
      "('distance:', array([ 0.04019343], dtype=float32))\n",
      "('Step: ', 31)\n",
      "('distance:', array([ 0.04284613], dtype=float32))\n",
      "('Step: ', 32)\n",
      "('distance:', array([ 0.04381864], dtype=float32))\n",
      "('Step: ', 33)\n",
      "('distance:', array([ 0.04729813], dtype=float32))\n",
      "('Step: ', 34)\n",
      "('distance:', array([ 0.0480559], dtype=float32))\n",
      "('Step: ', 35)\n",
      "('distance:', array([ 0.04621301], dtype=float32))\n",
      "('Step: ', 36)\n",
      "('distance:', array([ 0.04711956], dtype=float32))\n",
      "('Step: ', 37)\n",
      "('distance:', array([ 0.04559395], dtype=float32))\n",
      "('Step: ', 38)\n",
      "('distance:', array([ 0.04616922], dtype=float32))\n",
      "('Step: ', 39)\n",
      "('distance:', array([ 0.04674156], dtype=float32))\n",
      "('Step: ', 40)\n",
      "('distance:', array([ 0.05004405], dtype=float32))\n",
      "('Step: ', 41)\n",
      "('distance:', array([ 0.0516754], dtype=float32))\n",
      "('Step: ', 42)\n",
      "('distance:', array([ 0.05241964], dtype=float32))\n",
      "('Step: ', 43)\n",
      "('distance:', array([ 0.05060935], dtype=float32))\n",
      "('Step: ', 44)\n",
      "('distance:', array([ 0.051447], dtype=float32))\n",
      "('Step: ', 45)\n",
      "('distance:', array([ 0.05493301], dtype=float32))\n",
      "('Step: ', 46)\n",
      "('distance:', array([ 0.05584002], dtype=float32))\n",
      "('Step: ', 47)\n",
      "('distance:', array([ 0.05672677], dtype=float32))\n",
      "('Step: ', 48)\n",
      "('distance:', array([ 0.05497711], dtype=float32))\n",
      "('Step: ', 49)\n",
      "('distance:', array([ 0.05588999], dtype=float32))\n",
      "('Step: ', 50)\n",
      "('distance:', array([ 0.05685572], dtype=float32))\n",
      "('Step: ', 51)\n",
      "('distance:', array([ 0.06188866], dtype=float32))\n",
      "('Step: ', 52)\n",
      "('distance:', array([ 0.06261814], dtype=float32))\n",
      "('Step: ', 53)\n",
      "('distance:', array([ 0.06342988], dtype=float32))\n",
      "('Step: ', 54)\n",
      "('distance:', array([ 0.06165877], dtype=float32))\n",
      "('Step: ', 55)\n",
      "('distance:', array([ 0.06490295], dtype=float32))\n",
      "('Step: ', 56)\n",
      "('distance:', array([ 0.06540633], dtype=float32))\n",
      "('Step: ', 57)\n",
      "('distance:', array([ 0.06595406], dtype=float32))\n",
      "('Step: ', 58)\n",
      "('distance:', array([ 0.06658603], dtype=float32))\n",
      "('Step: ', 59)\n",
      "('distance:', array([ 0.06729928], dtype=float32))\n",
      "('Step: ', 60)\n",
      "('distance:', array([ 0.06796033], dtype=float32))\n",
      "('Step: ', 61)\n",
      "('distance:', array([ 0.06862165], dtype=float32))\n",
      "('Step: ', 62)\n",
      "('distance:', array([ 0.0692826], dtype=float32))\n",
      "('Step: ', 63)\n",
      "('distance:', array([ 0.06994391], dtype=float32))\n",
      "('Step: ', 64)\n",
      "('distance:', array([ 0.06780629], dtype=float32))\n",
      "('Step: ', 65)\n",
      "('distance:', array([ 0.07109738], dtype=float32))\n",
      "('Step: ', 66)\n",
      "('distance:', array([ 0.07164808], dtype=float32))\n",
      "('Step: ', 67)\n",
      "('distance:', array([ 0.07222697], dtype=float32))\n",
      "('Step: ', 68)\n",
      "('distance:', array([ 0.07009128], dtype=float32))\n",
      "('Step: ', 69)\n",
      "('distance:', array([ 0.07074223], dtype=float32))\n",
      "('Step: ', 70)\n",
      "('distance:', array([ 0.07423054], dtype=float32))\n",
      "('Step: ', 71)\n",
      "('distance:', array([ 0.07487636], dtype=float32))\n",
      "('Step: ', 72)\n",
      "('distance:', array([ 0.07678605], dtype=float32))\n",
      "('Step: ', 73)\n",
      "('distance:', array([ 0.08092325], dtype=float32))\n",
      "('Step: ', 74)\n",
      "('distance:', array([ 0.07797515], dtype=float32))\n",
      "('Step: ', 75)\n",
      "('distance:', array([ 0.07864527], dtype=float32))\n",
      "('Step: ', 76)\n",
      "('distance:', array([ 0.08273923], dtype=float32))\n",
      "('Step: ', 77)\n",
      "('distance:', array([ 0.08329327], dtype=float32))\n",
      "('Step: ', 78)\n",
      "('distance:', array([ 0.08282736], dtype=float32))\n",
      "('Step: ', 79)\n",
      "('distance:', array([ 0.08335186], dtype=float32))\n",
      "('Step: ', 80)\n",
      "('distance:', array([ 0.0837803], dtype=float32))\n",
      "('Step: ', 81)\n",
      "('distance:', array([ 0.08488005], dtype=float32))\n",
      "('Step: ', 82)\n",
      "('distance:', array([ 0.08169418], dtype=float32))\n",
      "('Step: ', 83)\n",
      "('distance:', array([ 0.07864514], dtype=float32))\n",
      "('Step: ', 84)\n",
      "('distance:', array([ 0.08490077], dtype=float32))\n",
      "('Step: ', 85)\n",
      "('distance:', array([ 0.07939453], dtype=float32))\n",
      "('Step: ', 86)\n",
      "('distance:', array([ 0.08265088], dtype=float32))\n",
      "('Step: ', 87)\n",
      "('distance:', array([ 0.08889509], dtype=float32))\n",
      "('Step: ', 88)\n",
      "('distance:', array([ 0.09003881], dtype=float32))\n",
      "('Step: ', 89)\n",
      "('distance:', array([ 0.09041376], dtype=float32))\n",
      "('Step: ', 90)\n",
      "('distance:', array([ 0.09082068], dtype=float32))\n",
      "('Step: ', 91)\n",
      "('distance:', array([ 0.0853792], dtype=float32))\n",
      "('Step: ', 92)\n",
      "('distance:', array([ 0.09111049], dtype=float32))\n",
      "('Step: ', 93)\n",
      "('distance:', array([ 0.08581799], dtype=float32))\n",
      "('Step: ', 94)\n",
      "('distance:', array([ 0.09228773], dtype=float32))\n",
      "('Step: ', 95)\n",
      "('distance:', array([ 0.0928935], dtype=float32))\n",
      "('Step: ', 96)\n",
      "('distance:', array([ 0.09349338], dtype=float32))\n",
      "('Step: ', 97)\n",
      "('distance:', array([ 0.09408948], dtype=float32))\n",
      "('Step: ', 98)\n",
      "('distance:', array([ 0.09467512], dtype=float32))\n",
      "('Step: ', 99)\n",
      "('distance:', array([ 0.08934511], dtype=float32))\n",
      "('Step: ', 100)\n",
      "('distance:', array([ 0.08934511], dtype=float32))\n"
     ]
    }
   ],
   "source": [
    "# run network\n",
    "test_labels = np.stack((mnist.test.labels[mnist_map[1]],mnist.test.labels[mnist_map[1]]))\n",
    "p = 99.999\n",
    "with tf.Session(config=config) as sess:\n",
    "\n",
    "    saver.restore(sess, os.path.join(SAVE_PATH, 'mnist_cff_2000.ckpt'))\n",
    "\n",
    "    test_inputs = np.stack((im_1, path[0]))\n",
    "\n",
    "    percentiles = persistence_module.layerwise_percentile([net['input'],\n",
    "                                                        net['W_conv1'],\n",
    "                                                        net['h_conv1'],\n",
    "                                                        net['h_conv1'],\n",
    "                                                        net['W_fc1'],\n",
    "                                                        net['h_fc1'],\n",
    "                                                        net['h_fc1_drop'],\n",
    "                                                        net['W_fc2'],\n",
    "                                                        net['y_conv']],\n",
    "                                                        [0, 1, 2, 2, 1, 4, 4, 1, 4],\n",
    "                                                        [p,p,p])\n",
    "\n",
    "    ps1 = percentiles.eval(feed_dict={x: test_inputs[0:1], keep_prob:1.0})\n",
    "    \n",
    "    for i in range(len(path)):\n",
    "        \n",
    "        test_inputs = np.stack((im_1, path[i]))\n",
    "        in_distance = np.linalg.norm(im_1 - path[i], ord=2)\n",
    "\n",
    "        ps2 = percentiles.eval(feed_dict={x: test_inputs[1:2], keep_prob:1.0})\n",
    "\n",
    "        result = persistence_module.bottleneck_distance([net['input'],\n",
    "                                                        net['W_conv1'],\n",
    "                                                        net['h_conv1'],\n",
    "                                                        net['h_conv1'],\n",
    "                                                        net['W_fc1'],\n",
    "                                                        net['h_fc1'],\n",
    "                                                        net['h_fc1_drop'],\n",
    "                                                        net['W_fc2'],\n",
    "                                                        net['y_conv']],\n",
    "                                                        [0, 1, 2, 2, 1, 4, 4, 1, 4],\n",
    "                                                        np.stack((ps1, ps2))\n",
    "                                                        )\n",
    "\n",
    "\n",
    "        per_distance = result.eval(feed_dict={x: test_inputs, keep_prob:1.0})\n",
    "        print('Step: ', i)\n",
    "        print('distance:', per_distance)\n",
    "        \n",
    "        ce = cross_entropy.eval(feed_dict={x:test_inputs[1:], y_:test_labels[1:], keep_prob:1.0})\n",
    "        y_conv = sess.run(net['y_conv'], feed_dict={x:test_inputs[1:], keep_prob:1.0})\n",
    "        acc = accuracy.eval(feed_dict={x:test_inputs[1:], y_:test_labels[1:], keep_prob:1})\n",
    "        y_conv = y_conv / np.linalg.norm(y_conv)\n",
    "\n",
    "        test_df.loc[i, 'in_distance'] = in_distance\n",
    "        test_df.loc[i, 'per_distance'] = per_distance[0]\n",
    "        test_df.loc[i, 'cross_entropy'] = ce\n",
    "        test_df.loc[i, 'y_conv'] = y_conv[0,np.argmax(test_labels[1], axis=0)]\n",
    "        test_df.loc[i, 'accuracy'] = acc\n",
    "        "
   ]
  },
  {
   "cell_type": "code",
   "execution_count": 8,
   "metadata": {},
   "outputs": [
    {
     "data": {
      "text/html": [
       "<div>\n",
       "<style>\n",
       "    .dataframe thead tr:only-child th {\n",
       "        text-align: right;\n",
       "    }\n",
       "\n",
       "    .dataframe thead th {\n",
       "        text-align: left;\n",
       "    }\n",
       "\n",
       "    .dataframe tbody tr th {\n",
       "        vertical-align: top;\n",
       "    }\n",
       "</style>\n",
       "<table border=\"1\" class=\"dataframe\">\n",
       "  <thead>\n",
       "    <tr style=\"text-align: right;\">\n",
       "      <th></th>\n",
       "      <th>in_distance</th>\n",
       "      <th>per_distance</th>\n",
       "      <th>cross_entropy</th>\n",
       "      <th>y_conv</th>\n",
       "      <th>accuracy</th>\n",
       "    </tr>\n",
       "  </thead>\n",
       "  <tbody>\n",
       "    <tr>\n",
       "      <th>0</th>\n",
       "      <td>0.00997575</td>\n",
       "      <td>0.00175813</td>\n",
       "      <td>0.00220544</td>\n",
       "      <td>0.824581</td>\n",
       "      <td>1</td>\n",
       "    </tr>\n",
       "    <tr>\n",
       "      <th>1</th>\n",
       "      <td>0.0199515</td>\n",
       "      <td>0.00351632</td>\n",
       "      <td>0.00229215</td>\n",
       "      <td>0.824053</td>\n",
       "      <td>1</td>\n",
       "    </tr>\n",
       "    <tr>\n",
       "      <th>2</th>\n",
       "      <td>0.0299272</td>\n",
       "      <td>0.00527403</td>\n",
       "      <td>0.00238266</td>\n",
       "      <td>0.823509</td>\n",
       "      <td>1</td>\n",
       "    </tr>\n",
       "    <tr>\n",
       "      <th>3</th>\n",
       "      <td>0.039903</td>\n",
       "      <td>0.00703231</td>\n",
       "      <td>0.00247672</td>\n",
       "      <td>0.822954</td>\n",
       "      <td>1</td>\n",
       "    </tr>\n",
       "    <tr>\n",
       "      <th>4</th>\n",
       "      <td>0.0498787</td>\n",
       "      <td>0.00879063</td>\n",
       "      <td>0.00257447</td>\n",
       "      <td>0.82239</td>\n",
       "      <td>1</td>\n",
       "    </tr>\n",
       "  </tbody>\n",
       "</table>\n",
       "</div>"
      ],
      "text/plain": [
       "  in_distance per_distance cross_entropy    y_conv accuracy\n",
       "0  0.00997575   0.00175813    0.00220544  0.824581        1\n",
       "1   0.0199515   0.00351632    0.00229215  0.824053        1\n",
       "2   0.0299272   0.00527403    0.00238266  0.823509        1\n",
       "3    0.039903   0.00703231    0.00247672  0.822954        1\n",
       "4   0.0498787   0.00879063    0.00257447   0.82239        1"
      ]
     },
     "execution_count": 8,
     "metadata": {},
     "output_type": "execute_result"
    }
   ],
   "source": [
    "test_df.head()"
   ]
  },
  {
   "cell_type": "code",
   "execution_count": 9,
   "metadata": {
    "collapsed": true
   },
   "outputs": [],
   "source": [
    "def regress(X, y, xlab, ylab):\n",
    "    \n",
    "    print(X.shape,y.shape)\n",
    "\n",
    "    # Split the data into training/testing sets\n",
    "    X_train = X[:-20]\n",
    "    X_test = X[-20:]\n",
    "\n",
    "    # Split the targets into training/testing sets\n",
    "    y_train = y[:-20]\n",
    "    y_test = y[-20:]\n",
    "\n",
    "    # Create linear regression object\n",
    "    regr = linear_model.LinearRegression()\n",
    "\n",
    "    # Train the model using the training sets\n",
    "    regr.fit(X_train, y_train)\n",
    "\n",
    "    # The coefficients\n",
    "    print('Coefficients: ', regr.coef_)\n",
    "    # The mean squared error\n",
    "    print(\"Mean squared error: %.2f\"\n",
    "          % np.mean((regr.predict(X_test) - y_test) ** 2))\n",
    "    # Explained variance score: 1 is perfect prediction\n",
    "    print('Variance score: %.2f' % regr.score(X_test, y_test))\n",
    "    print('R^2: %.2f' % r2_score(y_test, regr.predict(X_test)))\n",
    "    \n",
    "    fig, ax = plt.subplots()\n",
    "    X_min = np.min(X)\n",
    "    X_max = np.max(X)\n",
    "    y_min = np.min(y)\n",
    "    y_max = np.max(y)\n",
    "    # Plot outputs\n",
    "    \n",
    "    ax.scatter(X, y,  color='black')\n",
    "    ax.plot(X, regr.predict(X), color='blue', linewidth=3)\n",
    "\n",
    "\n",
    "    ax.set_xlim(X_min, X_max)\n",
    "    ax.set_ylim(y_min, y_max)\n",
    "    \n",
    "    plt.xlabel(xlab)\n",
    "    plt.ylabel(ylab)\n",
    "    plt.title('{} vs {}'.format(xlab, ylab))\n",
    "\n",
    "    plt.show()\n"
   ]
  },
  {
   "cell_type": "code",
   "execution_count": 10,
   "metadata": {},
   "outputs": [
    {
     "name": "stdout",
     "output_type": "stream",
     "text": [
      "((101, 1), (101,))\n",
      "('Coefficients: ', array([ 0.09467905]))\n",
      "Mean squared error: 0.00\n",
      "Variance score: -2.61\n",
      "R^2: -2.61\n"
     ]
    },
    {
     "data": {
      "image/png": "[encoded data removed]",
      "text/plain": [
       "<matplotlib.figure.Figure at 0x7f5e4c59a550>"
      ]
     },
     "metadata": {},
     "output_type": "display_data"
    }
   ],
   "source": [
    "X = test_df['in_distance'].as_matrix()\n",
    "X = X.reshape((X.shape[0], 1))\n",
    "y = test_df['per_distance'].as_matrix()\n",
    "regress(X, y, 'Input Distance', 'Persistence Distance')"
   ]
  },
  {
   "cell_type": "code",
   "execution_count": 11,
   "metadata": {},
   "outputs": [
    {
     "name": "stdout",
     "output_type": "stream",
     "text": [
      "((101, 1), (101,))\n",
      "('Coefficients: ', array([ 1.48715083]))\n",
      "Mean squared error: 0.00\n",
      "Variance score: -156.37\n",
      "R^2: -156.37\n"
     ]
    },
    {
     "data": {
      "image/png": "[encoded data removed]",
      "text/plain": [
       "<matplotlib.figure.Figure at 0x7f5ddd05b790>"
      ]
     },
     "metadata": {},
     "output_type": "display_data"
    }
   ],
   "source": [
    "X = test_df['cross_entropy'].as_matrix()\n",
    "X = X.reshape((X.shape[0], 1))\n",
    "regress(X, y, 'Cross-Entropy', 'Persistence Distance')"
   ]
  },
  {
   "cell_type": "code",
   "execution_count": 12,
   "metadata": {},
   "outputs": [
    {
     "name": "stdout",
     "output_type": "stream",
     "text": [
      "((101, 1), (101,))\n",
      "('Coefficients: ', array([-0.88323421]))\n",
      "Mean squared error: 0.00\n",
      "Variance score: -27.71\n",
      "R^2: -27.71\n"
     ]
    },
    {
     "data": {
      "image/png": "[encoded data removed]",
      "text/plain": [
       "<matplotlib.figure.Figure at 0x7f5dc943f290>"
      ]
     },
     "metadata": {},
     "output_type": "display_data"
    }
   ],
   "source": [
    "X = test_df['y_conv'].as_matrix()\n",
    "X = X.reshape((X.shape[0], 1))\n",
    "regress(X, y, 'Correct Class Probability', 'Persistence Distance')"
   ]
  },
  {
   "cell_type": "code",
   "execution_count": 13,
   "metadata": {},
   "outputs": [
    {
     "name": "stdout",
     "output_type": "stream",
     "text": [
      "((101, 1), (101,))\n",
      "('Coefficients: ', array([-0.10276844]))\n",
      "Mean squared error: 0.00\n",
      "Variance score: -1.91\n",
      "R^2: -1.91\n"
     ]
    },
    {
     "data": {
      "image/png": "[encoded data removed]",
      "text/plain": [
       "<matplotlib.figure.Figure at 0x7f5dc9479b90>"
      ]
     },
     "metadata": {},
     "output_type": "display_data"
    }
   ],
   "source": [
    "X = test_df['in_distance'].as_matrix()\n",
    "X = X.reshape((X.shape[0], 1))\n",
    "y = test_df['y_conv'].as_matrix()\n",
    "regress(X, y, 'Input Distance', 'Correct Class Probability')"
   ]
  },
  {
   "cell_type": "code",
   "execution_count": null,
   "metadata": {
    "collapsed": true
   },
   "outputs": [],
   "source": []
  }
 ],
 "metadata": {
  "kernelspec": {
   "display_name": "Python 2",
   "language": "python",
   "name": "python2"
  },
  "language_info": {
   "codemirror_mode": {
    "name": "ipython",
    "version": 2
   },
   "file_extension": ".py",
   "mimetype": "text/x-python",
   "name": "python",
   "nbconvert_exporter": "python",
   "pygments_lexer": "ipython2",
   "version": "2.7.13"
  }
 },
 "nbformat": 4,
 "nbformat_minor": 2
}
