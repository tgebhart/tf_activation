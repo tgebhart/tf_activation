{
 "cells": [
  {
   "cell_type": "code",
   "execution_count": 1,
   "metadata": {},
   "outputs": [
    {
     "name": "stdout",
     "output_type": "stream",
     "text": [
      "Extracting MNIST_data/train-images-idx3-ubyte.gz\n",
      "Extracting MNIST_data/train-labels-idx1-ubyte.gz\n",
      "Extracting MNIST_data/t10k-images-idx3-ubyte.gz\n",
      "Extracting MNIST_data/t10k-labels-idx1-ubyte.gz\n"
     ]
    }
   ],
   "source": [
    "from tf_activation.models import mnist_cff as mnist_model\n",
    "from tf_activation.experiments import distance_finder\n",
    "from tf_activation.models.mnist_map import mnist_map\n",
    "\n",
    "from sklearn.cluster import KMeans\n",
    "from sklearn import datasets, linear_model\n",
    "from sklearn.metrics import r2_score\n",
    "from sklearn.externals import joblib\n",
    "import pandas as pd\n",
    "import numpy as np\n",
    "import matplotlib.pyplot as plt\n",
    "import tensorflow as tf\n",
    "from tensorflow.examples.tutorials.mnist import input_data\n",
    "persistence_module = tf.load_op_library('/home/tgebhart/python/tensorflow/bazel-bin/tensorflow/core/user_ops/nn_graph_persistence.so')\n",
    "\n",
    "from time import time\n",
    "import os\n",
    "from functools import wraps\n",
    "import errno\n",
    "import os\n",
    "import signal\n",
    "\n",
    "mnist = input_data.read_data_sets('MNIST_data', one_hot=True)\n"
   ]
  },
  {
   "cell_type": "code",
   "execution_count": 2,
   "metadata": {
    "collapsed": true
   },
   "outputs": [],
   "source": [
    "SAVE_PATH = '../logdir/models'\n",
    "model = 'mnist_cff_2000.ckpt'\n",
    "NUM_STEPS = 5000\n",
    "p = 95\n",
    "\n",
    "config = tf.ConfigProto()\n",
    "config.gpu_options.per_process_gpu_memory_fraction = 0.5\n",
    "config.allow_soft_placement = True\n",
    "config.gpu_options.allocator_type = 'BFC'\n",
    "config.log_device_placement = True"
   ]
  },
  {
   "cell_type": "code",
   "execution_count": null,
   "metadata": {
    "collapsed": true
   },
   "outputs": [],
   "source": [
    "# kmeans = KMeans(init='k-means++', n_clusters=len(mnist.train.labels[0]), n_init=10)\n",
    "# kmeans = KMeans(init='k-means++', n_clusters=50, n_init=10)\n",
    "# kmeans.fit(mnist.train.images)\n",
    "# joblib.dump(kmeans, os.path.join(SAVE_PATH, 'kmeans.pkl'))\n",
    "kmeans = joblib.load(os.path.join(SAVE_PATH, 'kmeans.pkl'))"
   ]
  },
  {
   "cell_type": "code",
   "execution_count": null,
   "metadata": {
    "collapsed": true
   },
   "outputs": [],
   "source": []
  },
  {
   "cell_type": "code",
   "execution_count": null,
   "metadata": {
    "collapsed": true
   },
   "outputs": [],
   "source": [
    "class TimeoutError(Exception):\n",
    "    pass\n",
    "\n",
    "def timeout(seconds=10, error_message=os.strerror(errno.ETIME)):\n",
    "    def decorator(func):\n",
    "        def _handle_timeout(signum, frame):\n",
    "            raise TimeoutError(error_message)\n",
    "\n",
    "        def wrapper(*args, **kwargs):\n",
    "            signal.signal(signal.SIGALRM, _handle_timeout)\n",
    "            signal.alarm(seconds)\n",
    "            try:\n",
    "                result = func(*args, **kwargs)\n",
    "            finally:\n",
    "                signal.alarm(0)\n",
    "            return result\n",
    "\n",
    "        return wraps(func)(wrapper)\n",
    "\n",
    "    return decorator"
   ]
  },
  {
   "cell_type": "code",
   "execution_count": null,
   "metadata": {
    "collapsed": true
   },
   "outputs": [],
   "source": [
    "@timeout(10)\n",
    "def per_distance_func(result):\n",
    "    per_distance = result.eval(feed_dict={x: test_inputs, keep_prob:1.0})\n",
    "    return per_distance"
   ]
  },
  {
   "cell_type": "code",
   "execution_count": null,
   "metadata": {
    "scrolled": true
   },
   "outputs": [],
   "source": [
    "df = []\n",
    "centers = kmeans.cluster_centers_\n",
    "timeouts = []\n",
    "with tf.device('/cpu:0'):\n",
    "        # Create the model\n",
    "        x = tf.placeholder(tf.float32, [None, 784])\n",
    "\n",
    "        # Define loss and optimizer\n",
    "        y_ = tf.placeholder(tf.float32, [None, 10])\n",
    "\n",
    "        # Build the graph for the deep net\n",
    "        net, keep_prob = mnist_model.deepnn(x)\n",
    "\n",
    "        cross_entropy = tf.reduce_mean(tf.nn.softmax_cross_entropy_with_logits(labels=y_, logits=net['y_conv']))\n",
    "        train_step = tf.train.AdamOptimizer(1e-4).minimize(cross_entropy)\n",
    "        correct_prediction = tf.equal(tf.argmax(net['y_conv'], 1), tf.argmax(y_, 1))\n",
    "        accuracy = tf.reduce_mean(tf.cast(correct_prediction, tf.float32))\n",
    "\n",
    "        saver = tf.train.Saver()\n",
    "        \n",
    "with tf.Session(config=config) as sess:\n",
    "\n",
    "    saver.restore(sess, os.path.join(SAVE_PATH, model))\n",
    "\n",
    "    for i in range(NUM_STEPS):\n",
    "        col = {}\n",
    "        s = kmeans.score(mnist.train.images[i].reshape(1,-1))\n",
    "        c = centers[kmeans.predict(mnist.train.images[i].reshape(1,-1))][0,:]\n",
    "        c = centers[kmeans.predict(mnist.train.images[i].reshape(1,-1))][0,:]\n",
    "        d = np.linalg.norm(c - mnist.train.images[i])\n",
    "        col['score'] = s\n",
    "        col['distance'] = d\n",
    "        col['correct'] = np.argmax(mnist.train.labels[i])\n",
    "        col['center'] = center_num\n",
    "    \n",
    "        test_inputs = np.stack((mnist.train.images[i], c))\n",
    "        test_labels = np.stack((mnist.train.labels[i], mnist.train.labels[i]))\n",
    "\n",
    "        percentiles = persistence_module.layerwise_percentile([net['input'],\n",
    "                                                            net['W_conv1'],\n",
    "                                                            net['h_conv1'],\n",
    "                                                            net['h_conv1'],\n",
    "                                                            net['W_fc1'],\n",
    "                                                            net['h_fc1'],\n",
    "                                                            net['h_fc1_drop'],\n",
    "                                                            net['W_fc2'],\n",
    "                                                            net['y_conv']],\n",
    "                                                            [0, 1, 2, 2, 1, 4, 4, 1, 4],\n",
    "                                                            [p,p,p])\n",
    "\n",
    "        ps1 = percentiles.eval(feed_dict={x: test_inputs[0:1], keep_prob:1.0})\n",
    "        ps2 = percentiles.eval(feed_dict={x: test_inputs[1:2], keep_prob:1.0})\n",
    "        \n",
    "        \n",
    "        result = persistence_module.wasserstein_distance([net['input'],\n",
    "                                                            net['W_conv1'],\n",
    "                                                            net['h_conv1'],\n",
    "                                                            net['h_conv1'],\n",
    "                                                            net['W_fc1'],\n",
    "                                                            net['h_fc1'],\n",
    "                                                            net['h_fc1_drop'],\n",
    "                                                            net['W_fc2'],\n",
    "                                                            net['y_conv']],\n",
    "                                                            [0, 1, 2, 2, 1, 4, 4, 1, 4],\n",
    "                                                            np.stack((ps1, ps2))\n",
    "                                                            )\n",
    "        try:\n",
    "            per_distance = per_distance_func(result)\n",
    "        except TimeoutError:\n",
    "            print('TimeoutError!')\n",
    "            timeouts.append(i)\n",
    "            continue\n",
    "            \n",
    "#         for j in range(10):\n",
    "#             test_inputs[1] = mnist.test.images[mnist_map[j]]\n",
    "#             pst = percentiles.eval(feed_dict={x: test_inputs[1:2], keep_prob:1.0})\n",
    "#             result = persistence_module.wasserstein_distance([net['input'],\n",
    "#                                                             net['W_conv1'],\n",
    "#                                                             net['h_conv1'],\n",
    "#                                                             net['h_conv1'],\n",
    "#                                                             net['W_fc1'],\n",
    "#                                                             net['h_fc1'],\n",
    "#                                                             net['h_fc1_drop'],\n",
    "#                                                             net['W_fc2'],\n",
    "#                                                             net['y_conv']],\n",
    "#                                                             [0, 1, 2, 2, 1, 4, 4, 1, 4],\n",
    "#                                                             np.stack((ps1, pst))\n",
    "#                                                             )\n",
    "#             try:\n",
    "#                 per_distance_t = per_distance_func(result)\n",
    "#             except TimeoutError:\n",
    "#                 print('TimeoutError!')\n",
    "#                 continue\n",
    "        \n",
    "#             col[j] = per_distance_t[0]\n",
    "#             print('Image {}, Persistence Distance: {}'.format(j, per_distance_t[0]))\n",
    "        print('Test Image: {}, Persistence Distance: {}'.format(i, per_distance))\n",
    "\n",
    "        ce = cross_entropy.eval(feed_dict={x:test_inputs[1:], y_:test_labels[1:], keep_prob:1.0})\n",
    "        y_conv = sess.run(net['y_conv'], feed_dict={x:test_inputs[1:], keep_prob:1.0})\n",
    "        acc = accuracy.eval(feed_dict={x:test_inputs[1:], y_:test_labels[1:], keep_prob:1})\n",
    "        y_conv = y_conv / np.linalg.norm(y_conv)\n",
    "        \n",
    "        col['per_distance'] = per_distance[0]\n",
    "        col['cross_entropy'] = ce\n",
    "        col['y_conv'] = y_conv[0,np.argmax(test_labels[1], axis=0)]\n",
    "        col['accuracy'] = acc\n",
    "        \n",
    "        df.append(col)"
   ]
  },
  {
   "cell_type": "code",
   "execution_count": 3,
   "metadata": {},
   "outputs": [],
   "source": [
    "df = pd.read_pickle('../logdir/data/experiments/cluster_mnist/cluster_df.pkl')"
   ]
  },
  {
   "cell_type": "code",
   "execution_count": 4,
   "metadata": {},
   "outputs": [
    {
     "data": {
      "text/plain": [
       "7    747\n",
       "1    654\n",
       "9    566\n",
       "0    521\n",
       "2    473\n",
       "4    456\n",
       "3    418\n",
       "8    397\n",
       "5    392\n",
       "6    376\n",
       "Name: center, dtype: int64"
      ]
     },
     "execution_count": 4,
     "metadata": {},
     "output_type": "execute_result"
    }
   ],
   "source": [
    "# df.head()\n",
    "df['center'].value_counts()"
   ]
  },
  {
   "cell_type": "code",
   "execution_count": 5,
   "metadata": {
    "collapsed": true
   },
   "outputs": [],
   "source": [
    "def regress(X, y, xlab, ylab, color_vals='b'):\n",
    "\n",
    "    # Split the data into training/testing sets\n",
    "    X_train = X[:-20]\n",
    "    X_test = X[-20:]\n",
    "\n",
    "    # Split the targets into training/testing sets\n",
    "    y_train = y[:-20]\n",
    "    y_test = y[-20:]\n",
    "\n",
    "    # Create linear regression object\n",
    "    regr = linear_model.LinearRegression()\n",
    "\n",
    "    # Train the model using the training sets\n",
    "    regr.fit(X_train, y_train)\n",
    "\n",
    "    # The coefficients\n",
    "    print('Coefficients: ', regr.coef_)\n",
    "    # The mean squared error\n",
    "    print(\"Mean squared error: %.2f\"\n",
    "          % np.mean((regr.predict(X_test) - y_test) ** 2))\n",
    "    # Explained variance score: 1 is perfect prediction\n",
    "    print('Variance score: %.2f' % regr.score(X_test, y_test))\n",
    "    print('R^2: %.2f' % r2_score(y_test, regr.predict(X_test)))\n",
    "\n",
    "    fig, ax = plt.subplots()\n",
    "    X_min = np.min(X)\n",
    "    X_max = np.max(X)\n",
    "    y_min = np.min(y)\n",
    "    y_max = np.max(y)\n",
    "    # Plot outputs\n",
    "\n",
    "    ax.scatter(X, y,  color=color_vals)\n",
    "    ax.plot(X, regr.predict(X), color='silver', linewidth=3)\n",
    "#     ax.set_xlim(X_min, X_max)\n",
    "#     ax.set_ylim(y_min, y_max)\n",
    "\n",
    "    plt.xlabel(xlab)\n",
    "    plt.ylabel(ylab)\n",
    "    plt.title('{} vs {}'.format(xlab, ylab))\n",
    "\n",
    "    plt.show()"
   ]
  },
  {
   "cell_type": "code",
   "execution_count": 8,
   "metadata": {},
   "outputs": [
    {
     "data": {
      "text/html": [
       "<div>\n",
       "<style>\n",
       "    .dataframe thead tr:only-child th {\n",
       "        text-align: right;\n",
       "    }\n",
       "\n",
       "    .dataframe thead th {\n",
       "        text-align: left;\n",
       "    }\n",
       "\n",
       "    .dataframe tbody tr th {\n",
       "        vertical-align: top;\n",
       "    }\n",
       "</style>\n",
       "<table border=\"1\" class=\"dataframe\">\n",
       "  <thead>\n",
       "    <tr style=\"text-align: right;\">\n",
       "      <th></th>\n",
       "      <th>accuracy</th>\n",
       "      <th>center</th>\n",
       "      <th>correct</th>\n",
       "      <th>cross_entropy</th>\n",
       "      <th>distance</th>\n",
       "      <th>per_distance</th>\n",
       "      <th>score</th>\n",
       "      <th>y_conv</th>\n",
       "    </tr>\n",
       "  </thead>\n",
       "  <tbody>\n",
       "    <tr>\n",
       "      <th>0</th>\n",
       "      <td>0.0</td>\n",
       "      <td>1</td>\n",
       "      <td>7</td>\n",
       "      <td>7.012167</td>\n",
       "      <td>25.418276</td>\n",
       "      <td>289084.93750</td>\n",
       "      <td>-55.628616</td>\n",
       "      <td>-0.343910</td>\n",
       "    </tr>\n",
       "    <tr>\n",
       "      <th>1</th>\n",
       "      <td>0.0</td>\n",
       "      <td>4</td>\n",
       "      <td>3</td>\n",
       "      <td>8.456603</td>\n",
       "      <td>108.137741</td>\n",
       "      <td>412128.09375</td>\n",
       "      <td>-33.493309</td>\n",
       "      <td>-0.310947</td>\n",
       "    </tr>\n",
       "    <tr>\n",
       "      <th>2</th>\n",
       "      <td>0.0</td>\n",
       "      <td>1</td>\n",
       "      <td>4</td>\n",
       "      <td>7.012167</td>\n",
       "      <td>26.092428</td>\n",
       "      <td>289086.71875</td>\n",
       "      <td>-35.184921</td>\n",
       "      <td>-0.343910</td>\n",
       "    </tr>\n",
       "    <tr>\n",
       "      <th>3</th>\n",
       "      <td>0.0</td>\n",
       "      <td>8</td>\n",
       "      <td>6</td>\n",
       "      <td>6.993735</td>\n",
       "      <td>221.036469</td>\n",
       "      <td>332854.84375</td>\n",
       "      <td>-31.868988</td>\n",
       "      <td>0.090484</td>\n",
       "    </tr>\n",
       "    <tr>\n",
       "      <th>4</th>\n",
       "      <td>0.0</td>\n",
       "      <td>2</td>\n",
       "      <td>1</td>\n",
       "      <td>5.188593</td>\n",
       "      <td>54.662743</td>\n",
       "      <td>296067.06250</td>\n",
       "      <td>-15.740414</td>\n",
       "      <td>0.053623</td>\n",
       "    </tr>\n",
       "  </tbody>\n",
       "</table>\n",
       "</div>"
      ],
      "text/plain": [
       "   accuracy  center  correct  cross_entropy    distance  per_distance  \\\n",
       "0       0.0       1        7       7.012167   25.418276  289084.93750   \n",
       "1       0.0       4        3       8.456603  108.137741  412128.09375   \n",
       "2       0.0       1        4       7.012167   26.092428  289086.71875   \n",
       "3       0.0       8        6       6.993735  221.036469  332854.84375   \n",
       "4       0.0       2        1       5.188593   54.662743  296067.06250   \n",
       "\n",
       "       score    y_conv  \n",
       "0 -55.628616 -0.343910  \n",
       "1 -33.493309 -0.310947  \n",
       "2 -35.184921 -0.343910  \n",
       "3 -31.868988  0.090484  \n",
       "4 -15.740414  0.053623  "
      ]
     },
     "execution_count": 8,
     "metadata": {},
     "output_type": "execute_result"
    }
   ],
   "source": [
    "df.head()"
   ]
  },
  {
   "cell_type": "code",
   "execution_count": 7,
   "metadata": {},
   "outputs": [
    {
     "name": "stdout",
     "output_type": "stream",
     "text": [
      "(521, 8)\n",
      "('Coefficients: ', array([[ 247.42471939]]))\n",
      "Mean squared error: 1881041.66\n",
      "Variance score: -0.14\n",
      "R^2: -0.14\n"
     ]
    },
    {
     "data": {
      "image/png": "[encoded data removed]",
      "text/plain": [
       "<matplotlib.figure.Figure at 0x7fc40b490a10>"
      ]
     },
     "metadata": {},
     "output_type": "display_data"
    }
   ],
   "source": [
    "cls = 0\n",
    "tdf = df[df['center'] == cls]\n",
    "print(tdf.shape)\n",
    "regress(tdf.as_matrix(columns=['distance']), tdf.as_matrix(columns=['per_distance']), 'Distance', 'Persistence Distance')"
   ]
  },
  {
   "cell_type": "code",
   "execution_count": null,
   "metadata": {
    "collapsed": true
   },
   "outputs": [],
   "source": []
  },
  {
   "cell_type": "code",
   "execution_count": null,
   "metadata": {
    "collapsed": true
   },
   "outputs": [],
   "source": []
  },
  {
   "cell_type": "code",
   "execution_count": null,
   "metadata": {
    "collapsed": true
   },
   "outputs": [],
   "source": []
  }
 ],
 "metadata": {
  "kernelspec": {
   "display_name": "Python 2",
   "language": "python",
   "name": "python2"
  },
  "language_info": {
   "codemirror_mode": {
    "name": "ipython",
    "version": 2
   },
   "file_extension": ".py",
   "mimetype": "text/x-python",
   "name": "python",
   "nbconvert_exporter": "python",
   "pygments_lexer": "ipython2",
   "version": "2.7.13"
  }
 },
 "nbformat": 4,
 "nbformat_minor": 2
}
