{
 "cells": [
  {
   "cell_type": "code",
   "execution_count": 1,
   "metadata": {},
   "outputs": [
    {
     "name": "stdout",
     "output_type": "stream",
     "text": [
      "Extracting MNIST_data/train-images-idx3-ubyte.gz\n",
      "Extracting MNIST_data/train-labels-idx1-ubyte.gz\n",
      "Extracting MNIST_data/t10k-images-idx3-ubyte.gz\n",
      "Extracting MNIST_data/t10k-labels-idx1-ubyte.gz\n"
     ]
    }
   ],
   "source": [
    "from tf_activation.models import mnist_cff as mnist_model\n",
    "from tf_activation.experiments import distance_finder\n",
    "\n",
    "from sklearn.cluster import KMeans\n",
    "from sklearn import datasets, linear_model\n",
    "from sklearn.metrics import r2_score\n",
    "from sklearn.externals import joblib\n",
    "import pandas as pd\n",
    "import numpy as np\n",
    "import matplotlib.pyplot as plt\n",
    "import tensorflow as tf\n",
    "from tensorflow.examples.tutorials.mnist import input_data\n",
    "persistence_module = tf.load_op_library('/home/tgebhart/python/tensorflow/bazel-bin/tensorflow/core/user_ops/nn_graph_persistence.so')\n",
    "\n",
    "from time import time\n",
    "import os\n",
    "\n",
    "mnist = input_data.read_data_sets('MNIST_data', one_hot=True)\n"
   ]
  },
  {
   "cell_type": "code",
   "execution_count": 2,
   "metadata": {
    "collapsed": true
   },
   "outputs": [],
   "source": [
    "SAVE_PATH = '../logdir/models'\n",
    "model = 'mnist_cff_2000.ckpt'\n",
    "p = 95\n",
    "\n",
    "config = tf.ConfigProto()\n",
    "config.gpu_options.per_process_gpu_memory_fraction = 0.5\n",
    "config.allow_soft_placement = True\n",
    "config.gpu_options.allocator_type = 'BFC'\n",
    "config.log_device_placement = True"
   ]
  },
  {
   "cell_type": "code",
   "execution_count": 3,
   "metadata": {},
   "outputs": [],
   "source": [
    "# kmeans = KMeans(init='k-means++', n_clusters=len(mnist.train.labels[0]), n_init=10)\n",
    "# kmeans.fit(mnist.train.images)\n",
    "# joblib.dump(kmeans, os.path.join(SAVE_PATH, 'kmeans.pkl'))\n",
    "kmeans = joblib.load(os.path.join(SAVE_PATH, 'kmeans.pkl'))"
   ]
  },
  {
   "cell_type": "code",
   "execution_count": 4,
   "metadata": {},
   "outputs": [
    {
     "name": "stdout",
     "output_type": "stream",
     "text": [
      "((784,), (784,))\n",
      "INFO:tensorflow:Restoring parameters from ../logdir/models/mnist_cff_2000.ckpt\n"
     ]
    },
    {
     "ename": "NameError",
     "evalue": "name 'p' is not defined",
     "output_type": "error",
     "traceback": [
      "\u001b[0;31m---------------------------------------------------------------------------\u001b[0m",
      "\u001b[0;31mNameError\u001b[0m                                 Traceback (most recent call last)",
      "\u001b[0;32m<ipython-input-4-6911e5139d08>\u001b[0m in \u001b[0;36m<module>\u001b[0;34m()\u001b[0m\n\u001b[1;32m     42\u001b[0m                                                             net['y_conv']],\n\u001b[1;32m     43\u001b[0m                                                             \u001b[0;34m[\u001b[0m\u001b[0;36m0\u001b[0m\u001b[0;34m,\u001b[0m \u001b[0;36m1\u001b[0m\u001b[0;34m,\u001b[0m \u001b[0;36m2\u001b[0m\u001b[0;34m,\u001b[0m \u001b[0;36m2\u001b[0m\u001b[0;34m,\u001b[0m \u001b[0;36m1\u001b[0m\u001b[0;34m,\u001b[0m \u001b[0;36m4\u001b[0m\u001b[0;34m,\u001b[0m \u001b[0;36m4\u001b[0m\u001b[0;34m,\u001b[0m \u001b[0;36m1\u001b[0m\u001b[0;34m,\u001b[0m \u001b[0;36m4\u001b[0m\u001b[0;34m]\u001b[0m\u001b[0;34m,\u001b[0m\u001b[0;34m\u001b[0m\u001b[0m\n\u001b[0;32m---> 44\u001b[0;31m                                                             [p,p,p])\n\u001b[0m\u001b[1;32m     45\u001b[0m \u001b[0;34m\u001b[0m\u001b[0m\n\u001b[1;32m     46\u001b[0m         \u001b[0mps1\u001b[0m \u001b[0;34m=\u001b[0m \u001b[0mpercentiles\u001b[0m\u001b[0;34m.\u001b[0m\u001b[0meval\u001b[0m\u001b[0;34m(\u001b[0m\u001b[0mfeed_dict\u001b[0m\u001b[0;34m=\u001b[0m\u001b[0;34m{\u001b[0m\u001b[0mx\u001b[0m\u001b[0;34m:\u001b[0m \u001b[0mtest_inputs\u001b[0m\u001b[0;34m[\u001b[0m\u001b[0;36m0\u001b[0m\u001b[0;34m:\u001b[0m\u001b[0;36m1\u001b[0m\u001b[0;34m]\u001b[0m\u001b[0;34m,\u001b[0m \u001b[0mkeep_prob\u001b[0m\u001b[0;34m:\u001b[0m\u001b[0;36m1.0\u001b[0m\u001b[0;34m}\u001b[0m\u001b[0;34m)\u001b[0m\u001b[0;34m\u001b[0m\u001b[0m\n",
      "\u001b[0;31mNameError\u001b[0m: name 'p' is not defined"
     ]
    }
   ],
   "source": [
    "df = []\n",
    "centers = kmeans.cluster_centers_\n",
    "for i in range(mnist.train.images.shape[0]):\n",
    "    col = {}\n",
    "    s = kmeans.score(mnist.train.images[i].reshape(1,-1))\n",
    "    c = centers[kmeans.predict(mnist.train.images[i].reshape(1,-1))][0,:]\n",
    "    d = np.linalg.norm(c - mnist.train.images[i])\n",
    "    print(c.shape, mnist.train.images[i].shape)\n",
    "    col['score'] = s\n",
    "    col['distance'] = d\n",
    "    \n",
    "    with tf.device('/cpu:0'):\n",
    "        # Create the model\n",
    "        x = tf.placeholder(tf.float32, [None, 784])\n",
    "\n",
    "        # Define loss and optimizer\n",
    "        y_ = tf.placeholder(tf.float32, [None, 10])\n",
    "\n",
    "        # Build the graph for the deep net\n",
    "        net, keep_prob = mnist_model.deepnn(x)\n",
    "\n",
    "        cross_entropy = tf.reduce_mean(tf.nn.softmax_cross_entropy_with_logits(labels=y_, logits=net['y_conv']))\n",
    "        train_step = tf.train.AdamOptimizer(1e-4).minimize(cross_entropy)\n",
    "        correct_prediction = tf.equal(tf.argmax(net['y_conv'], 1), tf.argmax(y_, 1))\n",
    "        accuracy = tf.reduce_mean(tf.cast(correct_prediction, tf.float32))\n",
    "\n",
    "        saver = tf.train.Saver()\n",
    "\n",
    "    with tf.Session(config=config) as sess:\n",
    "\n",
    "        saver.restore(sess, os.path.join(SAVE_PATH, model))\n",
    "        test_inputs = np.stack((mnist.train.images[i], c))\n",
    "\n",
    "        percentiles = persistence_module.layerwise_percentile([net['input'],\n",
    "                                                            net['W_conv1'],\n",
    "                                                            net['h_conv1'],\n",
    "                                                            net['h_conv1'],\n",
    "                                                            net['W_fc1'],\n",
    "                                                            net['h_fc1'],\n",
    "                                                            net['h_fc1_drop'],\n",
    "                                                            net['W_fc2'],\n",
    "                                                            net['y_conv']],\n",
    "                                                            [0, 1, 2, 2, 1, 4, 4, 1, 4],\n",
    "                                                            [p,p,p])\n",
    "\n",
    "        ps1 = percentiles.eval(feed_dict={x: test_inputs[0:1], keep_prob:1.0})\n",
    "        ps2 = percentiles.eval(feed_dict={x: test_inputs[1:2], keep_prob:1.0})\n",
    "\n",
    "        result = persistence_module.wasserstein_distance([net['input'],\n",
    "                                                            net['W_conv1'],\n",
    "                                                            net['h_conv1'],\n",
    "                                                            net['h_conv1'],\n",
    "                                                            net['W_fc1'],\n",
    "                                                            net['h_fc1'],\n",
    "                                                            net['h_fc1_drop'],\n",
    "                                                            net['W_fc2'],\n",
    "                                                            net['y_conv']],\n",
    "                                                            [0, 1, 2, 2, 1, 4, 4, 1, 4],\n",
    "                                                            np.stack((ps1, ps2))\n",
    "                                                            )\n",
    "\n",
    "        per_distance = result.eval(feed_dict={x: test_inputs, keep_prob:1.0})\n",
    "        print('Test Image: {}, Persistence Distance: {}'.format(i, per_distance))\n",
    "\n",
    "        ce = cross_entropy.eval(feed_dict={x:test_inputs[1:], y_:test_labels[1:], keep_prob:1.0})\n",
    "        y_conv = sess.run(net['y_conv'], feed_dict={x:test_inputs[1:], keep_prob:1.0})\n",
    "        acc = accuracy.eval(feed_dict={x:test_inputs[1:], y_:test_labels[1:], keep_prob:1})\n",
    "        y_conv = y_conv / np.linalg.norm(y_conv)\n",
    "        \n",
    "        col['per_distance'] = per_distance[0]\n",
    "        col['cross_entropy'] = ce\n",
    "        col['y_conv'] = y_conv[0,np.argmax(test_labels[1], axis=0)]\n",
    "        col['accuracy'] = acc\n",
    "        \n",
    "        df.append(col)"
   ]
  },
  {
   "cell_type": "code",
   "execution_count": null,
   "metadata": {
    "collapsed": true
   },
   "outputs": [],
   "source": []
  }
 ],
 "metadata": {
  "kernelspec": {
   "display_name": "Python 2",
   "language": "python",
   "name": "python2"
  },
  "language_info": {
   "codemirror_mode": {
    "name": "ipython",
    "version": 2
   },
   "file_extension": ".py",
   "mimetype": "text/x-python",
   "name": "python",
   "nbconvert_exporter": "python",
   "pygments_lexer": "ipython2",
   "version": "2.7.13"
  }
 },
 "nbformat": 4,
 "nbformat_minor": 2
}
