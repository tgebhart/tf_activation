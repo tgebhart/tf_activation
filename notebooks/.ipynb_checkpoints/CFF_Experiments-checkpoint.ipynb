{
 "cells": [
  {
   "cell_type": "code",
   "execution_count": 1,
   "metadata": {
    "collapsed": true
   },
   "outputs": [],
   "source": [
    "%load_ext autoreload\n",
    "%autoreload 2\n",
    "from tf_activation import DeepGraph\n",
    "from tf_activation.models import mnist_cff as mnist_model\n",
    "\n",
    "import math\n",
    "import random\n",
    "import os\n",
    "\n",
    "import networkx as nx\n",
    "import tensorflow as tf\n",
    "import numpy as np\n",
    "%matplotlib inline\n",
    "import matplotlib.pyplot as plt\n",
    "\n",
    "from tensorflow.examples.tutorials.mnist import input_data"
   ]
  },
  {
   "cell_type": "code",
   "execution_count": 2,
   "metadata": {},
   "outputs": [
    {
     "name": "stdout",
     "output_type": "stream",
     "text": [
      "Extracting MNIST_data/train-images-idx3-ubyte.gz\n",
      "Extracting MNIST_data/train-labels-idx1-ubyte.gz\n",
      "Extracting MNIST_data/t10k-images-idx3-ubyte.gz\n",
      "Extracting MNIST_data/t10k-labels-idx1-ubyte.gz\n"
     ]
    }
   ],
   "source": [
    "mnist_map = {\n",
    "    0: 3,\n",
    "    1: 2,\n",
    "    2: 1,\n",
    "    3: 18,\n",
    "    4: 4,\n",
    "    5: 8,\n",
    "    6: 11,\n",
    "    7: 0,\n",
    "    8: 61,\n",
    "    9: 7\n",
    "}\n",
    "\n",
    "SAVE_PATH = '../logdir/models'\n",
    "ADV_PATH = '../logdir/adversaries'\n",
    "\n",
    "mnist = input_data.read_data_sets('MNIST_data', one_hot=True)\n",
    "\n",
    "config = tf.ConfigProto()\n",
    "config.gpu_options.per_process_gpu_memory_fraction = 0.5\n",
    "config.gpu_options.allocator_type = 'BFC'\n",
    "config.log_device_placement = True\n",
    "\n",
    "persistence_module = tf.load_op_library('/home/tgebhart/Projects/tensorflow/bazel-bin/tensorflow/core/user_ops/nn_graph_persistence.so')"
   ]
  },
  {
   "cell_type": "code",
   "execution_count": 3,
   "metadata": {
    "collapsed": true
   },
   "outputs": [],
   "source": [
    "# setup model\n",
    "with tf.device('/cpu:0'):\n",
    "    # Create the model\n",
    "    x = tf.placeholder(tf.float32, [None, 784])\n",
    "\n",
    "    # Define loss and optimizer\n",
    "    y_ = tf.placeholder(tf.float32, [None, 10])\n",
    "\n",
    "    # Build the graph for the deep net\n",
    "    net, keep_prob = mnist_model.deepnn(x)\n",
    "\n",
    "    cross_entropy = tf.reduce_mean(tf.nn.softmax_cross_entropy_with_logits(labels=y_, logits=net['y_conv']))\n",
    "    train_step = tf.train.AdamOptimizer(1e-4).minimize(cross_entropy)\n",
    "    correct_prediction = tf.equal(tf.argmax(net['y_conv'], 1), tf.argmax(y_, 1))\n",
    "    accuracy = tf.reduce_mean(tf.cast(correct_prediction, tf.float32))\n",
    "    \n",
    "    saver = tf.train.Saver()"
   ]
  },
  {
   "cell_type": "code",
   "execution_count": 5,
   "metadata": {},
   "outputs": [],
   "source": [
    "# setup test samples\n",
    "adv = np.genfromtxt(os.path.join(ADV_PATH, 'mnist_1_14:35:40_03-08-17.csv'), delimiter=',')\n",
    "original = mnist.test.images[mnist_map[1]]\n",
    "original_label = mnist.test.labels[mnist_map[1]]\n",
    "test_inputs = np.stack((original,adv))\n",
    "test_labels = np.stack((original_label, original_label))\n",
    "\n",
    "p = 99.9995"
   ]
  },
  {
   "cell_type": "code",
   "execution_count": 9,
   "metadata": {
    "collapsed": true
   },
   "outputs": [],
   "source": [
    "# run network\n",
    "with tf.Session(config=config) as sess:\n",
    "\n",
    "    saver.restore(sess, os.path.join(SAVE_PATH, 'mnist_cff_2000.ckpt'))\n",
    "\n",
    "    test_inputs = np.stack((mnist.test.images[2],one_adversary))\n",
    "\n",
    "     acc = accuracy.eval(feed_dict={\n",
    "            x: test_inputs, y_: mnist.test.labels[2:3], keep_prob: 1.0})\n",
    "\n",
    "\n",
    "    percentiles = persistence_module.layerwise_percentile([net['input'],\n",
    "                                                        net['W_conv1'],\n",
    "                                                        net['h_conv1'],\n",
    "                                                        net['h_conv1'],\n",
    "                                                        net['W_fc1'],\n",
    "                                                        net['h_fc1'],\n",
    "                                                        net['h_fc1_drop'],\n",
    "                                                        net['W_fc2'],\n",
    "                                                        net['y_conv']],\n",
    "                                                        [0, 1, 2, 2, 1, 4, 4, 1, 4],\n",
    "                                                        [p,p,p])\n",
    "\n",
    "    ps1 = percentiles.eval(feed_dict={x: test_inputs[0:1], keep_prob:1.0});\n",
    "    print(ps1)\n",
    "\n",
    "    ps2 = percentiles.eval(feed_dict={x: test_inputs[1:2], keep_prob:1.0});\n",
    "    print(ps2)\n",
    "\n",
    "    print(np.stack((ps1, ps2)).shape)\n",
    "\n",
    "    result = persistence_module.bottleneck_distance([net['input'],\n",
    "                                                    net['W_conv1'],\n",
    "                                                    net['h_conv1'],\n",
    "                                                    net['h_conv1'],\n",
    "                                                    net['W_fc1'],\n",
    "                                                    net['h_fc1'],\n",
    "                                                    net['h_fc1_drop'],\n",
    "                                                    net['W_fc2'],\n",
    "                                                    net['y_conv']],\n",
    "                                                    [0, 1, 2, 2, 1, 4, 4, 1, 4],\n",
    "                                                    np.stack((ps1, ps2))\n",
    "                                                    )\n",
    "\n",
    "\n",
    "    r = result.eval(feed_dict={x: test_inputs, keep_prob:1.0})\n",
    "    print('distance:', r)\n",
    "\n",
    "    print('Test accuracy: {}'.format(acc))\n",
    "    print('for labels: ', original_labels)"
   ]
  },
  {
   "cell_type": "code",
   "execution_count": 7,
   "metadata": {},
   "outputs": [
    {
     "data": {
      "text/plain": [
       "<matplotlib.image.AxesImage at 0x7f6cbc927910>"
      ]
     },
     "execution_count": 7,
     "metadata": {},
     "output_type": "execute_result"
    },
    {
     "data": {
      "image/png": "[encoded data removed]",
      "text/plain": [
       "<matplotlib.figure.Figure at 0x7f6cbcf34f50>"
      ]
     },
     "metadata": {},
     "output_type": "display_data"
    }
   ],
   "source": [
    "adv = np.genfromtxt(os.path.join(ADV_PATH, 'mnist_1_14:35:40_03-08-17.csv'), delimiter=',')\n",
    "plt.imshow(np.reshape(adv,[28,28]), interpolation=\"nearest\", cmap=\"gray\")"
   ]
  },
  {
   "cell_type": "code",
   "execution_count": 8,
   "metadata": {},
   "outputs": [
    {
     "data": {
      "text/plain": [
       "<matplotlib.image.AxesImage at 0x7f6cb8ed3710>"
      ]
     },
     "execution_count": 8,
     "metadata": {},
     "output_type": "execute_result"
    },
    {
     "data": {
      "image/png": "[encoded data removed]",
      "text/plain": [
       "<matplotlib.figure.Figure at 0x7f6cbcea3850>"
      ]
     },
     "metadata": {},
     "output_type": "display_data"
    }
   ],
   "source": [
    "plt.imshow(np.reshape(original,[28,28]), interpolation=\"nearest\", cmap=\"gray\")"
   ]
  },
  {
   "cell_type": "code",
   "execution_count": null,
   "metadata": {
    "collapsed": true
   },
   "outputs": [],
   "source": []
  }
 ],
 "metadata": {
  "kernelspec": {
   "display_name": "Python 2",
   "language": "python",
   "name": "python2"
  },
  "language_info": {
   "codemirror_mode": {
    "name": "ipython",
    "version": 2
   },
   "file_extension": ".py",
   "mimetype": "text/x-python",
   "name": "python",
   "nbconvert_exporter": "python",
   "pygments_lexer": "ipython2",
   "version": "2.7.13"
  }
 },
 "nbformat": 4,
 "nbformat_minor": 2
}
