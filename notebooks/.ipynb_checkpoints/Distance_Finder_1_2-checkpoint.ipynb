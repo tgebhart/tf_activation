{
 "cells": [
  {
   "cell_type": "code",
   "execution_count": 1,
   "metadata": {
    "collapsed": true
   },
   "outputs": [],
   "source": [
    "%load_ext autoreload\n",
    "%autoreload 2\n",
    "from tf_activation import DeepGraph\n",
    "from tf_activation.models import mnist_cff as mnist_model\n",
    "\n",
    "import math\n",
    "import random\n",
    "import os\n",
    "\n",
    "import networkx as nx\n",
    "import tensorflow as tf\n",
    "import numpy as np\n",
    "import pandas as pd\n",
    "from sklearn import datasets, linear_model\n",
    "from sklearn.metrics import r2_score\n",
    "%matplotlib inline\n",
    "import matplotlib.pyplot as plt\n",
    "\n",
    "from tensorflow.examples.tutorials.mnist import input_data"
   ]
  },
  {
   "cell_type": "code",
   "execution_count": 2,
   "metadata": {},
   "outputs": [
    {
     "name": "stdout",
     "output_type": "stream",
     "text": [
      "Extracting MNIST_data/train-images-idx3-ubyte.gz\n",
      "Extracting MNIST_data/train-labels-idx1-ubyte.gz\n",
      "Extracting MNIST_data/t10k-images-idx3-ubyte.gz\n",
      "Extracting MNIST_data/t10k-labels-idx1-ubyte.gz\n"
     ]
    }
   ],
   "source": [
    "mnist_map = {\n",
    "    0: 3,\n",
    "    1: 2,\n",
    "    2: 1,\n",
    "    3: 18,\n",
    "    4: 4,\n",
    "    5: 8,\n",
    "    6: 11,\n",
    "    7: 0,\n",
    "    8: 61,\n",
    "    9: 7\n",
    "}\n",
    "\n",
    "SAVE_PATH = '../logdir/models'\n",
    "ADV_PATH = '../logdir/adversaries'\n",
    "ELITE_PATH = '../logdir/elites'\n",
    "DATA_PATH = '../logdir/data'\n",
    "\n",
    "\n",
    "mnist = input_data.read_data_sets('MNIST_data', one_hot=True)\n",
    "\n",
    "config = tf.ConfigProto()\n",
    "config.gpu_options.per_process_gpu_memory_fraction = 0.5\n",
    "config.gpu_options.allocator_type = 'BFC'\n",
    "config.log_device_placement = True\n",
    "\n",
    "persistence_module = tf.load_op_library('/home/tgebhart/python/tensorflow/bazel-bin/tensorflow/core/user_ops/nn_graph_persistence.so')"
   ]
  },
  {
   "cell_type": "code",
   "execution_count": 3,
   "metadata": {},
   "outputs": [],
   "source": [
    "im_1 = mnist.test.images[mnist_map[1]]\n",
    "im_2 = mnist.test.images[mnist_map[2]]\n",
    "im_rand = np.random.rand(im_2.shape[0])\n",
    "\n",
    "steps = 200\n",
    "\n",
    "columns = ['in_distance_1', 'in_distance_2', 'per_distance_1', 'per_distance_2', 'cross_entropy_1',\n",
    "           'cross_entropy_2', 'y_conv_1', 'y_conv_2', 'accuracy_1', 'accuracy_2']\n",
    "index = range(steps)\n",
    "test_df = pd.DataFrame(index=index, columns=columns)"
   ]
  },
  {
   "cell_type": "code",
   "execution_count": 4,
   "metadata": {
    "collapsed": true
   },
   "outputs": [],
   "source": [
    "def create_path(start_im, end_im, steps=100):\n",
    "    ret = []\n",
    "    t = np.divide(end_im - start_im, steps)\n",
    "    for i in range(1,steps+1):\n",
    "        ret.append(start_im + i*t)\n",
    "    return ret\n",
    "    "
   ]
  },
  {
   "cell_type": "code",
   "execution_count": 23,
   "metadata": {},
   "outputs": [],
   "source": [
    "path = create_path(im_1, im_rand) + create_path(im_rand, im_2)"
   ]
  },
  {
   "cell_type": "code",
   "execution_count": 6,
   "metadata": {
    "collapsed": true
   },
   "outputs": [],
   "source": [
    "# setup model\n",
    "with tf.device('/cpu:0'):\n",
    "    # Create the model\n",
    "    x = tf.placeholder(tf.float32, [None, 784])\n",
    "\n",
    "    # Define loss and optimizer\n",
    "    y_ = tf.placeholder(tf.float32, [None, 10])\n",
    "\n",
    "    # Build the graph for the deep net\n",
    "    net, keep_prob = mnist_model.deepnn(x)\n",
    "\n",
    "    cross_entropy = tf.reduce_mean(tf.nn.softmax_cross_entropy_with_logits(labels=y_, logits=net['y_conv']))\n",
    "    train_step = tf.train.AdamOptimizer(1e-4).minimize(cross_entropy)\n",
    "    correct_prediction = tf.equal(tf.argmax(net['y_conv'], 1), tf.argmax(y_, 1))\n",
    "    accuracy = tf.reduce_mean(tf.cast(correct_prediction, tf.float32))\n",
    "    \n",
    "    saver = tf.train.Saver()"
   ]
  },
  {
   "cell_type": "code",
   "execution_count": 7,
   "metadata": {
    "scrolled": true
   },
   "outputs": [
    {
     "name": "stdout",
     "output_type": "stream",
     "text": [
      "INFO:tensorflow:Restoring parameters from ../logdir/models/mnist_cff_2000.ckpt\n",
      "('Step: ', 0)\n",
      "('Step: ', 1)\n",
      "('Step: ', 2)\n",
      "('Step: ', 3)\n",
      "('Step: ', 4)\n",
      "('Step: ', 5)\n",
      "('Step: ', 6)\n",
      "('Step: ', 7)\n",
      "('Step: ', 8)\n",
      "('Step: ', 9)\n",
      "('Step: ', 10)\n",
      "('Step: ', 11)\n",
      "('Step: ', 12)\n",
      "('Step: ', 13)\n",
      "('Step: ', 14)\n",
      "('Step: ', 15)\n",
      "('Step: ', 16)\n",
      "('Step: ', 17)\n",
      "('Step: ', 18)\n",
      "('Step: ', 19)\n",
      "('Step: ', 20)\n",
      "('Step: ', 21)\n",
      "('Step: ', 22)\n",
      "('Step: ', 23)\n",
      "('Step: ', 24)\n",
      "('Step: ', 25)\n",
      "('Step: ', 26)\n",
      "('Step: ', 27)\n",
      "('Step: ', 28)\n",
      "('Step: ', 29)\n",
      "('Step: ', 30)\n",
      "('Step: ', 31)\n",
      "('Step: ', 32)\n",
      "('Step: ', 33)\n",
      "('Step: ', 34)\n",
      "('Step: ', 35)\n",
      "('Step: ', 36)\n",
      "('Step: ', 37)\n",
      "('Step: ', 38)\n",
      "('Step: ', 39)\n",
      "('Step: ', 40)\n",
      "('Step: ', 41)\n",
      "('Step: ', 42)\n",
      "('Step: ', 43)\n",
      "('Step: ', 44)\n",
      "('Step: ', 45)\n",
      "('Step: ', 46)\n",
      "('Step: ', 47)\n",
      "('Step: ', 48)\n",
      "('Step: ', 49)\n",
      "('Step: ', 50)\n",
      "('Step: ', 51)\n",
      "('Step: ', 52)\n",
      "('Step: ', 53)\n",
      "('Step: ', 54)\n",
      "('Step: ', 55)\n",
      "('Step: ', 56)\n",
      "('Step: ', 57)\n",
      "('Step: ', 58)\n",
      "('Step: ', 59)\n",
      "('Step: ', 60)\n",
      "('Step: ', 61)\n",
      "('Step: ', 62)\n",
      "('Step: ', 63)\n",
      "('Step: ', 64)\n",
      "('Step: ', 65)\n",
      "('Step: ', 66)\n",
      "('Step: ', 67)\n",
      "('Step: ', 68)\n",
      "('Step: ', 69)\n",
      "('Step: ', 70)\n",
      "('Step: ', 71)\n",
      "('Step: ', 72)\n",
      "('Step: ', 73)\n",
      "('Step: ', 74)\n",
      "('Step: ', 75)\n",
      "('Step: ', 76)\n",
      "('Step: ', 77)\n",
      "('Step: ', 78)\n",
      "('Step: ', 79)\n",
      "('Step: ', 80)\n",
      "('Step: ', 81)\n",
      "('Step: ', 82)\n",
      "('Step: ', 83)\n",
      "('Step: ', 84)\n",
      "('Step: ', 85)\n",
      "('Step: ', 86)\n",
      "('Step: ', 87)\n",
      "('Step: ', 88)\n",
      "('Step: ', 89)\n",
      "('Step: ', 90)\n",
      "('Step: ', 91)\n",
      "('Step: ', 92)\n",
      "('Step: ', 93)\n",
      "('Step: ', 94)\n",
      "('Step: ', 95)\n",
      "('Step: ', 96)\n",
      "('Step: ', 97)\n",
      "('Step: ', 98)\n",
      "('Step: ', 99)\n",
      "('Step: ', 100)\n",
      "('Step: ', 101)\n",
      "('Step: ', 102)\n",
      "('Step: ', 103)\n",
      "('Step: ', 104)\n",
      "('Step: ', 105)\n",
      "('Step: ', 106)\n",
      "('Step: ', 107)\n",
      "('Step: ', 108)\n",
      "('Step: ', 109)\n",
      "('Step: ', 110)\n",
      "('Step: ', 111)\n",
      "('Step: ', 112)\n",
      "('Step: ', 113)\n",
      "('Step: ', 114)\n",
      "('Step: ', 115)\n",
      "('Step: ', 116)\n",
      "('Step: ', 117)\n",
      "('Step: ', 118)\n",
      "('Step: ', 119)\n",
      "('Step: ', 120)\n",
      "('Step: ', 121)\n",
      "('Step: ', 122)\n",
      "('Step: ', 123)\n",
      "('Step: ', 124)\n",
      "('Step: ', 125)\n",
      "('Step: ', 126)\n",
      "('Step: ', 127)\n",
      "('Step: ', 128)\n",
      "('Step: ', 129)\n",
      "('Step: ', 130)\n",
      "('Step: ', 131)\n",
      "('Step: ', 132)\n",
      "('Step: ', 133)\n",
      "('Step: ', 134)\n",
      "('Step: ', 135)\n",
      "('Step: ', 136)\n",
      "('Step: ', 137)\n",
      "('Step: ', 138)\n",
      "('Step: ', 139)\n",
      "('Step: ', 140)\n",
      "('Step: ', 141)\n",
      "('Step: ', 142)\n",
      "('Step: ', 143)\n",
      "('Step: ', 144)\n",
      "('Step: ', 145)\n",
      "('Step: ', 146)\n",
      "('Step: ', 147)\n",
      "('Step: ', 148)\n",
      "('Step: ', 149)\n",
      "('Step: ', 150)\n",
      "('Step: ', 151)\n",
      "('Step: ', 152)\n",
      "('Step: ', 153)\n",
      "('Step: ', 154)\n",
      "('Step: ', 155)\n",
      "('Step: ', 156)\n",
      "('Step: ', 157)\n",
      "('Step: ', 158)\n",
      "('Step: ', 159)\n",
      "('Step: ', 160)\n",
      "('Step: ', 161)\n",
      "('Step: ', 162)\n",
      "('Step: ', 163)\n",
      "('Step: ', 164)\n",
      "('Step: ', 165)\n",
      "('Step: ', 166)\n",
      "('Step: ', 167)\n",
      "('Step: ', 168)\n",
      "('Step: ', 169)\n",
      "('Step: ', 170)\n",
      "('Step: ', 171)\n",
      "('Step: ', 172)\n",
      "('Step: ', 173)\n",
      "('Step: ', 174)\n",
      "('Step: ', 175)\n",
      "('Step: ', 176)\n",
      "('Step: ', 177)\n",
      "('Step: ', 178)\n",
      "('Step: ', 179)\n",
      "('Step: ', 180)\n",
      "('Step: ', 181)\n",
      "('Step: ', 182)\n",
      "('Step: ', 183)\n",
      "('Step: ', 184)\n",
      "('Step: ', 185)\n",
      "('Step: ', 186)\n",
      "('Step: ', 187)\n",
      "('Step: ', 188)\n",
      "('Step: ', 189)\n",
      "('Step: ', 190)\n",
      "('Step: ', 191)\n",
      "('Step: ', 192)\n",
      "('Step: ', 193)\n",
      "('Step: ', 194)\n",
      "('Step: ', 195)\n",
      "('Step: ', 196)\n",
      "('Step: ', 197)\n",
      "('Step: ', 198)\n",
      "('Step: ', 199)\n"
     ]
    }
   ],
   "source": [
    "# run network\n",
    "test_labels = np.stack((mnist.test.labels[mnist_map[1]],mnist.test.labels[mnist_map[2]]))\n",
    "p = 95\n",
    "with tf.Session(config=config) as sess:\n",
    "\n",
    "    saver.restore(sess, os.path.join(SAVE_PATH, 'mnist_cff_2000.ckpt'))\n",
    "\n",
    "    test_inputs_1 = np.stack((im_1, path[0]))\n",
    "    test_inputs_2 = np.stack((im_2, path[0]))\n",
    "\n",
    "    percentiles = persistence_module.layerwise_percentile([net['input'],\n",
    "                                                        net['W_conv1'],\n",
    "                                                        net['h_conv1'],\n",
    "                                                        net['h_conv1'],\n",
    "                                                        net['W_fc1'],\n",
    "                                                        net['h_fc1'],\n",
    "                                                        net['h_fc1_drop'],\n",
    "                                                        net['W_fc2'],\n",
    "                                                        net['y_conv']],\n",
    "                                                        [0, 1, 2, 2, 1, 4, 4, 1, 4],\n",
    "                                                        [p,p,p])\n",
    "\n",
    "    ps1_1 = percentiles.eval(feed_dict={x: test_inputs_1[:1], keep_prob:1.0})\n",
    "    ps1_2 = percentiles.eval(feed_dict={x: test_inputs_2[:1], keep_prob:1.0})\n",
    "    \n",
    "    for i in range(len(path)):\n",
    "        \n",
    "        test_inputs_1 = np.stack((im_1, path[i]))\n",
    "        test_inputs_2 = np.stack((im_2, path[i]))\n",
    "        in_distance_1 = np.linalg.norm(im_1 - path[i], ord=2)\n",
    "        in_distance_2 = np.linalg.norm(im_2 - path[i], ord=2)\n",
    "\n",
    "        ps2 = percentiles.eval(feed_dict={x: test_inputs_1[1:], keep_prob:1.0})\n",
    "\n",
    "        result_1 = persistence_module.wasserstein_distance([net['input'],\n",
    "                                                        net['W_conv1'],\n",
    "                                                        net['h_conv1'],\n",
    "                                                        net['h_conv1'],\n",
    "                                                        net['W_fc1'],\n",
    "                                                        net['h_fc1'],\n",
    "                                                        net['h_fc1_drop'],\n",
    "                                                        net['W_fc2'],\n",
    "                                                        net['y_conv']],\n",
    "                                                        [0, 1, 2, 2, 1, 4, 4, 1, 4],\n",
    "                                                        np.stack((ps1_1, ps2))\n",
    "                                                        )\n",
    "        \n",
    "        result_2 = persistence_module.wasserstein_distance([net['input'],\n",
    "                                                        net['W_conv1'],\n",
    "                                                        net['h_conv1'],\n",
    "                                                        net['h_conv1'],\n",
    "                                                        net['W_fc1'],\n",
    "                                                        net['h_fc1'],\n",
    "                                                        net['h_fc1_drop'],\n",
    "                                                        net['W_fc2'],\n",
    "                                                        net['y_conv']],\n",
    "                                                        [0, 1, 2, 2, 1, 4, 4, 1, 4],\n",
    "                                                        np.stack((ps1_2, ps2))\n",
    "                                                        )\n",
    "\n",
    "\n",
    "        per_distance_1 = result_1.eval(feed_dict={x: test_inputs_1, keep_prob:1.0})\n",
    "        per_distance_2 = result_2.eval(feed_dict={x: test_inputs_2, keep_prob:1.0})\n",
    "        print('Step: ', i)\n",
    "        \n",
    "        ce_1 = cross_entropy.eval(feed_dict={x:test_inputs_1[1:], y_:test_labels[:1], keep_prob:1.0})\n",
    "        ce_2 = cross_entropy.eval(feed_dict={x:test_inputs_2[1:], y_:test_labels[1:], keep_prob:1.0})\n",
    "        y_conv_1 = sess.run(net['y_conv'], feed_dict={x:test_inputs_1[1:], keep_prob:1.0})\n",
    "        y_conv_2 = sess.run(net['y_conv'], feed_dict={x:test_inputs_2[1:], keep_prob:1.0})\n",
    "        acc_1 = accuracy.eval(feed_dict={x:test_inputs_1[1:], y_:test_labels[:1], keep_prob:1})\n",
    "        acc_2 = accuracy.eval(feed_dict={x:test_inputs_2[1:], y_:test_labels[1:], keep_prob:1})\n",
    "        y_conv_1 = y_conv_1 / np.linalg.norm(y_conv_1)\n",
    "        y_conv_2 = y_conv_2 / np.linalg.norm(y_conv_2)\n",
    "\n",
    "        test_df.loc[i, 'in_distance_1'] = in_distance_1\n",
    "        test_df.loc[i, 'per_distance_1'] = per_distance_1[0]\n",
    "        test_df.loc[i, 'cross_entropy_1'] = ce_1\n",
    "        test_df.loc[i, 'y_conv_1'] = y_conv_1[0,np.argmax(test_labels[0], axis=0)]\n",
    "        test_df.loc[i, 'accuracy_1'] = acc_1\n",
    "        \n",
    "        test_df.loc[i, 'in_distance_2'] = in_distance_2\n",
    "        test_df.loc[i, 'per_distance_2'] = per_distance_2[0]\n",
    "        test_df.loc[i, 'cross_entropy_2'] = ce_2\n",
    "        test_df.loc[i, 'y_conv_2'] = y_conv_2[0,np.argmax(test_labels[1], axis=0)]\n",
    "        test_df.loc[i, 'accuracy_2'] = acc_2\n",
    "        "
   ]
  },
  {
   "cell_type": "code",
   "execution_count": 8,
   "metadata": {},
   "outputs": [
    {
     "data": {
      "text/html": [
       "<div>\n",
       "<style>\n",
       "    .dataframe thead tr:only-child th {\n",
       "        text-align: right;\n",
       "    }\n",
       "\n",
       "    .dataframe thead th {\n",
       "        text-align: left;\n",
       "    }\n",
       "\n",
       "    .dataframe tbody tr th {\n",
       "        vertical-align: top;\n",
       "    }\n",
       "</style>\n",
       "<table border=\"1\" class=\"dataframe\">\n",
       "  <thead>\n",
       "    <tr style=\"text-align: right;\">\n",
       "      <th></th>\n",
       "      <th>in_distance_1</th>\n",
       "      <th>in_distance_2</th>\n",
       "      <th>per_distance_1</th>\n",
       "      <th>per_distance_2</th>\n",
       "      <th>cross_entropy_1</th>\n",
       "      <th>cross_entropy_2</th>\n",
       "      <th>y_conv_1</th>\n",
       "      <th>y_conv_2</th>\n",
       "      <th>accuracy_1</th>\n",
       "      <th>accuracy_2</th>\n",
       "    </tr>\n",
       "  </thead>\n",
       "  <tbody>\n",
       "    <tr>\n",
       "      <th>0</th>\n",
       "      <td>0.15803</td>\n",
       "      <td>9.77164</td>\n",
       "      <td>0</td>\n",
       "      <td>0</td>\n",
       "      <td>0.00283768</td>\n",
       "      <td>6.9799</td>\n",
       "      <td>0.822983</td>\n",
       "      <td>0.0874918</td>\n",
       "      <td>1</td>\n",
       "      <td>0</td>\n",
       "    </tr>\n",
       "    <tr>\n",
       "      <th>1</th>\n",
       "      <td>0.316059</td>\n",
       "      <td>9.72022</td>\n",
       "      <td>0</td>\n",
       "      <td>0</td>\n",
       "      <td>0.00378998</td>\n",
       "      <td>6.65263</td>\n",
       "      <td>0.820784</td>\n",
       "      <td>0.0970084</td>\n",
       "      <td>1</td>\n",
       "      <td>0</td>\n",
       "    </tr>\n",
       "    <tr>\n",
       "      <th>2</th>\n",
       "      <td>0.474089</td>\n",
       "      <td>9.6711</td>\n",
       "      <td>0</td>\n",
       "      <td>0</td>\n",
       "      <td>0.005095</td>\n",
       "      <td>6.31795</td>\n",
       "      <td>0.818092</td>\n",
       "      <td>0.1074</td>\n",
       "      <td>1</td>\n",
       "      <td>0</td>\n",
       "    </tr>\n",
       "    <tr>\n",
       "      <th>3</th>\n",
       "      <td>0.632118</td>\n",
       "      <td>9.62433</td>\n",
       "      <td>0</td>\n",
       "      <td>0</td>\n",
       "      <td>0.00685791</td>\n",
       "      <td>5.9913</td>\n",
       "      <td>0.815291</td>\n",
       "      <td>0.11731</td>\n",
       "      <td>1</td>\n",
       "      <td>0</td>\n",
       "    </tr>\n",
       "    <tr>\n",
       "      <th>4</th>\n",
       "      <td>0.790148</td>\n",
       "      <td>9.57994</td>\n",
       "      <td>0</td>\n",
       "      <td>0</td>\n",
       "      <td>0.00931193</td>\n",
       "      <td>5.66704</td>\n",
       "      <td>0.811608</td>\n",
       "      <td>0.127134</td>\n",
       "      <td>1</td>\n",
       "      <td>0</td>\n",
       "    </tr>\n",
       "  </tbody>\n",
       "</table>\n",
       "</div>"
      ],
      "text/plain": [
       "  in_distance_1 in_distance_2 per_distance_1 per_distance_2 cross_entropy_1  \\\n",
       "0       0.15803       9.77164              0              0      0.00283768   \n",
       "1      0.316059       9.72022              0              0      0.00378998   \n",
       "2      0.474089        9.6711              0              0        0.005095   \n",
       "3      0.632118       9.62433              0              0      0.00685791   \n",
       "4      0.790148       9.57994              0              0      0.00931193   \n",
       "\n",
       "  cross_entropy_2  y_conv_1   y_conv_2 accuracy_1 accuracy_2  \n",
       "0          6.9799  0.822983  0.0874918          1          0  \n",
       "1         6.65263  0.820784  0.0970084          1          0  \n",
       "2         6.31795  0.818092     0.1074          1          0  \n",
       "3          5.9913  0.815291    0.11731          1          0  \n",
       "4         5.66704  0.811608   0.127134          1          0  "
      ]
     },
     "execution_count": 8,
     "metadata": {},
     "output_type": "execute_result"
    }
   ],
   "source": [
    "test_df.head()"
   ]
  },
  {
   "cell_type": "code",
   "execution_count": 9,
   "metadata": {
    "collapsed": true
   },
   "outputs": [],
   "source": [
    "def regress(X, y, xlab, ylab):\n",
    "    \n",
    "    print(X.shape,y.shape)\n",
    "\n",
    "    # Split the data into training/testing sets\n",
    "    X_train = X[:-20]\n",
    "    X_test = X[-20:]\n",
    "\n",
    "    # Split the targets into training/testing sets\n",
    "    y_train = y[:-20]\n",
    "    y_test = y[-20:]\n",
    "\n",
    "    # Create linear regression object\n",
    "    regr = linear_model.LinearRegression()\n",
    "\n",
    "    # Train the model using the training sets\n",
    "    regr.fit(X_train, y_train)\n",
    "\n",
    "    # The coefficients\n",
    "    print('Coefficients: ', regr.coef_)\n",
    "    # The mean squared error\n",
    "    print(\"Mean squared error: %.2f\"\n",
    "          % np.mean((regr.predict(X_test) - y_test) ** 2))\n",
    "    # Explained variance score: 1 is perfect prediction\n",
    "    print('Variance score: %.2f' % regr.score(X_test, y_test))\n",
    "    print('R^2: %.2f' % r2_score(y_test, regr.predict(X_test)))\n",
    "    \n",
    "    fig, ax = plt.subplots()\n",
    "    X_min = np.min(X)\n",
    "    X_max = np.max(X)\n",
    "    y_min = np.min(y)\n",
    "    y_max = np.max(y)\n",
    "    # Plot outputs\n",
    "    \n",
    "    ax.scatter(X, y,  color='black')\n",
    "    ax.plot(X, regr.predict(X), color='blue', linewidth=3)\n",
    "\n",
    "\n",
    "    ax.set_xlim(X_min, X_max)\n",
    "    ax.set_ylim(y_min, y_max)\n",
    "    \n",
    "    plt.xlabel(xlab)\n",
    "    plt.ylabel(ylab)\n",
    "    plt.title('{} vs {}'.format(xlab, ylab))\n",
    "\n",
    "    plt.show()\n"
   ]
  },
  {
   "cell_type": "code",
   "execution_count": 10,
   "metadata": {},
   "outputs": [
    {
     "name": "stdout",
     "output_type": "stream",
     "text": [
      "((200, 1), (200,))\n",
      "('Coefficients: ', array([ 0.]))\n",
      "Mean squared error: 0.00\n",
      "Variance score: 1.00\n",
      "R^2: 1.00\n"
     ]
    },
    {
     "name": "stderr",
     "output_type": "stream",
     "text": [
      "/home/tgebhart/.virtualenvs/tf_activation/local/lib/python2.7/site-packages/matplotlib/axes/_base.py:3193: UserWarning: Attempting to set identical bottom==top results\n",
      "in singular transformations; automatically expanding.\n",
      "bottom=0.0, top=0.0\n",
      "  'bottom=%s, top=%s') % (bottom, top))\n"
     ]
    },
    {
     "data": {
      "image/png": "[encoded data removed]",
      "text/plain": [
       "<matplotlib.figure.Figure at 0x7f940b13bf10>"
      ]
     },
     "metadata": {},
     "output_type": "display_data"
    }
   ],
   "source": [
    "X = test_df['in_distance_1'].as_matrix()\n",
    "X = X.reshape((X.shape[0], 1))\n",
    "y = test_df['per_distance_1'].as_matrix()\n",
    "regress(X, y, 'Input Distance 1', 'Persistence Distance 1')"
   ]
  },
  {
   "cell_type": "code",
   "execution_count": 11,
   "metadata": {},
   "outputs": [
    {
     "name": "stdout",
     "output_type": "stream",
     "text": [
      "((26, 1), (26,))\n",
      "('Coefficients: ', array([ 0.]))\n",
      "Mean squared error: 0.00\n",
      "Variance score: 1.00\n",
      "R^2: 1.00\n"
     ]
    },
    {
     "data": {
      "image/png": "[encoded data removed]",
      "text/plain": [
       "<matplotlib.figure.Figure at 0x7f93881382d0>"
      ]
     },
     "metadata": {},
     "output_type": "display_data"
    }
   ],
   "source": [
    "X = test_df['in_distance_1'].as_matrix()\n",
    "X = X.reshape((X.shape[0], 1))\n",
    "y = test_df['per_distance_1'].as_matrix()\n",
    "regress(X[:26], y[:26], 'Input Distance 1', 'Persistence Distance 1')"
   ]
  },
  {
   "cell_type": "code",
   "execution_count": 12,
   "metadata": {},
   "outputs": [
    {
     "name": "stdout",
     "output_type": "stream",
     "text": [
      "((200, 1), (200,))\n",
      "('Coefficients: ', array([ 0.]))\n",
      "Mean squared error: 0.00\n",
      "Variance score: 1.00\n",
      "R^2: 1.00\n"
     ]
    },
    {
     "data": {
      "image/png": "[encoded data removed]",
      "text/plain": [
       "<matplotlib.figure.Figure at 0x7f9352783bd0>"
      ]
     },
     "metadata": {},
     "output_type": "display_data"
    }
   ],
   "source": [
    "X = test_df['cross_entropy_1'].as_matrix()\n",
    "X = X.reshape((X.shape[0], 1))\n",
    "regress(X, y, 'Cross-Entropy 1', 'Persistence Distance 1')"
   ]
  },
  {
   "cell_type": "code",
   "execution_count": 13,
   "metadata": {},
   "outputs": [
    {
     "name": "stdout",
     "output_type": "stream",
     "text": [
      "((26, 1), (26,))\n",
      "('Coefficients: ', array([ 0.]))\n",
      "Mean squared error: 0.00\n",
      "Variance score: 1.00\n",
      "R^2: 1.00\n"
     ]
    },
    {
     "data": {
      "image/png": "[encoded data removed]",
      "text/plain": [
       "<matplotlib.figure.Figure at 0x7f9352734690>"
      ]
     },
     "metadata": {},
     "output_type": "display_data"
    }
   ],
   "source": [
    "X = test_df['cross_entropy_1'].as_matrix()\n",
    "X = X.reshape((X.shape[0], 1))\n",
    "regress(X[:26], y[:26], 'Cross-Entropy 1', 'Persistence Distance 1')"
   ]
  },
  {
   "cell_type": "code",
   "execution_count": 14,
   "metadata": {},
   "outputs": [
    {
     "name": "stdout",
     "output_type": "stream",
     "text": [
      "((200, 1), (200,))\n",
      "('Coefficients: ', array([-0.]))\n",
      "Mean squared error: 0.00\n",
      "Variance score: 1.00\n",
      "R^2: 1.00\n"
     ]
    },
    {
     "data": {
      "image/png": "[encoded data removed]",
      "text/plain": [
       "<matplotlib.figure.Figure at 0x7f935265da10>"
      ]
     },
     "metadata": {},
     "output_type": "display_data"
    }
   ],
   "source": [
    "X = test_df['y_conv_1'].as_matrix()\n",
    "X = X.reshape((X.shape[0], 1))\n",
    "regress(X, y, 'Correct Class Probability 1', 'Persistence Distance 1')"
   ]
  },
  {
   "cell_type": "code",
   "execution_count": 15,
   "metadata": {},
   "outputs": [
    {
     "name": "stdout",
     "output_type": "stream",
     "text": [
      "((26, 1), (26,))\n",
      "('Coefficients: ', array([-0.]))\n",
      "Mean squared error: 0.00\n",
      "Variance score: 1.00\n",
      "R^2: 1.00\n"
     ]
    },
    {
     "data": {
      "image/png": "[encoded data removed]",
      "text/plain": [
       "<matplotlib.figure.Figure at 0x7f935265d110>"
      ]
     },
     "metadata": {},
     "output_type": "display_data"
    }
   ],
   "source": [
    "X = test_df['y_conv_1'].as_matrix()\n",
    "X = X.reshape((X.shape[0], 1))\n",
    "regress(X[:26], y[:26], 'Correct Class Probability 1', 'Persistence Distance 1')"
   ]
  },
  {
   "cell_type": "code",
   "execution_count": 16,
   "metadata": {},
   "outputs": [
    {
     "name": "stdout",
     "output_type": "stream",
     "text": [
      "((200, 1), (200,))\n",
      "('Coefficients: ', array([ 0.]))\n",
      "Mean squared error: 0.00\n",
      "Variance score: 1.00\n",
      "R^2: 1.00\n"
     ]
    },
    {
     "data": {
      "image/png": "[encoded data removed]",
      "text/plain": [
       "<matplotlib.figure.Figure at 0x7f9388138ed0>"
      ]
     },
     "metadata": {},
     "output_type": "display_data"
    }
   ],
   "source": [
    "X = test_df['in_distance_2'].as_matrix()\n",
    "X = X.reshape((X.shape[0], 1))\n",
    "y = test_df['per_distance_2'].as_matrix()\n",
    "regress(X, y, 'Input Distance 2', 'Persistence Distance 2')"
   ]
  },
  {
   "cell_type": "code",
   "execution_count": 17,
   "metadata": {},
   "outputs": [
    {
     "name": "stdout",
     "output_type": "stream",
     "text": [
      "((200, 1), (200,))\n",
      "('Coefficients: ', array([-0.]))\n",
      "Mean squared error: 0.00\n",
      "Variance score: 1.00\n",
      "R^2: 1.00\n"
     ]
    },
    {
     "data": {
      "image/png": "[encoded data removed]",
      "text/plain": [
       "<matplotlib.figure.Figure at 0x7f93523c9d50>"
      ]
     },
     "metadata": {},
     "output_type": "display_data"
    }
   ],
   "source": [
    "X = test_df['cross_entropy_2'].as_matrix()\n",
    "X = X.reshape((X.shape[0], 1))\n",
    "regress(X, y, 'Cross-Entropy 2', 'Persistence Distance 2')"
   ]
  },
  {
   "cell_type": "code",
   "execution_count": 18,
   "metadata": {},
   "outputs": [
    {
     "name": "stdout",
     "output_type": "stream",
     "text": [
      "((200, 1), (200,))\n",
      "('Coefficients: ', array([ 0.]))\n",
      "Mean squared error: 0.00\n",
      "Variance score: 1.00\n",
      "R^2: 1.00\n"
     ]
    },
    {
     "data": {
      "image/png": "[encoded data removed]",
      "text/plain": [
       "<matplotlib.figure.Figure at 0x7f93881b2090>"
      ]
     },
     "metadata": {},
     "output_type": "display_data"
    }
   ],
   "source": [
    "X = test_df['y_conv_2'].as_matrix()\n",
    "X = X.reshape((X.shape[0], 1))\n",
    "regress(X, y, 'Correct Class Probability 2', 'Persistence Distance 2')"
   ]
  },
  {
   "cell_type": "code",
   "execution_count": null,
   "metadata": {
    "collapsed": true
   },
   "outputs": [],
   "source": []
  },
  {
   "cell_type": "code",
   "execution_count": null,
   "metadata": {
    "collapsed": true
   },
   "outputs": [],
   "source": []
  }
 ],
 "metadata": {
  "kernelspec": {
   "display_name": "Python 2",
   "language": "python",
   "name": "python2"
  },
  "language_info": {
   "codemirror_mode": {
    "name": "ipython",
    "version": 2
   },
   "file_extension": ".py",
   "mimetype": "text/x-python",
   "name": "python",
   "nbconvert_exporter": "python",
   "pygments_lexer": "ipython2",
   "version": "2.7.13"
  }
 },
 "nbformat": 4,
 "nbformat_minor": 2
}
