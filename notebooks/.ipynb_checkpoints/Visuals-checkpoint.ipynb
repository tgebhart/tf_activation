{
 "cells": [
  {
   "cell_type": "code",
   "execution_count": 1,
   "metadata": {
    "collapsed": true
   },
   "outputs": [],
   "source": [
    "%load_ext autoreload\n",
    "%autoreload 2\n",
    "from tf_activation import DeepGraph\n",
    "from tf_activation.models import mnist_cff as mnist_model\n",
    "\n",
    "import math\n",
    "import random\n",
    "import os\n",
    "\n",
    "import networkx as nx\n",
    "import tensorflow as tf\n",
    "import numpy as np\n",
    "%matplotlib inline\n",
    "import matplotlib.pyplot as plt\n",
    "\n",
    "from tensorflow.examples.tutorials.mnist import input_data"
   ]
  },
  {
   "cell_type": "code",
   "execution_count": 3,
   "metadata": {},
   "outputs": [
    {
     "name": "stdout",
     "output_type": "stream",
     "text": [
      "Extracting MNIST_data/train-images-idx3-ubyte.gz\n",
      "Extracting MNIST_data/train-labels-idx1-ubyte.gz\n",
      "Extracting MNIST_data/t10k-images-idx3-ubyte.gz\n",
      "Extracting MNIST_data/t10k-labels-idx1-ubyte.gz\n"
     ]
    }
   ],
   "source": [
    "mnist_map = {\n",
    "    0: 3,\n",
    "    1: 2,\n",
    "    2: 1,\n",
    "    3: 18,\n",
    "    4: 4,\n",
    "    5: 8,\n",
    "    6: 11,\n",
    "    7: 0,\n",
    "    8: 61,\n",
    "    9: 7\n",
    "}\n",
    "\n",
    "SAVE_PATH = '../logdir/models'\n",
    "ADV_PATH = '../logdir/adversaries'\n",
    "ELITE_PATH = '../logdir/adversaries'\n",
    "DATA_PATH = '../logdir/data'\n",
    "\n",
    "mnist = input_data.read_data_sets('MNIST_data', one_hot=True)\n",
    "\n",
    "config = tf.ConfigProto()\n",
    "config.gpu_options.per_process_gpu_memory_fraction = 0.5\n",
    "config.gpu_options.allocator_type = 'BFC'\n",
    "config.log_device_placement = True\n",
    "\n",
    "persistence_module = tf.load_op_library('/home/tgebhart/python/tensorflow/bazel-bin/tensorflow/core/user_ops/nn_graph_persistence.so')"
   ]
  },
  {
   "cell_type": "code",
   "execution_count": 4,
   "metadata": {
    "collapsed": true
   },
   "outputs": [],
   "source": [
    "elite_1  = np.genfromtxt(os.path.join(DATA_PATH, 'persistence_1_elite.csv'), delimiter=',')\n",
    "adv_1 = np.genfromtxt(os.path.join(DATA_PATH, 'persistence_1_adversary.csv'), delimiter=',')\n",
    "p_1 = np.genfromtxt(os.path.join(DATA_PATH, 'persistence_3.csv'), delimiter=',')\n",
    "\n",
    "elite_5  = np.genfromtxt(os.path.join(DATA_PATH, 'persistence_5_elite.csv'), delimiter=',')\n",
    "adv_5 = np.genfromtxt(os.path.join(DATA_PATH, 'persistence_5_adversary.csv'), delimiter=',')\n",
    "p_5 = np.genfromtxt(os.path.join(DATA_PATH, 'persistence_5.csv'), delimiter=',')\n",
    "\n",
    "elite_8  = np.genfromtxt(os.path.join(DATA_PATH, 'persistence_8_elite.csv'), delimiter=',')\n",
    "adv_8 = np.genfromtxt(os.path.join(DATA_PATH, 'persistence_8_adversary.csv'), delimiter=',')\n",
    "p_8 = np.genfromtxt(os.path.join(DATA_PATH, 'persistence_8.csv'), delimiter=',')"
   ]
  },
  {
   "cell_type": "code",
   "execution_count": 5,
   "metadata": {
    "collapsed": true
   },
   "outputs": [],
   "source": [
    "def filteryx(row):\n",
    "    return row[0] <= row[1]"
   ]
  },
  {
   "cell_type": "code",
   "execution_count": 6,
   "metadata": {
    "collapsed": true
   },
   "outputs": [],
   "source": [
    "bool_arr = np.array([filteryx(row) for row in elite_1])\n",
    "yx_elite_1 = elite_1[bool_arr]\n",
    "\n",
    "bool_arr = np.array([filteryx(row) for row in adv_1])\n",
    "yx_adv_1 = adv_1[bool_arr]\n",
    "\n",
    "bool_arr = np.array([filteryx(row) for row in p_1])\n",
    "yx_p_1 = p_1[bool_arr]\n",
    "\n",
    "bool_arr = np.array([filteryx(row) for row in elite_5])\n",
    "yx_elite_5 = elite_5[bool_arr]\n",
    "\n",
    "bool_arr = np.array([filteryx(row) for row in adv_5])\n",
    "yx_adv_5 = adv_5[bool_arr]\n",
    "\n",
    "bool_arr = np.array([filteryx(row) for row in p_5])\n",
    "yx_p_5 = p_5[bool_arr]\n",
    "\n",
    "bool_arr = np.array([filteryx(row) for row in elite_8])\n",
    "yx_elite_8 = elite_8[bool_arr]\n",
    "\n",
    "bool_arr = np.array([filteryx(row) for row in adv_8])\n",
    "yx_adv_8 = adv_8[bool_arr]\n",
    "\n",
    "bool_arr = np.array([filteryx(row) for row in p_8])\n",
    "yx_p_8 = p_8[bool_arr]\n"
   ]
  },
  {
   "cell_type": "code",
   "execution_count": null,
   "metadata": {
    "collapsed": true
   },
   "outputs": [],
   "source": []
  },
  {
   "cell_type": "code",
   "execution_count": null,
   "metadata": {
    "collapsed": true
   },
   "outputs": [],
   "source": []
  },
  {
   "cell_type": "code",
   "execution_count": 7,
   "metadata": {},
   "outputs": [
    {
     "data": {
      "image/png": "[encoded data removed]",
      "text/plain": [
       "<matplotlib.figure.Figure at 0x7f64a1c7fa10>"
      ]
     },
     "metadata": {},
     "output_type": "display_data"
    },
    {
     "data": {
      "image/png": "[encoded data removed]",
      "text/plain": [
       "<matplotlib.figure.Figure at 0x7f64a1b8e190>"
      ]
     },
     "metadata": {},
     "output_type": "display_data"
    },
    {
     "data": {
      "image/png": "[encoded data removed]",
      "text/plain": [
       "<matplotlib.figure.Figure at 0x7f64a13cea10>"
      ]
     },
     "metadata": {},
     "output_type": "display_data"
    }
   ],
   "source": [
    "ijk = [yx_elite_1, yx_adv_1, yx_p_1]\n",
    "for yx in ijk:\n",
    "    fig, ax = plt.subplots()\n",
    "    ax.scatter(yx[:,0], yx[:,1], s=25, c=yx[:,1]**2 - yx[:,0]**2, cmap=plt.cm.coolwarm, zorder=10)\n",
    "    lims = [\n",
    "        np.min([0, 1]),  # min of both axes\n",
    "        np.max([0, 1]),  # max of both axes\n",
    "    ]\n",
    "\n",
    "    # now plot both limits against eachother\n",
    "    ax.plot(lims, lims, 'k-', alpha=0.75, zorder=0)\n",
    "    ax.set_aspect('equal')\n",
    "    ax.set_xlim(lims)\n",
    "    ax.set_ylim(lims)\n",
    "    plt.xlabel('Birth Time')\n",
    "    plt.ylabel('Death Time')\n",
    "plt.show()"
   ]
  },
  {
   "cell_type": "code",
   "execution_count": null,
   "metadata": {
    "collapsed": true
   },
   "outputs": [],
   "source": []
  },
  {
   "cell_type": "code",
   "execution_count": null,
   "metadata": {
    "collapsed": true
   },
   "outputs": [],
   "source": []
  },
  {
   "cell_type": "code",
   "execution_count": 8,
   "metadata": {},
   "outputs": [
    {
     "data": {
      "image/png": "[encoded data removed]",
      "text/plain": [
       "<matplotlib.figure.Figure at 0x7f64a1c7f790>"
      ]
     },
     "metadata": {},
     "output_type": "display_data"
    },
    {
     "data": {
      "image/png": "[encoded data removed]",
      "text/plain": [
       "<matplotlib.figure.Figure at 0x7f649f25a390>"
      ]
     },
     "metadata": {},
     "output_type": "display_data"
    },
    {
     "data": {
      "image/png": "[encoded data removed]",
      "text/plain": [
       "<matplotlib.figure.Figure at 0x7f649f207610>"
      ]
     },
     "metadata": {},
     "output_type": "display_data"
    }
   ],
   "source": [
    "ijk = [yx_elite_5, yx_adv_5, yx_p_5]\n",
    "for yx in ijk:\n",
    "    fig, ax = plt.subplots()\n",
    "    ax.scatter(yx[:,0], yx[:,1], s=25, c=yx[:,1]**2 - yx[:,0]**2, cmap=plt.cm.coolwarm, zorder=10)\n",
    "    lims = [\n",
    "        np.min([0, 1]),  # min of both axes\n",
    "        np.max([0, 1]),  # max of both axes\n",
    "    ]\n",
    "\n",
    "    # now plot both limits against eachother\n",
    "    ax.plot(lims, lims, 'k-', alpha=0.75, zorder=0)\n",
    "    ax.set_aspect('equal')\n",
    "    ax.set_xlim(lims)\n",
    "    ax.set_ylim(lims)\n",
    "    plt.xlabel('Birth Time')\n",
    "    plt.ylabel('Death Time')\n",
    "plt.show()"
   ]
  },
  {
   "cell_type": "code",
   "execution_count": null,
   "metadata": {
    "collapsed": true
   },
   "outputs": [],
   "source": [
    "\n"
   ]
  },
  {
   "cell_type": "code",
   "execution_count": null,
   "metadata": {
    "collapsed": true
   },
   "outputs": [],
   "source": []
  },
  {
   "cell_type": "code",
   "execution_count": null,
   "metadata": {
    "collapsed": true
   },
   "outputs": [],
   "source": []
  },
  {
   "cell_type": "code",
   "execution_count": null,
   "metadata": {
    "collapsed": true
   },
   "outputs": [],
   "source": []
  },
  {
   "cell_type": "code",
   "execution_count": null,
   "metadata": {},
   "outputs": [],
   "source": [
    "ijk = [yx_elite_8, yx_adv_8, yx_p_8]\n",
    "for yx in ijk:\n",
    "    fig, ax = plt.subplots()\n",
    "    ax.scatter(yx[:,0], yx[:,1], s=25, c=yx[:,1]**2 - yx[:,0]**2, cmap=plt.cm.coolwarm, zorder=10)\n",
    "    lims = [\n",
    "        np.min([0, 1]),  # min of both axes\n",
    "        np.max([0, 1]),  # max of both axes\n",
    "    ]\n",
    "\n",
    "    # now plot both limits against eachother\n",
    "    ax.plot(lims, lims, 'k-', alpha=0.75, zorder=0)\n",
    "    ax.set_aspect('equal')\n",
    "    ax.set_xlim(lims)\n",
    "    ax.set_ylim(lims)\n",
    "    plt.xlabel('Birth Time')\n",
    "    plt.ylabel('Death Time')\n",
    "plt.show()"
   ]
  },
  {
   "cell_type": "code",
   "execution_count": null,
   "metadata": {
    "collapsed": true
   },
   "outputs": [],
   "source": []
  }
 ],
 "metadata": {
  "kernelspec": {
   "display_name": "Python 2",
   "language": "python",
   "name": "python2"
  },
  "language_info": {
   "codemirror_mode": {
    "name": "ipython",
    "version": 2
   },
   "file_extension": ".py",
   "mimetype": "text/x-python",
   "name": "python",
   "nbconvert_exporter": "python",
   "pygments_lexer": "ipython2",
   "version": "2.7.13"
  }
 },
 "nbformat": 4,
 "nbformat_minor": 2
}
