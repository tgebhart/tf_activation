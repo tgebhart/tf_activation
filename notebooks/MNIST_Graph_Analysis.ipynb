{
 "cells": [
  {
   "cell_type": "code",
   "execution_count": 1,
   "metadata": {
    "collapsed": true
   },
   "outputs": [],
   "source": [
    "%load_ext autoreload\n",
    "%autoreload 2\n",
    "from tf_activation import DeepGraph\n",
    "from tf_activation.models import mnist_cff as mnist_model\n",
    "\n",
    "import networkx as nx\n",
    "import numpy as np\n",
    "import tensorflow as tf\n",
    "\n",
    "from tensorflow.examples.tutorials.mnist import input_data"
   ]
  },
  {
   "cell_type": "code",
   "execution_count": 2,
   "metadata": {},
   "outputs": [
    {
     "name": "stdout",
     "output_type": "stream",
     "text": [
      "Extracting MNIST_data/train-images-idx3-ubyte.gz\n",
      "Extracting MNIST_data/train-labels-idx1-ubyte.gz\n",
      "Extracting MNIST_data/t10k-images-idx3-ubyte.gz\n",
      "Extracting MNIST_data/t10k-labels-idx1-ubyte.gz\n"
     ]
    }
   ],
   "source": [
    "mnist = input_data.read_data_sets('MNIST_data', one_hot=True)\n",
    "mnist_map = {\n",
    "    0: 3,\n",
    "    1: 2,\n",
    "    2: 1,\n",
    "    3: 18,\n",
    "    4: 4,\n",
    "    5: 8,\n",
    "    6: 11,\n",
    "    7: 0,\n",
    "    8: 61,\n",
    "    9: 7\n",
    "}\n"
   ]
  },
  {
   "cell_type": "code",
   "execution_count": 3,
   "metadata": {
    "collapsed": true
   },
   "outputs": [],
   "source": [
    "x = tf.placeholder(tf.float32, [None, 784])\n",
    "\n",
    "# Define loss and optimizer\n",
    "y_ = tf.placeholder(tf.float32, [None, 10])\n",
    "\n",
    "# Build the graph for the deep net\n",
    "net, keep_prob = mnist_model.deepnn(x)\n",
    "\n",
    "cross_entropy = tf.reduce_mean(tf.nn.softmax_cross_entropy_with_logits(labels=y_, logits=net['y_conv']))\n",
    "train_step = tf.train.AdamOptimizer(1e-4).minimize(cross_entropy)\n",
    "correct_prediction = tf.equal(tf.argmax(net['y_conv'], 1), tf.argmax(y_, 1))\n",
    "accuracy = tf.reduce_mean(tf.cast(correct_prediction, tf.float32))"
   ]
  },
  {
   "cell_type": "code",
   "execution_count": 4,
   "metadata": {
    "collapsed": true
   },
   "outputs": [],
   "source": [
    "dg = DeepGraph()"
   ]
  },
  {
   "cell_type": "code",
   "execution_count": null,
   "metadata": {
    "scrolled": false
   },
   "outputs": [
    {
     "name": "stdout",
     "output_type": "stream",
     "text": [
      "INFO:tensorflow:Restoring parameters from ../logdir/models/mnist_cff_2000.ckpt\n",
      "1.0\n",
      "((1, 28, 28, 32), (25088, 1024), (1, 1024))\n",
      "((1, 1024), (1024, 10), (1, 10))\n"
     ]
    }
   ],
   "source": [
    "saver = tf.train.Saver()\n",
    "im = mnist.test.images[mnist_map[7]]\n",
    "lab = mnist.test.labels[mnist_map[7]]\n",
    "\n",
    "with tf.Session() as sess:\n",
    "    saver.restore(sess, '../logdir/models/mnist_cff_2000.ckpt')\n",
    "    \n",
    "    this_im = np.reshape(im, (1, im.shape[0]))\n",
    "    this_lab = np.reshape(lab, (1, lab.shape[0]))\n",
    "    \n",
    "    print(accuracy.eval(feed_dict={x:this_im, y_:this_lab, keep_prob: 1.0}))\n",
    "    \n",
    "    conv1 = {}\n",
    "    conv1['W'] = sess.run(net['W_conv1'])\n",
    "    conv1['i'] = sess.run(net['input'], feed_dict={x:this_im})\n",
    "    conv1['o'] = sess.run(net['h_conv1'], feed_dict={x:this_im})\n",
    "        \n",
    "    fc1 = {}\n",
    "    fc1['W'] = sess.run(net['W_fc1'])\n",
    "    fc1['i'] = conv1['o']\n",
    "    fc1['o'] = sess.run(net['h_fc1'], feed_dict={x:this_im})\n",
    "        \n",
    "    fc2 = {}\n",
    "    fc2['W'] = sess.run(net['W_fc2'])\n",
    "    fc2['i'] = sess.run(net['h_fc1_drop'], feed_dict={x:this_im, keep_prob: 1.0})\n",
    "    fc2['o'] = sess.run(net['y_conv'], feed_dict={x:this_im,  keep_prob: 1.0})\n",
    "        \n",
    "    dg.add_conv_layer(conv1['i'], conv1['W'], conv1['o'], 0, 1, [1,1,1,1])\n",
    "    dg.add_fc_layer(fc1['i'], fc1['W'], fc1['o'], 1, 2)\n",
    "    dg.add_fc_layer(fc2['i'], fc2['W'], fc2['o'], 2, 3)\n",
    "    \n",
    "    del conv1\n",
    "    del fc1\n",
    "    del fc2\n",
    "    "
   ]
  },
  {
   "cell_type": "code",
   "execution_count": null,
   "metadata": {},
   "outputs": [],
   "source": [
    "dg.connect_layers()"
   ]
  },
  {
   "cell_type": "code",
   "execution_count": null,
   "metadata": {},
   "outputs": [],
   "source": []
  },
  {
   "cell_type": "code",
   "execution_count": null,
   "metadata": {},
   "outputs": [],
   "source": []
  },
  {
   "cell_type": "code",
   "execution_count": null,
   "metadata": {},
   "outputs": [],
   "source": []
  },
  {
   "cell_type": "code",
   "execution_count": null,
   "metadata": {
    "collapsed": true
   },
   "outputs": [],
   "source": []
  },
  {
   "cell_type": "code",
   "execution_count": null,
   "metadata": {},
   "outputs": [],
   "source": []
  },
  {
   "cell_type": "code",
   "execution_count": null,
   "metadata": {
    "collapsed": true
   },
   "outputs": [],
   "source": []
  }
 ],
 "metadata": {
  "kernelspec": {
   "display_name": "Python 2",
   "language": "python",
   "name": "python2"
  },
  "language_info": {
   "codemirror_mode": {
    "name": "ipython",
    "version": 2
   },
   "file_extension": ".py",
   "mimetype": "text/x-python",
   "name": "python",
   "nbconvert_exporter": "python",
   "pygments_lexer": "ipython2",
   "version": "2.7.13"
  }
 },
 "nbformat": 4,
 "nbformat_minor": 2
}
